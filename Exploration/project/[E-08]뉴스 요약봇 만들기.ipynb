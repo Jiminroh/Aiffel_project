{
 "cells": [
  {
   "cell_type": "markdown",
   "id": "142d4bd1",
   "metadata": {},
   "source": [
    "# Exploration 8 \n",
    "## 뉴스기사 요약해보기\n",
    "---"
   ]
  },
  {
   "cell_type": "markdown",
   "id": "80460d2d",
   "metadata": {},
   "source": [
    "## 목차 \n",
    "- Step 1. 데이터 수집하기\n",
    "- Step 2. 데이터 전처리하기 (추상적 요약)\n",
    "- Step 3. 어텐션 메커니즘 사용하기 (추상적 요약)\n",
    "- Step 4. 실제 결과와 요약문 비교하기 (추상적 요약)\n",
    "- Step 5. Summa을 이용해서 추출적 요약해보기\n",
    "---"
   ]
  },
  {
   "cell_type": "markdown",
   "id": "c0510405",
   "metadata": {},
   "source": [
    "# Step 0. Import"
   ]
  },
  {
   "cell_type": "code",
   "execution_count": 80,
   "id": "cac07db7",
   "metadata": {},
   "outputs": [
    {
     "name": "stderr",
     "output_type": "stream",
     "text": [
      "[nltk_data] Downloading package stopwords to /aiffel/nltk_data...\n",
      "[nltk_data]   Package stopwords is already up-to-date!\n"
     ]
    }
   ],
   "source": [
    "import nltk\n",
    "nltk.download('stopwords')\n",
    "\n",
    "import numpy as np\n",
    "import pandas as pd\n",
    "import os\n",
    "import re\n",
    "import matplotlib.pyplot as plt\n",
    "from nltk.corpus import stopwords\n",
    "from bs4 import BeautifulSoup \n",
    "from tensorflow.keras.preprocessing.text import Tokenizer \n",
    "from tensorflow.keras.preprocessing.sequence import pad_sequences\n",
    "import urllib.request\n",
    "import warnings\n",
    "warnings.filterwarnings(\"ignore\", category=UserWarning, module='bs4')\n",
    "\n",
    "from tensorflow.keras.layers import Input, LSTM, Embedding, Dense, Concatenate, TimeDistributed\n",
    "from tensorflow.keras.models import Model\n",
    "from tensorflow.keras.callbacks import EarlyStopping, ModelCheckpoint\n",
    "\n",
    "from tensorflow.keras.layers import AdditiveAttention\n",
    "\n",
    "import requests\n",
    "from summa.summarizer import summarize"
   ]
  },
  {
   "cell_type": "markdown",
   "id": "f7414254",
   "metadata": {},
   "source": [
    "# Step 1. 데이터 수집하기"
   ]
  },
  {
   "cell_type": "markdown",
   "id": "5e40beeb",
   "metadata": {},
   "source": [
    "### 데이터 다운로드\n",
    "데이터 \n",
    "- 뉴스 기사 데이터 (news_summary_more.csv)"
   ]
  },
  {
   "cell_type": "code",
   "execution_count": 2,
   "id": "821aa891",
   "metadata": {},
   "outputs": [],
   "source": [
    "import urllib.request\n",
    "urllib.request.urlretrieve(\"https://raw.githubusercontent.com/sunnysai12345/News_Summary/master/news_summary_more.csv\", filename=\"news_summary_more.csv\")\n",
    "data = pd.read_csv('news_summary_more.csv', encoding='iso-8859-1')"
   ]
  },
  {
   "cell_type": "markdown",
   "id": "142cacce",
   "metadata": {},
   "source": [
    "### data 확인"
   ]
  },
  {
   "cell_type": "code",
   "execution_count": 3,
   "id": "432c2a3e",
   "metadata": {
    "scrolled": true
   },
   "outputs": [
    {
     "data": {
      "text/html": [
       "<div>\n",
       "<style scoped>\n",
       "    .dataframe tbody tr th:only-of-type {\n",
       "        vertical-align: middle;\n",
       "    }\n",
       "\n",
       "    .dataframe tbody tr th {\n",
       "        vertical-align: top;\n",
       "    }\n",
       "\n",
       "    .dataframe thead th {\n",
       "        text-align: right;\n",
       "    }\n",
       "</style>\n",
       "<table border=\"1\" class=\"dataframe\">\n",
       "  <thead>\n",
       "    <tr style=\"text-align: right;\">\n",
       "      <th></th>\n",
       "      <th>headlines</th>\n",
       "      <th>text</th>\n",
       "    </tr>\n",
       "  </thead>\n",
       "  <tbody>\n",
       "    <tr>\n",
       "      <th>8573</th>\n",
       "      <td>Found Dhoni near Wagah border: Ganguly had jok...</td>\n",
       "      <td>Recalling the then Pakistan President Pervez M...</td>\n",
       "    </tr>\n",
       "    <tr>\n",
       "      <th>96311</th>\n",
       "      <td>S African anti-apartheid leader Ahmed Kathrada...</td>\n",
       "      <td>South African anti-apartheid leader Ahmed Kath...</td>\n",
       "    </tr>\n",
       "    <tr>\n",
       "      <th>41351</th>\n",
       "      <td>What becomes expensive, what gets cheaper from...</td>\n",
       "      <td>The items set to get costlier in financial yea...</td>\n",
       "    </tr>\n",
       "    <tr>\n",
       "      <th>21969</th>\n",
       "      <td>Thousands of cows stranded in France due to Ir...</td>\n",
       "      <td>Thousands of cows have been stranded in the Fr...</td>\n",
       "    </tr>\n",
       "    <tr>\n",
       "      <th>49866</th>\n",
       "      <td>Sequoia plans its largest-ever fundraising at ...</td>\n",
       "      <td>US-based venture capital firm Sequoia Capital ...</td>\n",
       "    </tr>\n",
       "    <tr>\n",
       "      <th>38733</th>\n",
       "      <td>Kim very talented man, loves his country very ...</td>\n",
       "      <td>After signing an unspecified agreement with th...</td>\n",
       "    </tr>\n",
       "    <tr>\n",
       "      <th>81365</th>\n",
       "      <td>Communal tension in U'khand over \"offensive\" K...</td>\n",
       "      <td>Communal tension broke out in Uttarakhand's Sa...</td>\n",
       "    </tr>\n",
       "    <tr>\n",
       "      <th>29717</th>\n",
       "      <td>No 'suitable' house, want to stay in govt bung...</td>\n",
       "      <td>Former UP CM Mulayam Singh Yadav has written t...</td>\n",
       "    </tr>\n",
       "    <tr>\n",
       "      <th>61948</th>\n",
       "      <td>Flight's engine bursts into flames as it lands...</td>\n",
       "      <td>The engine of a Hawaiian Airlines flight burst...</td>\n",
       "    </tr>\n",
       "    <tr>\n",
       "      <th>41244</th>\n",
       "      <td>How did the tradition of April Fools' Day orig...</td>\n",
       "      <td>nAccording to one theory, when the new year da...</td>\n",
       "    </tr>\n",
       "  </tbody>\n",
       "</table>\n",
       "</div>"
      ],
      "text/plain": [
       "                                               headlines  \\\n",
       "8573   Found Dhoni near Wagah border: Ganguly had jok...   \n",
       "96311  S African anti-apartheid leader Ahmed Kathrada...   \n",
       "41351  What becomes expensive, what gets cheaper from...   \n",
       "21969  Thousands of cows stranded in France due to Ir...   \n",
       "49866  Sequoia plans its largest-ever fundraising at ...   \n",
       "38733  Kim very talented man, loves his country very ...   \n",
       "81365  Communal tension in U'khand over \"offensive\" K...   \n",
       "29717  No 'suitable' house, want to stay in govt bung...   \n",
       "61948  Flight's engine bursts into flames as it lands...   \n",
       "41244  How did the tradition of April Fools' Day orig...   \n",
       "\n",
       "                                                    text  \n",
       "8573   Recalling the then Pakistan President Pervez M...  \n",
       "96311  South African anti-apartheid leader Ahmed Kath...  \n",
       "41351  The items set to get costlier in financial yea...  \n",
       "21969  Thousands of cows have been stranded in the Fr...  \n",
       "49866  US-based venture capital firm Sequoia Capital ...  \n",
       "38733  After signing an unspecified agreement with th...  \n",
       "81365  Communal tension broke out in Uttarakhand's Sa...  \n",
       "29717  Former UP CM Mulayam Singh Yadav has written t...  \n",
       "61948  The engine of a Hawaiian Airlines flight burst...  \n",
       "41244  nAccording to one theory, when the new year da...  "
      ]
     },
     "execution_count": 3,
     "metadata": {},
     "output_type": "execute_result"
    }
   ],
   "source": [
    "data.sample(10)"
   ]
  },
  {
   "cell_type": "code",
   "execution_count": 4,
   "id": "65a3188f",
   "metadata": {},
   "outputs": [
    {
     "name": "stdout",
     "output_type": "stream",
     "text": [
      "전체 샘플수 :  98401\n"
     ]
    }
   ],
   "source": [
    "print('전체 샘플수 : ', len(data))"
   ]
  },
  {
   "cell_type": "markdown",
   "id": "ab01c9e7",
   "metadata": {},
   "source": [
    "# Step 2. 데이터 전처리하기 (추상적 요약)"
   ]
  },
  {
   "cell_type": "markdown",
   "id": "057118b7",
   "metadata": {},
   "source": [
    "### 중복 샘플과 NULL 값이 존재하는 샘플 제거"
   ]
  },
  {
   "cell_type": "markdown",
   "id": "1dc95e39",
   "metadata": {},
   "source": [
    "중복 샘플 처리"
   ]
  },
  {
   "cell_type": "code",
   "execution_count": 6,
   "id": "546e167a",
   "metadata": {},
   "outputs": [
    {
     "name": "stdout",
     "output_type": "stream",
     "text": [
      "text 열에서 중복을 배제한 유일한 샘플의 수 : 98360\n",
      "headlines 열에서 중복을 배제한 유일한 샘플의 수 : 98280\n"
     ]
    }
   ],
   "source": [
    "print('text 열에서 중복을 배제한 유일한 샘플의 수 :', data['text'].nunique())\n",
    "print('headlines 열에서 중복을 배제한 유일한 샘플의 수 :', data['headlines'].nunique())"
   ]
  },
  {
   "cell_type": "code",
   "execution_count": 8,
   "id": "eb957b02",
   "metadata": {},
   "outputs": [
    {
     "name": "stdout",
     "output_type": "stream",
     "text": [
      "전체 샘플수 : 98360\n"
     ]
    }
   ],
   "source": [
    "data.drop_duplicates(subset = ['text'], inplace=True)\n",
    "print('전체 샘플수 :', (len(data)))"
   ]
  },
  {
   "cell_type": "markdown",
   "id": "327959ec",
   "metadata": {},
   "source": [
    "NULL값 처리"
   ]
  },
  {
   "cell_type": "code",
   "execution_count": 9,
   "id": "8f76ef92",
   "metadata": {},
   "outputs": [
    {
     "name": "stdout",
     "output_type": "stream",
     "text": [
      "headlines    0\n",
      "text         0\n",
      "dtype: int64\n"
     ]
    }
   ],
   "source": [
    "# NULL값 확인\n",
    "print(data.isnull().sum())"
   ]
  },
  {
   "cell_type": "code",
   "execution_count": 10,
   "id": "6c813db0",
   "metadata": {},
   "outputs": [
    {
     "name": "stdout",
     "output_type": "stream",
     "text": [
      "전체 샘플수 : 98360\n"
     ]
    }
   ],
   "source": [
    "# NULL값 제거\n",
    "data.dropna(axis=0, inplace=True)\n",
    "print('전체 샘플수 :', (len(data)))"
   ]
  },
  {
   "cell_type": "markdown",
   "id": "cad2b7a0",
   "metadata": {},
   "source": [
    "### 텍스트 정규화와 불용어 제거"
   ]
  },
  {
   "cell_type": "markdown",
   "id": "fda1114d",
   "metadata": {},
   "source": [
    "정규화 사전 확인"
   ]
  },
  {
   "cell_type": "code",
   "execution_count": 11,
   "id": "6e99e6ce",
   "metadata": {},
   "outputs": [
    {
     "name": "stdout",
     "output_type": "stream",
     "text": [
      "정규화 사전의 수:  120\n"
     ]
    }
   ],
   "source": [
    "# 정규화 사전 사용\n",
    "contractions = {\"ain't\": \"is not\", \"aren't\": \"are not\",\"can't\": \"cannot\", \"'cause\": \"because\", \"could've\": \"could have\", \"couldn't\": \"could not\",\n",
    "                           \"didn't\": \"did not\",  \"doesn't\": \"does not\", \"don't\": \"do not\", \"hadn't\": \"had not\", \"hasn't\": \"has not\", \"haven't\": \"have not\",\n",
    "                           \"he'd\": \"he would\",\"he'll\": \"he will\", \"he's\": \"he is\", \"how'd\": \"how did\", \"how'd'y\": \"how do you\", \"how'll\": \"how will\", \"how's\": \"how is\",\n",
    "                           \"I'd\": \"I would\", \"I'd've\": \"I would have\", \"I'll\": \"I will\", \"I'll've\": \"I will have\",\"I'm\": \"I am\", \"I've\": \"I have\", \"i'd\": \"i would\",\n",
    "                           \"i'd've\": \"i would have\", \"i'll\": \"i will\",  \"i'll've\": \"i will have\",\"i'm\": \"i am\", \"i've\": \"i have\", \"isn't\": \"is not\", \"it'd\": \"it would\",\n",
    "                           \"it'd've\": \"it would have\", \"it'll\": \"it will\", \"it'll've\": \"it will have\",\"it's\": \"it is\", \"let's\": \"let us\", \"ma'am\": \"madam\",\n",
    "                           \"mayn't\": \"may not\", \"might've\": \"might have\",\"mightn't\": \"might not\",\"mightn't've\": \"might not have\", \"must've\": \"must have\",\n",
    "                           \"mustn't\": \"must not\", \"mustn't've\": \"must not have\", \"needn't\": \"need not\", \"needn't've\": \"need not have\",\"o'clock\": \"of the clock\",\n",
    "                           \"oughtn't\": \"ought not\", \"oughtn't've\": \"ought not have\", \"shan't\": \"shall not\", \"sha'n't\": \"shall not\", \"shan't've\": \"shall not have\",\n",
    "                           \"she'd\": \"she would\", \"she'd've\": \"she would have\", \"she'll\": \"she will\", \"she'll've\": \"she will have\", \"she's\": \"she is\",\n",
    "                           \"should've\": \"should have\", \"shouldn't\": \"should not\", \"shouldn't've\": \"should not have\", \"so've\": \"so have\",\"so's\": \"so as\",\n",
    "                           \"this's\": \"this is\",\"that'd\": \"that would\", \"that'd've\": \"that would have\", \"that's\": \"that is\", \"there'd\": \"there would\",\n",
    "                           \"there'd've\": \"there would have\", \"there's\": \"there is\", \"here's\": \"here is\",\"they'd\": \"they would\", \"they'd've\": \"they would have\",\n",
    "                           \"they'll\": \"they will\", \"they'll've\": \"they will have\", \"they're\": \"they are\", \"they've\": \"they have\", \"to've\": \"to have\",\n",
    "                           \"wasn't\": \"was not\", \"we'd\": \"we would\", \"we'd've\": \"we would have\", \"we'll\": \"we will\", \"we'll've\": \"we will have\", \"we're\": \"we are\",\n",
    "                           \"we've\": \"we have\", \"weren't\": \"were not\", \"what'll\": \"what will\", \"what'll've\": \"what will have\", \"what're\": \"what are\",\n",
    "                           \"what's\": \"what is\", \"what've\": \"what have\", \"when's\": \"when is\", \"when've\": \"when have\", \"where'd\": \"where did\", \"where's\": \"where is\",\n",
    "                           \"where've\": \"where have\", \"who'll\": \"who will\", \"who'll've\": \"who will have\", \"who's\": \"who is\", \"who've\": \"who have\",\n",
    "                           \"why's\": \"why is\", \"why've\": \"why have\", \"will've\": \"will have\", \"won't\": \"will not\", \"won't've\": \"will not have\",\n",
    "                           \"would've\": \"would have\", \"wouldn't\": \"would not\", \"wouldn't've\": \"would not have\", \"y'all\": \"you all\",\n",
    "                           \"y'all'd\": \"you all would\",\"y'all'd've\": \"you all would have\",\"y'all're\": \"you all are\",\"y'all've\": \"you all have\",\n",
    "                           \"you'd\": \"you would\", \"you'd've\": \"you would have\", \"you'll\": \"you will\", \"you'll've\": \"you will have\",\n",
    "                           \"you're\": \"you are\", \"you've\": \"you have\"}\n",
    "\n",
    "print(\"정규화 사전의 수: \", len(contractions))"
   ]
  },
  {
   "cell_type": "markdown",
   "id": "966536d1",
   "metadata": {},
   "source": [
    "불용어 확인"
   ]
  },
  {
   "cell_type": "code",
   "execution_count": 12,
   "id": "2d7b50e3",
   "metadata": {
    "scrolled": true
   },
   "outputs": [
    {
     "name": "stdout",
     "output_type": "stream",
     "text": [
      "불용어 개수 : 179\n",
      "['i', 'me', 'my', 'myself', 'we', 'our', 'ours', 'ourselves', 'you', \"you're\", \"you've\", \"you'll\", \"you'd\", 'your', 'yours', 'yourself', 'yourselves', 'he', 'him', 'his', 'himself', 'she', \"she's\", 'her', 'hers', 'herself', 'it', \"it's\", 'its', 'itself', 'they', 'them', 'their', 'theirs', 'themselves', 'what', 'which', 'who', 'whom', 'this', 'that', \"that'll\", 'these', 'those', 'am', 'is', 'are', 'was', 'were', 'be', 'been', 'being', 'have', 'has', 'had', 'having', 'do', 'does', 'did', 'doing', 'a', 'an', 'the', 'and', 'but', 'if', 'or', 'because', 'as', 'until', 'while', 'of', 'at', 'by', 'for', 'with', 'about', 'against', 'between', 'into', 'through', 'during', 'before', 'after', 'above', 'below', 'to', 'from', 'up', 'down', 'in', 'out', 'on', 'off', 'over', 'under', 'again', 'further', 'then', 'once', 'here', 'there', 'when', 'where', 'why', 'how', 'all', 'any', 'both', 'each', 'few', 'more', 'most', 'other', 'some', 'such', 'no', 'nor', 'not', 'only', 'own', 'same', 'so', 'than', 'too', 'very', 's', 't', 'can', 'will', 'just', 'don', \"don't\", 'should', \"should've\", 'now', 'd', 'll', 'm', 'o', 're', 've', 'y', 'ain', 'aren', \"aren't\", 'couldn', \"couldn't\", 'didn', \"didn't\", 'doesn', \"doesn't\", 'hadn', \"hadn't\", 'hasn', \"hasn't\", 'haven', \"haven't\", 'isn', \"isn't\", 'ma', 'mightn', \"mightn't\", 'mustn', \"mustn't\", 'needn', \"needn't\", 'shan', \"shan't\", 'shouldn', \"shouldn't\", 'wasn', \"wasn't\", 'weren', \"weren't\", 'won', \"won't\", 'wouldn', \"wouldn't\"]\n"
     ]
    }
   ],
   "source": [
    "print('불용어 개수 :', len(stopwords.words('english') ))\n",
    "print(stopwords.words('english'))"
   ]
  },
  {
   "cell_type": "markdown",
   "id": "54dc7a2d",
   "metadata": {},
   "source": [
    "데이터 전처리 함수 만들기"
   ]
  },
  {
   "cell_type": "code",
   "execution_count": 14,
   "id": "4c658019",
   "metadata": {},
   "outputs": [],
   "source": [
    "# 데이터 전처리 함수\n",
    "def preprocess_sentence(sentence, remove_stopwords=True):\n",
    "    sentence = sentence.lower() # 텍스트 소문자화\n",
    "    sentence = BeautifulSoup(sentence, \"lxml\").text # <br />, <a href = ...> 등의 html 태그 제거\n",
    "    sentence = re.sub(r'\\([^)]*\\)', '', sentence) # 괄호로 닫힌 문자열 (...) 제거 Ex) my husband (and myself!) for => my husband for\n",
    "    sentence = re.sub('\"','', sentence) # 쌍따옴표 \" 제거\n",
    "    sentence = ' '.join([contractions[t] if t in contractions else t for t in sentence.split(\" \")]) # 약어 정규화\n",
    "    sentence = re.sub(r\"'s\\b\",\"\", sentence) # 소유격 제거. Ex) roland's -> roland\n",
    "    sentence = re.sub(\"[^a-zA-Z]\", \" \", sentence) # 영어 외 문자(숫자, 특수문자 등) 공백으로 변환\n",
    "    sentence = re.sub('[m]{2,}', 'mm', sentence) # m이 3개 이상이면 2개로 변경. Ex) ummmmmmm yeah -> umm yeah\n",
    "    \n",
    "    # 불용어 제거 (text)\n",
    "    if remove_stopwords:\n",
    "        tokens = ' '.join(word for word in sentence.split() if not word in stopwords.words('english') if len(word) > 1)\n",
    "    # 불용어 미제거 (headlines)\n",
    "    else:\n",
    "        tokens = ' '.join(word for word in sentence.split() if len(word) > 1)\n",
    "    return tokens"
   ]
  },
  {
   "cell_type": "markdown",
   "id": "07a88f61",
   "metadata": {},
   "source": [
    "함수 성능 확인"
   ]
  },
  {
   "cell_type": "code",
   "execution_count": 15,
   "id": "4cd3374c",
   "metadata": {},
   "outputs": [
    {
     "name": "stdout",
     "output_type": "stream",
     "text": [
      "text:  everything bought great infact ordered twice third ordered wasfor mother father\n",
      "summary: great way to start the day\n"
     ]
    }
   ],
   "source": [
    "temp_text = 'Everything I bought was great, infact I ordered twice and the third ordered was<br />for my mother and father.'\n",
    "temp_headlines = 'Great way to start (or finish) the day!!!'\n",
    "\n",
    "print(\"text: \", preprocess_sentence(temp_text))\n",
    "print(\"headlines:\", preprocess_sentence(temp_headlines, False))  # 불용어를 제거하지 않습니다."
   ]
  },
  {
   "cell_type": "markdown",
   "id": "2238b363",
   "metadata": {},
   "source": [
    "text 데이터 전처리"
   ]
  },
  {
   "cell_type": "code",
   "execution_count": 17,
   "id": "69af2072",
   "metadata": {},
   "outputs": [],
   "source": [
    "clean_text = []\n",
    "# 전체 Text 데이터에 대한 전처리 : 10분 이상 시간이 걸릴 수 있습니다. \n",
    "for s in data['text']:\n",
    "    clean_text.append(preprocess_sentence(s))"
   ]
  },
  {
   "cell_type": "markdown",
   "id": "748debc2",
   "metadata": {},
   "source": [
    "headlines 데이터 전처리"
   ]
  },
  {
   "cell_type": "code",
   "execution_count": 18,
   "id": "c4b2669d",
   "metadata": {},
   "outputs": [],
   "source": [
    "clean_headlines = []\n",
    "# 전체 headlines 데이터에 대한 전처리 : 5분 이상 시간이 걸릴 수 있습니다. \n",
    "for s in data['headlines']:\n",
    "    clean_headlines.append(preprocess_sentence(s, False))"
   ]
  },
  {
   "cell_type": "markdown",
   "id": "fa30a598",
   "metadata": {},
   "source": [
    "데이터 정제과정 후 empty 샘플이 생겼는지 확인"
   ]
  },
  {
   "cell_type": "code",
   "execution_count": 20,
   "id": "77878c49",
   "metadata": {},
   "outputs": [],
   "source": [
    "data['text'] = clean_text\n",
    "data['headlines'] = clean_headlines\n",
    "\n",
    "# 빈 값을 Null 값으로 변환\n",
    "data.replace('', np.nan, inplace=True)"
   ]
  },
  {
   "cell_type": "code",
   "execution_count": 21,
   "id": "934f3397",
   "metadata": {},
   "outputs": [
    {
     "data": {
      "text/plain": [
       "headlines    0\n",
       "text         0\n",
       "dtype: int64"
      ]
     },
     "execution_count": 21,
     "metadata": {},
     "output_type": "execute_result"
    }
   ],
   "source": [
    "data.isnull().sum()"
   ]
  },
  {
   "cell_type": "markdown",
   "id": "1f320044",
   "metadata": {},
   "source": [
    "### 샘플의 최대 길이 정하기"
   ]
  },
  {
   "cell_type": "markdown",
   "id": "5d8051c8",
   "metadata": {},
   "source": [
    "text와 headlines의 최소, 최대, 평균 길이를 구하고 길이 분포를 시각화"
   ]
  },
  {
   "cell_type": "code",
   "execution_count": 22,
   "id": "e974c2e2",
   "metadata": {},
   "outputs": [
    {
     "name": "stdout",
     "output_type": "stream",
     "text": [
      "텍스트의 최소 길이 : 1\n",
      "텍스트의 최대 길이 : 60\n",
      "텍스트의 평균 길이 : 35.09968483123221\n",
      "요약의 최소 길이 : 1\n",
      "요약의 최대 길이 : 16\n",
      "요약의 평균 길이 : 9.299532330215534\n"
     ]
    },
    {
     "data": {
      "image/png": "[encoded data removed]",
      "text/plain": [
       "<Figure size 432x288 with 2 Axes>"
      ]
     },
     "metadata": {
      "needs_background": "light"
     },
     "output_type": "display_data"
    },
    {
     "data": {
      "image/png": "[encoded data removed]",
      "text/plain": [
       "<Figure size 432x288 with 1 Axes>"
      ]
     },
     "metadata": {
      "needs_background": "light"
     },
     "output_type": "display_data"
    },
    {
     "data": {
      "image/png": "[encoded data removed]",
      "text/plain": [
       "<Figure size 432x288 with 1 Axes>"
      ]
     },
     "metadata": {
      "needs_background": "light"
     },
     "output_type": "display_data"
    }
   ],
   "source": [
    "# 길이 분포 출력\n",
    "import matplotlib.pyplot as plt\n",
    "\n",
    "text_len = [len(s.split()) for s in data['text']]\n",
    "headlines_len = [len(s.split()) for s in data['headlines']]\n",
    "\n",
    "print('텍스트의 최소 길이 : {}'.format(np.min(text_len)))\n",
    "print('텍스트의 최대 길이 : {}'.format(np.max(text_len)))\n",
    "print('텍스트의 평균 길이 : {}'.format(np.mean(text_len)))\n",
    "print('요약의 최소 길이 : {}'.format(np.min(headlines_len)))\n",
    "print('요약의 최대 길이 : {}'.format(np.max(headlines_len)))\n",
    "print('요약의 평균 길이 : {}'.format(np.mean(headlines_len)))\n",
    "\n",
    "plt.subplot(1,2,1)\n",
    "plt.boxplot(text_len)\n",
    "plt.title('text')\n",
    "plt.subplot(1,2,2)\n",
    "plt.boxplot(headlines_len)\n",
    "plt.title('headlines')\n",
    "plt.tight_layout()\n",
    "plt.show()\n",
    "\n",
    "plt.title('text')\n",
    "plt.hist(text_len, bins = 40)\n",
    "plt.xlabel('length of samples')\n",
    "plt.ylabel('number of samples')\n",
    "plt.show()\n",
    "\n",
    "plt.title('headlines')\n",
    "plt.hist(headlines_len, bins = 40)\n",
    "plt.xlabel('length of samples')\n",
    "plt.ylabel('number of samples')\n",
    "plt.show()"
   ]
  },
  {
   "cell_type": "markdown",
   "id": "b32b0ea5",
   "metadata": {},
   "source": [
    "최대 길이 정하기"
   ]
  },
  {
   "cell_type": "code",
   "execution_count": 23,
   "id": "acca5df5",
   "metadata": {},
   "outputs": [],
   "source": [
    "text_max_len = 40\n",
    "headlines_max_len = 11"
   ]
  },
  {
   "cell_type": "markdown",
   "id": "43cfdec9",
   "metadata": {},
   "source": [
    "정한 최대 길이의 비율 확인"
   ]
  },
  {
   "cell_type": "code",
   "execution_count": 24,
   "id": "6153b5c2",
   "metadata": {},
   "outputs": [
    {
     "name": "stdout",
     "output_type": "stream",
     "text": [
      "전체 샘플 중 길이가 40 이하인 샘플의 비율: 0.9238714924766165\n",
      "전체 샘플 중 길이가 11 이하인 샘플의 비율: 0.9449877999186661\n"
     ]
    }
   ],
   "source": [
    "def below_threshold_len(max_len, nested_list):\n",
    "  cnt = 0\n",
    "  for s in nested_list:\n",
    "    if(len(s.split()) <= max_len):\n",
    "        cnt = cnt + 1\n",
    "  print('전체 샘플 중 길이가 %s 이하인 샘플의 비율: %s'%(max_len, (cnt / len(nested_list))))\n",
    "\n",
    "below_threshold_len(text_max_len, data['text'])\n",
    "below_threshold_len(headlines_max_len,  data['headlines'])"
   ]
  },
  {
   "cell_type": "markdown",
   "id": "7bf14480",
   "metadata": {},
   "source": [
    "정해진 길이보다 실면 제거"
   ]
  },
  {
   "cell_type": "code",
   "execution_count": 25,
   "id": "5ab00468",
   "metadata": {},
   "outputs": [
    {
     "name": "stdout",
     "output_type": "stream",
     "text": [
      "전체 샘플수 : 85843\n"
     ]
    }
   ],
   "source": [
    "data = data[data['text'].apply(lambda x: len(x.split()) <= text_max_len)]\n",
    "data = data[data['headlines'].apply(lambda x: len(x.split()) <= headlines_max_len)]\n",
    "print('전체 샘플수 :', (len(data)))"
   ]
  },
  {
   "cell_type": "markdown",
   "id": "0ee43ec7",
   "metadata": {},
   "source": [
    "### 시작 토큰과 종료 토큰 추가하기\n",
    "- 시작토큰: sostoken\n",
    "- 종료토큰: eostoken\n",
    "- decoger_input: 디코더의 입력에 해당하면서 시작 토큰이 맨 앞에 있는 문장의 이름\n",
    "- decoder_target: 디코더의 출력 또는 레이블에 해당되면서 종료 토큰이 맨 뒤에 붙는 문장의 이름"
   ]
  },
  {
   "cell_type": "code",
   "execution_count": 26,
   "id": "8a1f0731",
   "metadata": {},
   "outputs": [
    {
     "data": {
      "text/html": [
       "<div>\n",
       "<style scoped>\n",
       "    .dataframe tbody tr th:only-of-type {\n",
       "        vertical-align: middle;\n",
       "    }\n",
       "\n",
       "    .dataframe tbody tr th {\n",
       "        vertical-align: top;\n",
       "    }\n",
       "\n",
       "    .dataframe thead th {\n",
       "        text-align: right;\n",
       "    }\n",
       "</style>\n",
       "<table border=\"1\" class=\"dataframe\">\n",
       "  <thead>\n",
       "    <tr style=\"text-align: right;\">\n",
       "      <th></th>\n",
       "      <th>headlines</th>\n",
       "      <th>text</th>\n",
       "      <th>decoder_input</th>\n",
       "      <th>decoder_target</th>\n",
       "    </tr>\n",
       "  </thead>\n",
       "  <tbody>\n",
       "    <tr>\n",
       "      <th>0</th>\n",
       "      <td>upgrad learner switches to career in ml al wit...</td>\n",
       "      <td>saurav kant alumnus upgrad iiit pg program mac...</td>\n",
       "      <td>sostoken upgrad learner switches to career in ...</td>\n",
       "      <td>upgrad learner switches to career in ml al wit...</td>\n",
       "    </tr>\n",
       "    <tr>\n",
       "      <th>2</th>\n",
       "      <td>new zealand end rohit sharma led india match w...</td>\n",
       "      <td>new zealand defeated india wickets fourth odi ...</td>\n",
       "      <td>sostoken new zealand end rohit sharma led indi...</td>\n",
       "      <td>new zealand end rohit sharma led india match w...</td>\n",
       "    </tr>\n",
       "    <tr>\n",
       "      <th>3</th>\n",
       "      <td>aegon life iterm insurance plan helps customer...</td>\n",
       "      <td>aegon life iterm insurance plan customers enjo...</td>\n",
       "      <td>sostoken aegon life iterm insurance plan helps...</td>\n",
       "      <td>aegon life iterm insurance plan helps customer...</td>\n",
       "    </tr>\n",
       "    <tr>\n",
       "      <th>5</th>\n",
       "      <td>rahat fateh ali khan denies getting notice for...</td>\n",
       "      <td>pakistani singer rahat fateh ali khan denied r...</td>\n",
       "      <td>sostoken rahat fateh ali khan denies getting n...</td>\n",
       "      <td>rahat fateh ali khan denies getting notice for...</td>\n",
       "    </tr>\n",
       "    <tr>\n",
       "      <th>7</th>\n",
       "      <td>govt directs alok verma to join work day befor...</td>\n",
       "      <td>weeks ex cbi director alok verma told departme...</td>\n",
       "      <td>sostoken govt directs alok verma to join work ...</td>\n",
       "      <td>govt directs alok verma to join work day befor...</td>\n",
       "    </tr>\n",
       "  </tbody>\n",
       "</table>\n",
       "</div>"
      ],
      "text/plain": [
       "                                           headlines  \\\n",
       "0  upgrad learner switches to career in ml al wit...   \n",
       "2  new zealand end rohit sharma led india match w...   \n",
       "3  aegon life iterm insurance plan helps customer...   \n",
       "5  rahat fateh ali khan denies getting notice for...   \n",
       "7  govt directs alok verma to join work day befor...   \n",
       "\n",
       "                                                text  \\\n",
       "0  saurav kant alumnus upgrad iiit pg program mac...   \n",
       "2  new zealand defeated india wickets fourth odi ...   \n",
       "3  aegon life iterm insurance plan customers enjo...   \n",
       "5  pakistani singer rahat fateh ali khan denied r...   \n",
       "7  weeks ex cbi director alok verma told departme...   \n",
       "\n",
       "                                       decoder_input  \\\n",
       "0  sostoken upgrad learner switches to career in ...   \n",
       "2  sostoken new zealand end rohit sharma led indi...   \n",
       "3  sostoken aegon life iterm insurance plan helps...   \n",
       "5  sostoken rahat fateh ali khan denies getting n...   \n",
       "7  sostoken govt directs alok verma to join work ...   \n",
       "\n",
       "                                      decoder_target  \n",
       "0  upgrad learner switches to career in ml al wit...  \n",
       "2  new zealand end rohit sharma led india match w...  \n",
       "3  aegon life iterm insurance plan helps customer...  \n",
       "5  rahat fateh ali khan denies getting notice for...  \n",
       "7  govt directs alok verma to join work day befor...  "
      ]
     },
     "execution_count": 26,
     "metadata": {},
     "output_type": "execute_result"
    }
   ],
   "source": [
    "# 요약 데이터에는 시작 토큰과 종료 토큰을 추가한다.\n",
    "data['decoder_input'] = data['headlines'].apply(lambda x : 'sostoken '+ x)\n",
    "data['decoder_target'] = data['headlines'].apply(lambda x : x + ' eostoken')\n",
    "data.head()"
   ]
  },
  {
   "cell_type": "code",
   "execution_count": 27,
   "id": "702e6486",
   "metadata": {},
   "outputs": [],
   "source": [
    "# Numpy타입으로 변환\n",
    "encoder_input = np.array(data['text']) # 인코더의 입력\n",
    "decoder_input = np.array(data['decoder_input']) # 디코더의 입력\n",
    "decoder_target = np.array(data['decoder_target']) # 디코더의 레이블"
   ]
  },
  {
   "cell_type": "markdown",
   "id": "b6491529",
   "metadata": {},
   "source": [
    "### train, test 직접 분리"
   ]
  },
  {
   "cell_type": "code",
   "execution_count": 28,
   "id": "c785b4a9",
   "metadata": {},
   "outputs": [
    {
     "name": "stdout",
     "output_type": "stream",
     "text": [
      "[51487 51079 21797 ... 68706 33947 12156]\n"
     ]
    }
   ],
   "source": [
    "indices = np.arange(encoder_input.shape[0])\n",
    "np.random.shuffle(indices)\n",
    "print(indices)"
   ]
  },
  {
   "cell_type": "code",
   "execution_count": 29,
   "id": "c7d15692",
   "metadata": {},
   "outputs": [
    {
     "name": "stdout",
     "output_type": "stream",
     "text": [
      "테스트 데이터의 수 : 17168\n"
     ]
    }
   ],
   "source": [
    "encoder_input = encoder_input[indices]\n",
    "decoder_input = decoder_input[indices]\n",
    "decoder_target = decoder_target[indices]\n",
    "\n",
    "n_of_val = int(len(encoder_input)*0.2)\n",
    "print('테스트 데이터의 수 :', n_of_val)"
   ]
  },
  {
   "cell_type": "code",
   "execution_count": 30,
   "id": "75800435",
   "metadata": {},
   "outputs": [
    {
     "name": "stdout",
     "output_type": "stream",
     "text": [
      "훈련 데이터의 개수 : 68675\n",
      "훈련 레이블의 개수 : 68675\n",
      "테스트 데이터의 개수 : 17168\n",
      "테스트 레이블의 개수 : 17168\n"
     ]
    }
   ],
   "source": [
    "encoder_input_train = encoder_input[:-n_of_val]\n",
    "decoder_input_train = decoder_input[:-n_of_val]\n",
    "decoder_target_train = decoder_target[:-n_of_val]\n",
    "\n",
    "encoder_input_test = encoder_input[-n_of_val:]\n",
    "decoder_input_test = decoder_input[-n_of_val:]\n",
    "decoder_target_test = decoder_target[-n_of_val:]\n",
    "\n",
    "print('훈련 데이터의 개수 :', len(encoder_input_train))\n",
    "print('훈련 레이블의 개수 :', len(decoder_input_train))\n",
    "print('테스트 데이터의 개수 :', len(encoder_input_test))\n",
    "print('테스트 레이블의 개수 :', len(decoder_input_test))"
   ]
  },
  {
   "cell_type": "markdown",
   "id": "2858ffe8",
   "metadata": {},
   "source": [
    "### 단어 집합(vocabylary) 만들기 및 정수 인코딩"
   ]
  },
  {
   "cell_type": "markdown",
   "id": "3a345c06",
   "metadata": {},
   "source": [
    "keras의 토크나이저 사용"
   ]
  },
  {
   "cell_type": "code",
   "execution_count": 31,
   "id": "6272233a",
   "metadata": {},
   "outputs": [],
   "source": [
    "src_tokenizer = Tokenizer() # 토크나이저 정의\n",
    "src_tokenizer.fit_on_texts(encoder_input_train) # 입력된 데이터로부터 단어 집합 생성"
   ]
  },
  {
   "cell_type": "markdown",
   "id": "ecd813c6",
   "metadata": {},
   "source": [
    "위에서 만든 vocabulary에 저장되 있는 단어 중 빈도수가 7 미만인 단어들이 이데이터에서 얼만큼의 비중을 차지하는지 확인"
   ]
  },
  {
   "cell_type": "code",
   "execution_count": 37,
   "id": "01ef2a9a",
   "metadata": {},
   "outputs": [
    {
     "name": "stdout",
     "output_type": "stream",
     "text": [
      "단어 집합(vocabulary)의 크기 : 64758\n",
      "등장 빈도가 6번 이하인 희귀 단어의 수: 44163\n",
      "단어 집합에서 희귀 단어를 제외시킬 경우의 단어 집합의 크기 20595\n",
      "단어 집합에서 희귀 단어의 비율: 68.1969795237654\n",
      "전체 등장 빈도에서 희귀 단어 등장 빈도 비율: 3.7827022155755\n"
     ]
    }
   ],
   "source": [
    "threshold = 7\n",
    "total_cnt = len(src_tokenizer.word_index) # 단어의 수\n",
    "rare_cnt = 0 # 등장 빈도수가 threshold보다 작은 단어의 개수를 카운트\n",
    "total_freq = 0 # 훈련 데이터의 전체 단어 빈도수 총 합\n",
    "rare_freq = 0 # 등장 빈도수가 threshold보다 작은 단어의 등장 빈도수의 총 합\n",
    "\n",
    "# 단어와 빈도수의 쌍(pair)을 key와 value로 받는다.\n",
    "for key, value in src_tokenizer.word_counts.items():\n",
    "    total_freq = total_freq + value\n",
    "\n",
    "    # 단어의 등장 빈도수가 threshold보다 작으면\n",
    "    if(value < threshold):\n",
    "        rare_cnt = rare_cnt + 1\n",
    "        rare_freq = rare_freq + value\n",
    "\n",
    "print('단어 집합(vocabulary)의 크기 :', total_cnt)\n",
    "print('등장 빈도가 %s번 이하인 희귀 단어의 수: %s'%(threshold - 1, rare_cnt))\n",
    "print('단어 집합에서 희귀 단어를 제외시킬 경우의 단어 집합의 크기 %s'%(total_cnt - rare_cnt))\n",
    "print(\"단어 집합에서 희귀 단어의 비율:\", (rare_cnt / total_cnt)*100)\n",
    "print(\"전체 등장 빈도에서 희귀 단어 등장 빈도 비율:\", (rare_freq / total_freq)*100)"
   ]
  },
  {
   "cell_type": "markdown",
   "id": "ac7ec0d4",
   "metadata": {},
   "source": [
    "빈도수가 3.4%밖에 안되므로 제거 후 다시 vocabulary만들기"
   ]
  },
  {
   "cell_type": "code",
   "execution_count": 38,
   "id": "12e82eed",
   "metadata": {},
   "outputs": [],
   "source": [
    "src_vocab = 20000\n",
    "src_tokenizer = Tokenizer(num_words=src_vocab) # 단어 집합의 크기를 20,000으로 제한\n",
    "src_tokenizer.fit_on_texts(encoder_input_train) # 단어 집합 재생성"
   ]
  },
  {
   "cell_type": "code",
   "execution_count": 39,
   "id": "7b1aa9d3",
   "metadata": {},
   "outputs": [
    {
     "name": "stdout",
     "output_type": "stream",
     "text": [
      "[[11489, 383, 27, 1567, 1162, 6938, 4291, 252, 322, 114, 43, 149, 1810, 3038, 1017, 722, 4291, 2172, 3038, 994, 104, 215, 5850, 569, 104, 3821, 885, 3, 14, 11489, 6654, 1017, 1519, 114], [11, 117, 3992, 13, 2053, 578, 62, 90, 3993, 50, 3302, 1, 747, 1959, 1586, 938, 6751, 22, 824, 172, 3, 7414, 90, 3302, 556, 190, 13, 22, 208, 2022, 2262, 165, 3967, 1329, 14723, 3803], [128, 1316, 2200, 2556, 418, 63, 184, 10, 14724, 28, 3, 32, 573, 3177, 2726, 418, 16118, 933, 14152, 609, 1, 1349, 2200, 2556, 24, 574, 5370, 312, 331, 2377, 923, 6393]]\n"
     ]
    }
   ],
   "source": [
    "# 텍스트 시퀀스를 정수 시퀀스로 변환\n",
    "encoder_input_train = src_tokenizer.texts_to_sequences(encoder_input_train) \n",
    "encoder_input_test = src_tokenizer.texts_to_sequences(encoder_input_test)\n",
    "\n",
    "# 잘 진행되었는지 샘플 출력\n",
    "print(encoder_input_train[:3])"
   ]
  },
  {
   "cell_type": "markdown",
   "id": "27447cee",
   "metadata": {},
   "source": [
    "headlines도 똑같이 수행"
   ]
  },
  {
   "cell_type": "code",
   "execution_count": 40,
   "id": "1214fdbf",
   "metadata": {},
   "outputs": [],
   "source": [
    "tar_tokenizer = Tokenizer()\n",
    "tar_tokenizer.fit_on_texts(decoder_input_train)"
   ]
  },
  {
   "cell_type": "code",
   "execution_count": 42,
   "id": "64c3a754",
   "metadata": {},
   "outputs": [
    {
     "name": "stdout",
     "output_type": "stream",
     "text": [
      "단어 집합(vocabulary)의 크기 : 28507\n",
      "등장 빈도가 3번 이하인 희귀 단어의 수: 16209\n",
      "단어 집합에서 희귀 단어를 제외시킬 경우의 단어 집합의 크기 12298\n",
      "단어 집합에서 희귀 단어의 비율: 56.85971866559091\n",
      "전체 등장 빈도에서 희귀 단어 등장 빈도 비율: 3.529768761603985\n"
     ]
    }
   ],
   "source": [
    "threshold = 4\n",
    "total_cnt = len(tar_tokenizer.word_index) # 단어의 수\n",
    "rare_cnt = 0 # 등장 빈도수가 threshold보다 작은 단어의 개수를 카운트\n",
    "total_freq = 0 # 훈련 데이터의 전체 단어 빈도수 총 합\n",
    "rare_freq = 0 # 등장 빈도수가 threshold보다 작은 단어의 등장 빈도수의 총 합\n",
    "\n",
    "# 단어와 빈도수의 쌍(pair)을 key와 value로 받는다.\n",
    "for key, value in tar_tokenizer.word_counts.items():\n",
    "    total_freq = total_freq + value\n",
    "\n",
    "    # 단어의 등장 빈도수가 threshold보다 작으면\n",
    "    if(value < threshold):\n",
    "        rare_cnt = rare_cnt + 1\n",
    "        rare_freq = rare_freq + value\n",
    "\n",
    "print('단어 집합(vocabulary)의 크기 :', total_cnt)\n",
    "print('등장 빈도가 %s번 이하인 희귀 단어의 수: %s'%(threshold - 1, rare_cnt))\n",
    "print('단어 집합에서 희귀 단어를 제외시킬 경우의 단어 집합의 크기 %s'%(total_cnt - rare_cnt))\n",
    "print(\"단어 집합에서 희귀 단어의 비율:\", (rare_cnt / total_cnt)*100)\n",
    "print(\"전체 등장 빈도에서 희귀 단어 등장 빈도 비율:\", (rare_freq / total_freq)*100)"
   ]
  },
  {
   "cell_type": "code",
   "execution_count": 43,
   "id": "ac44f1dc",
   "metadata": {},
   "outputs": [
    {
     "name": "stdout",
     "output_type": "stream",
     "text": [
      "input\n",
      "input  [[1, 2611, 3164, 645, 99, 2926, 1221, 666, 1064], [1, 108, 157, 1559, 3, 44, 7570, 7, 836, 13, 421, 36], [1, 146, 641, 165, 1829, 1222, 1037, 231, 129, 8909], [1, 679, 6, 5398, 1251, 4912, 392, 545], [1, 1351, 761, 3009, 2190, 14, 5658, 679]]\n",
      "target\n",
      "decoder  [[2611, 3164, 645, 99, 2926, 1221, 666, 1064, 2], [108, 157, 1559, 3, 44, 7570, 7, 836, 13, 421, 36, 2], [146, 641, 165, 1829, 1222, 1037, 231, 129, 8909, 2], [679, 6, 5398, 1251, 4912, 392, 545, 2], [1351, 761, 3009, 2190, 14, 5658, 679, 2]]\n"
     ]
    }
   ],
   "source": [
    "tar_vocab = 10000\n",
    "tar_tokenizer = Tokenizer(num_words=tar_vocab) \n",
    "tar_tokenizer.fit_on_texts(decoder_input_train)\n",
    "tar_tokenizer.fit_on_texts(decoder_target_train)\n",
    "\n",
    "# 텍스트 시퀀스를 정수 시퀀스로 변환\n",
    "decoder_input_train = tar_tokenizer.texts_to_sequences(decoder_input_train) \n",
    "decoder_target_train = tar_tokenizer.texts_to_sequences(decoder_target_train)\n",
    "decoder_input_test = tar_tokenizer.texts_to_sequences(decoder_input_test)\n",
    "decoder_target_test = tar_tokenizer.texts_to_sequences(decoder_target_test)\n",
    "\n",
    "# 잘 변환되었는지 확인\n",
    "print('input')\n",
    "print('input ',decoder_input_train[:5])\n",
    "print('target')\n",
    "print('decoder ',decoder_target_train[:5])"
   ]
  },
  {
   "cell_type": "markdown",
   "id": "5855a1b1",
   "metadata": {},
   "source": [
    "훈련 데이터와 테스트 데이터에 대해서 요약문의 길이가 1인 경우의 인덱스를 각각 drop_train과 drop_test에 라는 변수에 저장"
   ]
  },
  {
   "cell_type": "code",
   "execution_count": 44,
   "id": "2d65009a",
   "metadata": {},
   "outputs": [
    {
     "name": "stdout",
     "output_type": "stream",
     "text": [
      "삭제할 훈련 데이터의 개수 : 0\n",
      "삭제할 테스트 데이터의 개수 : 0\n",
      "훈련 데이터의 개수 : 68675\n",
      "훈련 레이블의 개수 : 68675\n",
      "테스트 데이터의 개수 : 17168\n",
      "테스트 레이블의 개수 : 17168\n"
     ]
    }
   ],
   "source": [
    "drop_train = [index for index, sentence in enumerate(decoder_input_train) if len(sentence) == 1]\n",
    "drop_test = [index for index, sentence in enumerate(decoder_input_test) if len(sentence) == 1]\n",
    "\n",
    "print('삭제할 훈련 데이터의 개수 :', len(drop_train))\n",
    "print('삭제할 테스트 데이터의 개수 :', len(drop_test))\n",
    "\n",
    "encoder_input_train = [sentence for index, sentence in enumerate(encoder_input_train) if index not in drop_train]\n",
    "decoder_input_train = [sentence for index, sentence in enumerate(decoder_input_train) if index not in drop_train]\n",
    "decoder_target_train = [sentence for index, sentence in enumerate(decoder_target_train) if index not in drop_train]\n",
    "\n",
    "encoder_input_test = [sentence for index, sentence in enumerate(encoder_input_test) if index not in drop_test]\n",
    "decoder_input_test = [sentence for index, sentence in enumerate(decoder_input_test) if index not in drop_test]\n",
    "decoder_target_test = [sentence for index, sentence in enumerate(decoder_target_test) if index not in drop_test]\n",
    "\n",
    "print('훈련 데이터의 개수 :', len(encoder_input_train))\n",
    "print('훈련 레이블의 개수 :', len(decoder_input_train))\n",
    "print('테스트 데이터의 개수 :', len(encoder_input_test))\n",
    "print('테스트 레이블의 개수 :', len(decoder_input_test))"
   ]
  },
  {
   "cell_type": "markdown",
   "id": "fe8299f4",
   "metadata": {},
   "source": [
    "### 패딩 하기"
   ]
  },
  {
   "cell_type": "code",
   "execution_count": 46,
   "id": "b33402d2",
   "metadata": {},
   "outputs": [],
   "source": [
    "# post 사용\n",
    "encoder_input_train = pad_sequences(encoder_input_train, maxlen=text_max_len, padding='post')\n",
    "encoder_input_test = pad_sequences(encoder_input_test, maxlen=text_max_len, padding='post')\n",
    "decoder_input_train = pad_sequences(decoder_input_train, maxlen=headlines_max_len, padding='post')\n",
    "decoder_target_train = pad_sequences(decoder_target_train, maxlen=headlines_max_len, padding='post')\n",
    "decoder_input_test = pad_sequences(decoder_input_test, maxlen=headlines_max_len, padding='post')\n",
    "decoder_target_test = pad_sequences(decoder_target_test, maxlen=headlines_max_len, padding='post')\n"
   ]
  },
  {
   "cell_type": "markdown",
   "id": "42364d1d",
   "metadata": {},
   "source": [
    "# Step 3. 어텐션 모델 설계하기"
   ]
  },
  {
   "cell_type": "markdown",
   "id": "fc8eb14a",
   "metadata": {},
   "source": [
    "함수형 API를 이용해서 인코더 설계\n",
    "- 임베딩 벡터의 차원: 128\n",
    "- hidden state의 크기: 256 (LSTM의 뉴런의 개수)"
   ]
  },
  {
   "cell_type": "code",
   "execution_count": 53,
   "id": "80089c07",
   "metadata": {},
   "outputs": [],
   "source": [
    "# 인코더 설계 시작\n",
    "embedding_dim = 128\n",
    "hidden_size = 256\n",
    "\n",
    "# 인코더\n",
    "encoder_inputs = Input(shape=(text_max_len,))\n",
    "\n",
    "# 인코더의 임베딩 층\n",
    "enc_emb = Embedding(src_vocab, embedding_dim)(encoder_inputs)\n",
    "\n",
    "# 인코더의 LSTM 1\n",
    "encoder_lstm1 = LSTM(hidden_size, return_sequences=True, return_state=True ,dropout = 0.4)\n",
    "encoder_output1, state_h1, state_c1 = encoder_lstm1(enc_emb)\n",
    "\n",
    "# 인코더의 LSTM 2\n",
    "encoder_lstm2 = LSTM(hidden_size, return_sequences=True, return_state=True, dropout=0.4)\n",
    "encoder_output2, state_h2, state_c2 = encoder_lstm2(encoder_output1)\n",
    "\n",
    "# 인코더의 LSTM 3\n",
    "encoder_lstm3 = LSTM(hidden_size, return_state=True, return_sequences=True, dropout=0.4)\n",
    "encoder_outputs, state_h, state_c= encoder_lstm3(encoder_output2)"
   ]
  },
  {
   "cell_type": "markdown",
   "id": "363acc6a",
   "metadata": {},
   "source": [
    "디코더 설계"
   ]
  },
  {
   "cell_type": "code",
   "execution_count": 54,
   "id": "a094aa47",
   "metadata": {},
   "outputs": [
    {
     "name": "stdout",
     "output_type": "stream",
     "text": [
      "Model: \"model_2\"\n",
      "__________________________________________________________________________________________________\n",
      "Layer (type)                    Output Shape         Param #     Connected to                     \n",
      "==================================================================================================\n",
      "input_3 (InputLayer)            [(None, 40)]         0                                            \n",
      "__________________________________________________________________________________________________\n",
      "embedding_2 (Embedding)         (None, 40, 128)      2560000     input_3[0][0]                    \n",
      "__________________________________________________________________________________________________\n",
      "lstm_4 (LSTM)                   [(None, 40, 256), (N 394240      embedding_2[0][0]                \n",
      "__________________________________________________________________________________________________\n",
      "input_4 (InputLayer)            [(None, None)]       0                                            \n",
      "__________________________________________________________________________________________________\n",
      "lstm_5 (LSTM)                   [(None, 40, 256), (N 525312      lstm_4[0][0]                     \n",
      "__________________________________________________________________________________________________\n",
      "embedding_3 (Embedding)         (None, None, 128)    1280000     input_4[0][0]                    \n",
      "__________________________________________________________________________________________________\n",
      "lstm_6 (LSTM)                   [(None, 40, 256), (N 525312      lstm_5[0][0]                     \n",
      "__________________________________________________________________________________________________\n",
      "lstm_7 (LSTM)                   [(None, None, 256),  394240      embedding_3[0][0]                \n",
      "                                                                 lstm_6[0][1]                     \n",
      "                                                                 lstm_6[0][2]                     \n",
      "__________________________________________________________________________________________________\n",
      "dense_2 (Dense)                 (None, None, 10000)  2570000     lstm_7[0][0]                     \n",
      "==================================================================================================\n",
      "Total params: 8,249,104\n",
      "Trainable params: 8,249,104\n",
      "Non-trainable params: 0\n",
      "__________________________________________________________________________________________________\n"
     ]
    }
   ],
   "source": [
    "# 디코더 설계\n",
    "decoder_inputs = Input(shape=(None,))\n",
    "\n",
    "# 디코더의 임베딩 층\n",
    "dec_emb_layer = Embedding(tar_vocab, embedding_dim)\n",
    "dec_emb = dec_emb_layer(decoder_inputs)\n",
    "\n",
    "# 디코더의 LSTM\n",
    "decoder_lstm = LSTM(hidden_size, return_sequences=True, return_state=True, dropout=0.4)\n",
    "decoder_outputs, _, _ = decoder_lstm(dec_emb, initial_state=[state_h, state_c])\n",
    "\n",
    "# 디코더의 출력층\n",
    "decoder_softmax_layer = Dense(tar_vocab, activation='softmax')\n",
    "decoder_softmax_outputs = decoder_softmax_layer(decoder_outputs) \n",
    "\n",
    "# 모델 정의\n",
    "model = Model([encoder_inputs, decoder_inputs], decoder_softmax_outputs)\n",
    "model.summary()"
   ]
  },
  {
   "cell_type": "markdown",
   "id": "58ac3857",
   "metadata": {},
   "source": [
    "어텐션 layer 추가"
   ]
  },
  {
   "cell_type": "code",
   "execution_count": 55,
   "id": "7192fb60",
   "metadata": {},
   "outputs": [
    {
     "name": "stdout",
     "output_type": "stream",
     "text": [
      "Model: \"model_3\"\n",
      "__________________________________________________________________________________________________\n",
      "Layer (type)                    Output Shape         Param #     Connected to                     \n",
      "==================================================================================================\n",
      "input_3 (InputLayer)            [(None, 40)]         0                                            \n",
      "__________________________________________________________________________________________________\n",
      "embedding_2 (Embedding)         (None, 40, 128)      2560000     input_3[0][0]                    \n",
      "__________________________________________________________________________________________________\n",
      "lstm_4 (LSTM)                   [(None, 40, 256), (N 394240      embedding_2[0][0]                \n",
      "__________________________________________________________________________________________________\n",
      "input_4 (InputLayer)            [(None, None)]       0                                            \n",
      "__________________________________________________________________________________________________\n",
      "lstm_5 (LSTM)                   [(None, 40, 256), (N 525312      lstm_4[0][0]                     \n",
      "__________________________________________________________________________________________________\n",
      "embedding_3 (Embedding)         (None, None, 128)    1280000     input_4[0][0]                    \n",
      "__________________________________________________________________________________________________\n",
      "lstm_6 (LSTM)                   [(None, 40, 256), (N 525312      lstm_5[0][0]                     \n",
      "__________________________________________________________________________________________________\n",
      "lstm_7 (LSTM)                   [(None, None, 256),  394240      embedding_3[0][0]                \n",
      "                                                                 lstm_6[0][1]                     \n",
      "                                                                 lstm_6[0][2]                     \n",
      "__________________________________________________________________________________________________\n",
      "attention_layer (AdditiveAttent (None, None, 256)    256         lstm_7[0][0]                     \n",
      "                                                                 lstm_6[0][0]                     \n",
      "__________________________________________________________________________________________________\n",
      "concat_layer (Concatenate)      (None, None, 512)    0           lstm_7[0][0]                     \n",
      "                                                                 attention_layer[0][0]            \n",
      "__________________________________________________________________________________________________\n",
      "dense_3 (Dense)                 (None, None, 10000)  5130000     concat_layer[0][0]               \n",
      "==================================================================================================\n",
      "Total params: 10,809,360\n",
      "Trainable params: 10,809,360\n",
      "Non-trainable params: 0\n",
      "__________________________________________________________________________________________________\n"
     ]
    }
   ],
   "source": [
    "# 어텐션 층(어텐션 함수)\n",
    "attn_layer = AdditiveAttention(name='attention_layer')\n",
    "\n",
    "# 인코더와 디코더의 모든 time step의 hidden state를 어텐션 층에 전달하고 결과를 리턴\n",
    "attn_out = attn_layer([decoder_outputs, encoder_outputs])\n",
    "\n",
    "\n",
    "# 어텐션의 결과와 디코더의 hidden state들을 연결\n",
    "decoder_concat_input = Concatenate(axis=-1, name='concat_layer')([decoder_outputs, attn_out])\n",
    "\n",
    "# 디코더의 출력층\n",
    "decoder_softmax_layer = Dense(tar_vocab, activation='softmax')\n",
    "decoder_softmax_outputs = decoder_softmax_layer(decoder_concat_input)\n",
    "\n",
    "# 모델 정의\n",
    "model = Model([encoder_inputs, decoder_inputs], decoder_softmax_outputs)\n",
    "model.summary()"
   ]
  },
  {
   "cell_type": "markdown",
   "id": "82d20714",
   "metadata": {},
   "source": [
    "### 모델 훈련"
   ]
  },
  {
   "cell_type": "code",
   "execution_count": 56,
   "id": "ccc37ec1",
   "metadata": {},
   "outputs": [
    {
     "name": "stdout",
     "output_type": "stream",
     "text": [
      "Epoch 1/30\n",
      "269/269 [==============================] - 29s 88ms/step - loss: 6.0499 - val_loss: 5.6331\n",
      "Epoch 2/30\n",
      "269/269 [==============================] - 23s 84ms/step - loss: 5.4720 - val_loss: 5.2711\n",
      "Epoch 3/30\n",
      "269/269 [==============================] - 23s 85ms/step - loss: 5.1251 - val_loss: 4.9827\n",
      "Epoch 4/30\n",
      "269/269 [==============================] - 23s 87ms/step - loss: 4.8450 - val_loss: 4.7722\n",
      "Epoch 5/30\n",
      "269/269 [==============================] - 24s 87ms/step - loss: 4.6185 - val_loss: 4.6234\n",
      "Epoch 6/30\n",
      "269/269 [==============================] - 24s 89ms/step - loss: 4.4282 - val_loss: 4.5154\n",
      "Epoch 7/30\n",
      "269/269 [==============================] - 24s 89ms/step - loss: 4.2681 - val_loss: 4.4119\n",
      "Epoch 8/30\n",
      "269/269 [==============================] - 24s 89ms/step - loss: 4.1275 - val_loss: 4.3366\n",
      "Epoch 9/30\n",
      "269/269 [==============================] - 24s 89ms/step - loss: 4.0022 - val_loss: 4.2680\n",
      "Epoch 10/30\n",
      "269/269 [==============================] - 24s 89ms/step - loss: 3.8879 - val_loss: 4.2190\n",
      "Epoch 11/30\n",
      "269/269 [==============================] - 24s 89ms/step - loss: 3.7826 - val_loss: 4.1759\n",
      "Epoch 12/30\n",
      "269/269 [==============================] - 24s 89ms/step - loss: 3.6887 - val_loss: 4.1423\n",
      "Epoch 13/30\n",
      "269/269 [==============================] - 24s 89ms/step - loss: 3.6015 - val_loss: 4.1110\n",
      "Epoch 14/30\n",
      "269/269 [==============================] - 24s 89ms/step - loss: 3.5248 - val_loss: 4.0939\n",
      "Epoch 15/30\n",
      "269/269 [==============================] - 24s 89ms/step - loss: 3.4515 - val_loss: 4.0691\n",
      "Epoch 16/30\n",
      "269/269 [==============================] - 24s 90ms/step - loss: 3.3810 - val_loss: 4.0444\n",
      "Epoch 17/30\n",
      "269/269 [==============================] - 24s 90ms/step - loss: 3.3167 - val_loss: 4.0381\n",
      "Epoch 18/30\n",
      "269/269 [==============================] - 24s 90ms/step - loss: 3.2580 - val_loss: 4.0326\n",
      "Epoch 19/30\n",
      "269/269 [==============================] - 24s 90ms/step - loss: 3.2047 - val_loss: 4.0148\n",
      "Epoch 20/30\n",
      "269/269 [==============================] - 24s 90ms/step - loss: 3.1500 - val_loss: 4.0134\n",
      "Epoch 21/30\n",
      "269/269 [==============================] - 24s 90ms/step - loss: 3.0991 - val_loss: 4.0104\n",
      "Epoch 22/30\n",
      "269/269 [==============================] - 24s 90ms/step - loss: 3.0512 - val_loss: 4.0060\n",
      "Epoch 23/30\n",
      "269/269 [==============================] - 24s 90ms/step - loss: 3.0042 - val_loss: 4.0053\n",
      "Epoch 24/30\n",
      "269/269 [==============================] - 24s 90ms/step - loss: 2.9625 - val_loss: 3.9942\n",
      "Epoch 25/30\n",
      "269/269 [==============================] - 24s 90ms/step - loss: 2.9176 - val_loss: 3.9983\n",
      "Epoch 26/30\n",
      "269/269 [==============================] - 24s 90ms/step - loss: 2.8751 - val_loss: 3.9998\n",
      "Epoch 00026: early stopping\n"
     ]
    }
   ],
   "source": [
    "model.compile(optimizer='rmsprop', loss='sparse_categorical_crossentropy')\n",
    "es = EarlyStopping(monitor='val_loss', patience=2, verbose=1)\n",
    "history = model.fit(x=[encoder_input_train, decoder_input_train], y=decoder_target_train, \\\n",
    "          validation_data=([encoder_input_test, decoder_input_test], decoder_target_test), \\\n",
    "          batch_size=256, callbacks=[es], epochs=30)"
   ]
  },
  {
   "cell_type": "markdown",
   "id": "2f41543c",
   "metadata": {},
   "source": [
    "훈련 데이터의 손실과 검증 데이터의 손실이 줄어드는 과정을 시각화"
   ]
  },
  {
   "cell_type": "code",
   "execution_count": 57,
   "id": "5fff8349",
   "metadata": {},
   "outputs": [
    {
     "data": {
      "image/png": "[encoded data removed]",
      "text/plain": [
       "<Figure size 432x288 with 1 Axes>"
      ]
     },
     "metadata": {
      "needs_background": "light"
     },
     "output_type": "display_data"
    }
   ],
   "source": [
    "plt.plot(history.history['loss'], label='train')\n",
    "plt.plot(history.history['val_loss'], label='test')\n",
    "plt.legend()\n",
    "plt.show()"
   ]
  },
  {
   "cell_type": "markdown",
   "id": "b17a8313",
   "metadata": {},
   "source": [
    "# Step 4. 실제 결과와 요약문 비교하기 (추상적 요약)"
   ]
  },
  {
   "cell_type": "markdown",
   "id": "d603fe6f",
   "metadata": {},
   "source": [
    "### 인퍼런스 모델 구현"
   ]
  },
  {
   "cell_type": "markdown",
   "id": "a03dbfe3",
   "metadata": {},
   "source": [
    "테스트 단계에서 정수 인덱스 행렬로 존재하건 텍스트 데이터를 실제로 복원해야 하므로, 필요한 3개의 사전을 미리 준비"
   ]
  },
  {
   "cell_type": "code",
   "execution_count": 58,
   "id": "9539df59",
   "metadata": {},
   "outputs": [],
   "source": [
    "src_index_to_word = src_tokenizer.index_word # 원문 단어 집합에서 정수 -> 단어를 얻음\n",
    "tar_word_to_index = tar_tokenizer.word_index # 요약 단어 집합에서 단어 -> 정수를 얻음\n",
    "tar_index_to_word = tar_tokenizer.index_word # 요약 단어 집합에서 정수 -> 단어를 얻음"
   ]
  },
  {
   "cell_type": "markdown",
   "id": "2b4dbcaa",
   "metadata": {},
   "source": [
    "seq2seq는 훈련할 때와 실제 동작할 때(인퍼런스 단계)의 방식이 다르므로 그에 맞게 설계를 별개로 진행해야 한다."
   ]
  },
  {
   "cell_type": "code",
   "execution_count": 60,
   "id": "814af76b",
   "metadata": {},
   "outputs": [],
   "source": [
    "# 인코더 설계\n",
    "encoder_model = Model(inputs=encoder_inputs, outputs=[encoder_outputs, state_h, state_c])\n",
    "\n",
    "# 이전 시점의 상태들을 저장하는 텐서\n",
    "decoder_state_input_h = Input(shape=(hidden_size,))\n",
    "decoder_state_input_c = Input(shape=(hidden_size,))\n",
    "\n",
    "dec_emb2 = dec_emb_layer(decoder_inputs)\n",
    "\n",
    "# 문장의 다음 단어를 예측하기 위해서 초기 상태(initial_state)를 이전 시점의 상태로 사용. 이는 뒤의 함수 decode_sequence()에 구현\n",
    "# 훈련 과정에서와 달리 LSTM의 리턴하는 은닉 상태와 셀 상태인 state_h와 state_c를 버리지 않음.\n",
    "decoder_outputs2, state_h2, state_c2 = decoder_lstm(dec_emb2, initial_state=[decoder_state_input_h, decoder_state_input_c])"
   ]
  },
  {
   "cell_type": "code",
   "execution_count": 61,
   "id": "46f564cb",
   "metadata": {},
   "outputs": [],
   "source": [
    "# 어텐션 함수\n",
    "decoder_hidden_state_input = Input(shape=(text_max_len, hidden_size))\n",
    "attn_out_inf = attn_layer([decoder_outputs2, decoder_hidden_state_input])\n",
    "decoder_inf_concat = Concatenate(axis=-1, name='concat')([decoder_outputs2, attn_out_inf])\n",
    "\n",
    "# 디코더의 출력층\n",
    "decoder_outputs2 = decoder_softmax_layer(decoder_inf_concat) \n",
    "\n",
    "# 최종 디코더 모델\n",
    "decoder_model = Model(\n",
    "    [decoder_inputs] + [decoder_hidden_state_input,decoder_state_input_h, decoder_state_input_c],\n",
    "    [decoder_outputs2] + [state_h2, state_c2])"
   ]
  },
  {
   "cell_type": "markdown",
   "id": "4ca99984",
   "metadata": {},
   "source": [
    "인퍼런스 단계에서 단어 시퀀스를 완성하는 함수"
   ]
  },
  {
   "cell_type": "code",
   "execution_count": 65,
   "id": "4d70e276",
   "metadata": {},
   "outputs": [],
   "source": [
    "def decode_sequence(input_seq):\n",
    "    # 입력으로부터 인코더의 상태를 얻음\n",
    "    e_out, e_h, e_c = encoder_model.predict(input_seq)\n",
    "\n",
    "     # <SOS>에 해당하는 토큰 생성\n",
    "    target_seq = np.zeros((1,1))\n",
    "    target_seq[0, 0] = tar_word_to_index['sostoken']\n",
    "\n",
    "    stop_condition = False\n",
    "    decoded_sentence = ''\n",
    "    while not stop_condition: # stop_condition이 True가 될 때까지 루프 반복\n",
    "\n",
    "        output_tokens, h, c = decoder_model.predict([target_seq] + [e_out, e_h, e_c])\n",
    "        sampled_token_index = np.argmax(output_tokens[0, -1, :])\n",
    "        sampled_token = tar_index_to_word[sampled_token_index]\n",
    "\n",
    "        if (sampled_token!='eostoken'):\n",
    "            decoded_sentence += ' '+sampled_token\n",
    "\n",
    "        #  <eos>에 도달하거나 최대 길이를 넘으면 중단.\n",
    "        if (sampled_token == 'eostoken'  or len(decoded_sentence.split()) >= (headlines_max_len-1)):\n",
    "            stop_condition = True\n",
    "\n",
    "        # 길이가 1인 타겟 시퀀스를 업데이트\n",
    "        target_seq = np.zeros((1,1))\n",
    "        target_seq[0, 0] = sampled_token_index\n",
    "\n",
    "        # 상태를 업데이트 합니다.\n",
    "        e_h, e_c = h, c\n",
    "\n",
    "    return decoded_sentence"
   ]
  },
  {
   "cell_type": "markdown",
   "id": "511cca18",
   "metadata": {},
   "source": [
    "### 모델 테스트"
   ]
  },
  {
   "cell_type": "code",
   "execution_count": 66,
   "id": "c02f5cce",
   "metadata": {},
   "outputs": [],
   "source": [
    "# 원문의 정수 시퀀스를 텍스트 시퀀스로 변환\n",
    "def seq2text(input_seq):\n",
    "    temp=''\n",
    "    for i in input_seq:\n",
    "        if (i!=0):\n",
    "            temp = temp + src_index_to_word[i]+' '\n",
    "    return temp\n",
    "\n",
    "# 요약문의 정수 시퀀스를 텍스트 시퀀스로 변환\n",
    "def seq2summary(input_seq):\n",
    "    temp=''\n",
    "    for i in input_seq:\n",
    "        if ((i!=0 and i!=tar_word_to_index['sostoken']) and i!=tar_word_to_index['eostoken']):\n",
    "            temp = temp + tar_index_to_word[i] + ' '\n",
    "    return temp"
   ]
  },
  {
   "cell_type": "markdown",
   "id": "c449187a",
   "metadata": {},
   "source": [
    "원문의 실제 요약과 예측 요약 비교"
   ]
  },
  {
   "cell_type": "code",
   "execution_count": 68,
   "id": "5cd27f1b",
   "metadata": {
    "scrolled": false
   },
   "outputs": [
    {
     "name": "stdout",
     "output_type": "stream",
     "text": [
      "원문 : one three runways delhi airport closed three days due repair work starting november airport handles flights hour capacity reduced movements hour runway repair work estimated flights could affected due reduced capacity \n",
      "실제 요약 : delhi runway to be closed for could hit flights \n",
      "예측 요약 :  flights to be at delhi airport\n",
      "\n",
      "\n",
      "원문 : mumbai terror attack mastermind jamaat ud dawah chief hafiz saeed son law khalid lashed india saying provide evidence terrorist instead crying internationally claimed us asked saeed arrest pressure india saeed released house arrest pakistani court last week \n",
      "실제 요약 : give evidence instead of crying saeed son in law to india \n",
      "예측 요약 :  hafiz saeed army chief of terrorism is terrorist\n",
      "\n",
      "\n",
      "원문 : us president donald trump slammed ex fbi chief james comey multiple tweets calling liar reports revealed information book claiming honour fire comey trump said comey terrible fbi director comey criticised trump upcoming book calling presidency threat us \n",
      "실제 요약 : trump calls ex fbi chief liar over his new book \n",
      "예측 요약 :  trump calls ex wh aide over his death\n",
      "\n",
      "\n",
      "원문 : man returned book borrowed mother library us year old girl man found book spoon river written lee masters cleaning parents house according library library said maximum fine waived \n",
      "실제 요약 : son returns book his mother from library years ago \n",
      "예측 요약 :  man gives birth to mother after years\n",
      "\n",
      "\n",
      "원문 : group holdings overtaken singapore telecommunications become southeast asia biggest company market value thursday close lender market capitalisation billion compared billion earlier ceo piyush gupta delivered digital strategy investors seeking lower costs boost returns \n",
      "실제 요약 : becomes southeast asia most valuable company \n",
      "예측 요약 :  indian market value crosses market cap for first time\n",
      "\n",
      "\n",
      "원문 : hotel bahamas opened guests book appointments blend wine located former convent church constructed houses lakh bottles wine says different nations effort create truly unique experience \n",
      "실제 요약 : guests can their own wine at in \n",
      "예측 요약 :  hotel with up hotel rooms rooms\n",
      "\n",
      "\n",
      "원문 : leopard entered courtroom gujarat district middle proceedings following judge lawyers staff managed escape lock leopard inside officials contacted forest department team rescue animal staff others present court safe police said \n",
      "실제 요약 : leopard enters gujarat judge lawyers escape \n",
      "예측 요약 :  police officer body to carry body in office\n",
      "\n",
      "\n",
      "원문 : jammu kashmir governor nn vohra informed cm mehbooba mufti bjp quit alliance mufti led pdp minutes bjp held press conference make announcement reports said mufti took pause saying talks bjp necessary would submitting resignation soon \n",
      "실제 요약 : governor not bjp informed cm mehbooba that bjp quit alliance \n",
      "예측 요약 :  bjp mufti calls bjp alliance with pdp alliance\n",
      "\n",
      "\n",
      "원문 : eight month pregnant woman died falling moving bus kerala kottayam district offered seat stand police said main door bus open victim fell bus taking turn doctors able save baby woman succumbed injuries \n",
      "실제 요약 : pregnant woman forced to stand in bus dies after falling off \n",
      "예측 요약 :  woman rescued after bus falls into gorge in delhi\n",
      "\n",
      "\n",
      "원문 : filing application marry british partner coutinho iron lady sharmila said want return home state manipur fought oppressive armed forces special powers act long years people rejected polls want go back said \n",
      "실제 요약 : people rejected me do not want to return to manipur \n",
      "예측 요약 :  uk court rejects extradition of marriage\n",
      "\n",
      "\n"
     ]
    }
   ],
   "source": [
    "for i in range(50, 60):\n",
    "    print(\"원문 :\", seq2text(encoder_input_test[i]))\n",
    "    print(\"실제 요약 :\", seq2summary(decoder_input_test[i]))\n",
    "    print(\"예측 요약 :\", decode_sequence(encoder_input_test[i].reshape(1, text_max_len)))\n",
    "    print(\"\\n\")"
   ]
  },
  {
   "cell_type": "markdown",
   "id": "eb962c45",
   "metadata": {},
   "source": [
    "# Step 5. Summa을 이용해서 추출적 요약해보기"
   ]
  },
  {
   "cell_type": "markdown",
   "id": "06ef2d4f",
   "metadata": {},
   "source": [
    "### summarize 사용하기\n",
    "\n",
    "summarize의 인자\n",
    "\n",
    "- **text (str)**: 요약할 테스트.\n",
    "- **ratio (float, optional)**– 요약문에서 원본에서 선택되는 문장 비율. 0~1 사이값\n",
    "- **words (int or None, optional)** – 출력에 포함할 단어 수. 만약, ratio와 함께 두 파라미터가 모두 제공되는 경우 ratio는 무시한다.\n",
    "- **split (bool, optional)** – True면 문장 list / False는 조인(join)된 문자열을 반환"
   ]
  },
  {
   "cell_type": "markdown",
   "id": "7ae147fe",
   "metadata": {},
   "source": [
    "Summa의 summarize는 문장 토큰화를 별도로 하지 않아도 내부적으로 문장 토큰화를 수행"
   ]
  },
  {
   "cell_type": "code",
   "execution_count": 142,
   "id": "e52dd0ab",
   "metadata": {},
   "outputs": [],
   "source": [
    "texts = data['text']"
   ]
  },
  {
   "cell_type": "code",
   "execution_count": 146,
   "id": "e7b06bb1",
   "metadata": {},
   "outputs": [
    {
     "name": "stdout",
     "output_type": "stream",
     "text": [
      "summary:   \n",
      "\n",
      "summary:   \n",
      "\n",
      "summary:   \n",
      "\n",
      "summary:   \n",
      "\n",
      "summary:   \n",
      "\n",
      "summary:   \n",
      "\n",
      "summary:   \n",
      "\n",
      "summary:   \n",
      "\n",
      "summary:   \n",
      "\n",
      "summary:   \n",
      "\n"
     ]
    }
   ],
   "source": [
    "# ex\n",
    "for i, text in enumerate(texts):\n",
    "    if i == 10:\n",
    "        break\n",
    "    print('summary: ', summarize(text, ratio=0.5), '\\n')"
   ]
  },
  {
   "cell_type": "code",
   "execution_count": 141,
   "id": "087e2b1d",
   "metadata": {},
   "outputs": [
    {
     "name": "stdout",
     "output_type": "stream",
     "text": [
      "Summary:\n",
      "[]\n"
     ]
    }
   ],
   "source": [
    "# 출력을 리스트로 받기\n",
    "print('Summary:')\n",
    "print(summarize(text, ratio=0.05, split=True))"
   ]
  },
  {
   "cell_type": "code",
   "execution_count": 94,
   "id": "be954ab5",
   "metadata": {},
   "outputs": [
    {
     "name": "stdout",
     "output_type": "stream",
     "text": [
      "Summary:\n",
      "0        saurav kant alumnus upgrad iiit pg program mac...\n",
      "2        new zealand defeated india wickets fourth odi ...\n",
      "3        aegon life iterm insurance plan customers enjo...\n",
      "5        pakistani singer rahat fateh ali khan denied r...\n",
      "7        weeks ex cbi director alok verma told departme...\n",
      "98398    according reports new version science fiction ...\n"
     ]
    }
   ],
   "source": [
    "# 단어의 수로 요약문의 크기 조절\n",
    "print('Summary:')\n",
    "print(summarize(text, words=50))"
   ]
  },
  {
   "cell_type": "markdown",
   "id": "707d3541",
   "metadata": {},
   "source": [
    "너무 짧은 글을 요약하다보니 ratio를 아무리 조정해도 요약이 되지않는다... 따라서 문장을 50개를 합쳐 다시한번 시도"
   ]
  },
  {
   "cell_type": "code",
   "execution_count": 172,
   "id": "a74372d0",
   "metadata": {},
   "outputs": [],
   "source": [
    "sum_text = ''\n",
    "for i, text in enumerate(texts):\n",
    "    if i == 50:\n",
    "        break\n",
    "    sum_text = sum_text + \"\\n\" +text\n",
    "        "
   ]
  },
  {
   "cell_type": "code",
   "execution_count": 173,
   "id": "53a42c66",
   "metadata": {},
   "outputs": [
    {
     "name": "stdout",
     "output_type": "stream",
     "text": [
      "summary:  claiming dearth ideas among opposition parties prime minister narendra modi wednesday said opposition talks modi whole day suspect even dream pm modi addressing new india youth conclave surat added opposition parties one agenda modi\n",
      "twenty seven year old mohammed mahuwala arrested indore wednesday allegedly cheating commerce giant amazon nearly lakh mahuwala member gang ordered costly gadgets amazon used get refund amount paid saying parcel empty reality devices taken parcel sold local shopkeepers said police\n"
     ]
    }
   ],
   "source": [
    "print('summary: ', summarize(sum_text, ratio=0.05))"
   ]
  },
  {
   "cell_type": "markdown",
   "id": "9cbbe641",
   "metadata": {},
   "source": [
    "---\n",
    "# 프로젝트 정리"
   ]
  },
  {
   "cell_type": "markdown",
   "id": "04360c9a",
   "metadata": {},
   "source": [
    "### 프로젝트 분석\n",
    "- 어텐션 매커니즘을 활용하여 모델을 구성하여 train_loss: 2.8751 - val_loss: 3.9998이라는 성능을 얻었습니다.\n",
    "- 또한 test에서 실제 요약과 에측 요약을 비교해 봤을 때 그래도 몇 가지의 핵심 단어([flight, airport], [reject, recject]등등)가 곂치는 것을 볼 수 있었지만 정확히 문장으로 봤을 때는 성능이 떨어지는 것을 관찰할 수 있었습니다. "
   ]
  },
  {
   "cell_type": "markdown",
   "id": "42a3dfa9",
   "metadata": {},
   "source": [
    "### 이번 프로젝트에서 어려려웠던점\n",
    "- 이번 프로젝트에서 가장 어려웠던점은 아무래도 NPL의 낯설기 때문에 이론적인 측면들이 가장 어려웠습니다. 또한 Text summarization, Extractive summarization, Abstractive summarization, seq2seq, attention layer등등 청므 배운것들이 너무 많기 때문에 처음 배운 것을 구현한다는 것이 너무 어려웠습니다.\n",
    "### 프로젝트를 진행하면서 알아낸 점 혹은 아직 모호한 점.  \n",
    "- 마지막에 Summa의 summarize()를 이용해 추출적 요약을 하는 것이 있는데 오늘 진행 했던 프로젝트에서 사용했던 데이터는 한 줄짜리 뉴스 데이터였기때문에 summary가 나오지 않았습니다. 그래서 문장을 50개를 합쳐서 해봤더니 100개, 1000개를 합쳐도 되지않았습니다. 그래서 검색을 해보니 summarize()함수가 문장 사이를 \\n으로 분리된 문장들 중 몇 개를 골라 요약하는 것을 알아냈습니다.\n",
    "### 루브릭 평가지표를 맞추기 위해 시도한 것들\n",
    "- Summa의 summarize()함수 사용법을 여러가지 측면에서 시도했습니다.\n",
    "### 자기 다짐\n",
    "- NLP가 너무 낯설어서 처음부터 겁먹고 열심히 하지않았는데 앞으로는 NLP도 열심히 해야겠다는 생각을 했습니다."
   ]
  }
 ],
 "metadata": {
  "kernelspec": {
   "display_name": "Python 3 (ipykernel)",
   "language": "python",
   "name": "python3"
  },
  "language_info": {
   "codemirror_mode": {
    "name": "ipython",
    "version": 3
   },
   "file_extension": ".py",
   "mimetype": "text/x-python",
   "name": "python",
   "nbconvert_exporter": "python",
   "pygments_lexer": "ipython3",
   "version": "3.9.7"
  }
 },
 "nbformat": 4,
 "nbformat_minor": 5
}
