{
 "cells": [
  {
   "cell_type": "markdown",
   "id": "39773c0a",
   "metadata": {},
   "source": [
    "# Exploration 16\n",
    "## 프로젝트 - Movielens 영화 SBR\n",
    "___"
   ]
  },
  {
   "cell_type": "markdown",
   "id": "f6ff449f",
   "metadata": {},
   "source": [
    "## 목차\n",
    "- Step 1. 데이터 전처리\n",
    "- Step 2. 미니 배치 구성\n",
    "- Step 3. 모델 구성\n",
    "- Step 4. 모델 학습\n",
    "- Step 5. 모델 테스트\n",
    "___"
   ]
  },
  {
   "cell_type": "markdown",
   "id": "0e8e8c34",
   "metadata": {},
   "source": [
    "# Step 1. 데이터 전처리"
   ]
  },
  {
   "cell_type": "code",
   "execution_count": 1,
   "id": "fa04ad9f",
   "metadata": {},
   "outputs": [
    {
     "name": "stdout",
     "output_type": "stream",
     "text": [
      "1.3.3\n",
      "2.6.0\n"
     ]
    }
   ],
   "source": [
    "import pandas\n",
    "import tensorflow\n",
    "import datetime as dt\n",
    "from pathlib import Path\n",
    "import os\n",
    "\n",
    "import numpy as np\n",
    "import pandas as pd\n",
    "import warnings\n",
    "warnings.filterwarnings('ignore')\n",
    "\n",
    "print(pandas.__version__)\n",
    "print(tensorflow.__version__)"
   ]
  },
  {
   "cell_type": "markdown",
   "id": "b0df5cb8",
   "metadata": {},
   "source": [
    "## Data summary"
   ]
  },
  {
   "cell_type": "code",
   "execution_count": 2,
   "id": "eda78703",
   "metadata": {
    "scrolled": true
   },
   "outputs": [
    {
     "name": "stdout",
     "output_type": "stream",
     "text": [
      "SUMMARY\n",
      "\n",
      "================================================================================\n",
      "\n",
      "\n",
      "\n",
      "These files contain 1,000,209 anonymous ratings of approximately 3,900 movies \n",
      "\n",
      "made by 6,040 MovieLens users who joined MovieLens in 2000.\n",
      "\n",
      "\n",
      "\n",
      "USAGE LICENSE\n",
      "\n",
      "================================================================================\n",
      "\n",
      "\n",
      "\n",
      "Neither the University of Minnesota nor any of the researchers\n",
      "\n",
      "involved can guarantee the correctness of the data, its suitability\n",
      "\n",
      "for any particular purpose, or the validity of results based on the\n",
      "\n",
      "use of the data set.  The data set may be used for any research\n",
      "\n",
      "purposes under the following conditions:\n",
      "\n",
      "\n",
      "\n",
      "     * The user may not state or imply any endorsement from the\n",
      "\n",
      "       University of Minnesota or the GroupLens Research Group.\n",
      "\n",
      "\n",
      "\n",
      "     * The user must acknowledge the use of the data set in\n",
      "\n",
      "       publications resulting from the use of the data set\n",
      "\n",
      "       (see below for citation information).\n",
      "\n",
      "\n",
      "\n",
      "     * The user may not redistribute the data without separate\n",
      "\n",
      "       permission.\n",
      "\n",
      "\n",
      "\n",
      "     * The user may not use this information for any commercial or\n",
      "\n",
      "       revenue-bearing purposes without first obtaining permission\n",
      "\n",
      "       from a faculty member of the GroupLens Research Project at the\n",
      "\n",
      "       University of Minnesota.\n",
      "\n",
      "\n",
      "\n",
      "If you have any further questions or comments, please contact GroupLens\n",
      "\n",
      "<grouplens-info@cs.umn.edu>. \n",
      "\n",
      "\n",
      "\n",
      "CITATION\n",
      "\n",
      "================================================================================\n",
      "\n",
      "\n",
      "\n",
      "To acknowledge use of the dataset in publications, please cite the following\n",
      "\n",
      "paper:\n",
      "\n",
      "\n",
      "\n",
      "F. Maxwell Harper and Joseph A. Konstan. 2015. The MovieLens Datasets: History\n",
      "\n",
      "and Context. ACM Transactions on Interactive Intelligent Systems (TiiS) 5, 4,\n",
      "\n",
      "Article 19 (December 2015), 19 pages. DOI=http://dx.doi.org/10.1145/2827872\n",
      "\n",
      "\n",
      "\n",
      "\n",
      "\n",
      "ACKNOWLEDGEMENTS\n",
      "\n",
      "================================================================================\n",
      "\n",
      "\n",
      "\n",
      "Thanks to Shyong Lam and Jon Herlocker for cleaning up and generating the data\n",
      "\n",
      "set.\n",
      "\n",
      "\n",
      "\n",
      "FURTHER INFORMATION ABOUT THE GROUPLENS RESEARCH PROJECT\n",
      "\n",
      "================================================================================\n",
      "\n",
      "\n",
      "\n",
      "The GroupLens Research Project is a research group in the Department of \n",
      "\n",
      "Computer Science and Engineering at the University of Minnesota. Members of \n",
      "\n",
      "the GroupLens Research Project are involved in many research projects related \n",
      "\n",
      "to the fields of information filtering, collaborative filtering, and \n",
      "\n",
      "recommender systems. The project is lead by professors John Riedl and Joseph \n",
      "\n",
      "Konstan. The project began to explore automated collaborative filtering in \n",
      "\n",
      "1992, but is most well known for its world wide trial of an automated \n",
      "\n",
      "collaborative filtering system for Usenet news in 1996. Since then the project \n",
      "\n",
      "has expanded its scope to research overall information filtering solutions, \n",
      "\n",
      "integrating in content-based methods as well as improving current collaborative \n",
      "\n",
      "filtering technology.\n",
      "\n",
      "\n",
      "\n",
      "Further information on the GroupLens Research project, including research \n",
      "\n",
      "publications, can be found at the following web site:\n",
      "\n",
      "        \n",
      "\n",
      "        http://www.grouplens.org/\n",
      "\n",
      "\n",
      "\n",
      "GroupLens Research currently operates a movie recommender based on \n",
      "\n",
      "collaborative filtering:\n",
      "\n",
      "\n",
      "\n",
      "        http://www.movielens.org/\n",
      "\n",
      "\n",
      "\n",
      "RATINGS FILE DESCRIPTION\n",
      "\n",
      "================================================================================\n",
      "\n",
      "\n",
      "\n",
      "All ratings are contained in the file \"ratings.dat\" and are in the\n",
      "\n",
      "following format:\n",
      "\n",
      "\n",
      "\n",
      "UserID::MovieID::Rating::Timestamp\n",
      "\n",
      "\n",
      "\n",
      "- UserIDs range between 1 and 6040 \n",
      "\n",
      "- MovieIDs range between 1 and 3952\n",
      "\n",
      "- Ratings are made on a 5-star scale (whole-star ratings only)\n",
      "\n",
      "- Timestamp is represented in seconds since the epoch as returned by time(2)\n",
      "\n",
      "- Each user has at least 20 ratings\n",
      "\n",
      "\n",
      "\n",
      "USERS FILE DESCRIPTION\n",
      "\n",
      "================================================================================\n",
      "\n",
      "\n",
      "\n",
      "User information is in the file \"users.dat\" and is in the following\n",
      "\n",
      "format:\n",
      "\n",
      "\n",
      "\n",
      "UserID::Gender::Age::Occupation::Zip-code\n",
      "\n",
      "\n",
      "\n",
      "All demographic information is provided voluntarily by the users and is\n",
      "\n",
      "not checked for accuracy.  Only users who have provided some demographic\n",
      "\n",
      "information are included in this data set.\n",
      "\n",
      "\n",
      "\n",
      "- Gender is denoted by a \"M\" for male and \"F\" for female\n",
      "\n",
      "- Age is chosen from the following ranges:\n",
      "\n",
      "\n",
      "\n",
      "\t*  1:  \"Under 18\"\n",
      "\n",
      "\t* 18:  \"18-24\"\n",
      "\n",
      "\t* 25:  \"25-34\"\n",
      "\n",
      "\t* 35:  \"35-44\"\n",
      "\n",
      "\t* 45:  \"45-49\"\n",
      "\n",
      "\t* 50:  \"50-55\"\n",
      "\n",
      "\t* 56:  \"56+\"\n",
      "\n",
      "\n",
      "\n",
      "- Occupation is chosen from the following choices:\n",
      "\n",
      "\n",
      "\n",
      "\t*  0:  \"other\" or not specified\n",
      "\n",
      "\t*  1:  \"academic/educator\"\n",
      "\n",
      "\t*  2:  \"artist\"\n",
      "\n",
      "\t*  3:  \"clerical/admin\"\n",
      "\n",
      "\t*  4:  \"college/grad student\"\n",
      "\n",
      "\t*  5:  \"customer service\"\n",
      "\n",
      "\t*  6:  \"doctor/health care\"\n",
      "\n",
      "\t*  7:  \"executive/managerial\"\n",
      "\n",
      "\t*  8:  \"farmer\"\n",
      "\n",
      "\t*  9:  \"homemaker\"\n",
      "\n",
      "\t* 10:  \"K-12 student\"\n",
      "\n",
      "\t* 11:  \"lawyer\"\n",
      "\n",
      "\t* 12:  \"programmer\"\n",
      "\n",
      "\t* 13:  \"retired\"\n",
      "\n",
      "\t* 14:  \"sales/marketing\"\n",
      "\n",
      "\t* 15:  \"scientist\"\n",
      "\n",
      "\t* 16:  \"self-employed\"\n",
      "\n",
      "\t* 17:  \"technician/engineer\"\n",
      "\n",
      "\t* 18:  \"tradesman/craftsman\"\n",
      "\n",
      "\t* 19:  \"unemployed\"\n",
      "\n",
      "\t* 20:  \"writer\"\n",
      "\n",
      "\n",
      "\n",
      "MOVIES FILE DESCRIPTION\n",
      "\n",
      "================================================================================\n",
      "\n",
      "\n",
      "\n",
      "Movie information is in the file \"movies.dat\" and is in the following\n",
      "\n",
      "format:\n",
      "\n",
      "\n",
      "\n",
      "MovieID::Title::Genres\n",
      "\n",
      "\n",
      "\n",
      "- Titles are identical to titles provided by the IMDB (including\n",
      "\n",
      "year of release)\n",
      "\n",
      "- Genres are pipe-separated and are selected from the following genres:\n",
      "\n",
      "\n",
      "\n",
      "\t* Action\n",
      "\n",
      "\t* Adventure\n",
      "\n",
      "\t* Animation\n",
      "\n",
      "\t* Children's\n",
      "\n",
      "\t* Comedy\n",
      "\n",
      "\t* Crime\n",
      "\n",
      "\t* Documentary\n",
      "\n",
      "\t* Drama\n",
      "\n",
      "\t* Fantasy\n",
      "\n",
      "\t* Film-Noir\n",
      "\n",
      "\t* Horror\n",
      "\n",
      "\t* Musical\n",
      "\n",
      "\t* Mystery\n",
      "\n",
      "\t* Romance\n",
      "\n",
      "\t* Sci-Fi\n",
      "\n",
      "\t* Thriller\n",
      "\n",
      "\t* War\n",
      "\n",
      "\t* Western\n",
      "\n",
      "\n",
      "\n",
      "- Some MovieIDs do not correspond to a movie due to accidental duplicate\n",
      "\n",
      "entries and/or test entries\n",
      "\n",
      "- Movies are mostly entered by hand, so errors and inconsistencies may exist\n",
      "\n"
     ]
    }
   ],
   "source": [
    "# 데이터 설명(README)를 읽어 봅니다. \n",
    "import os\n",
    "f = open(os.getenv('HOME')+'/aiffel/yoochoose/data/README', 'r')\n",
    "while True:\n",
    "    line = f.readline()\n",
    "    if not line: break\n",
    "    print(line)\n",
    "f.close()"
   ]
  },
  {
   "cell_type": "markdown",
   "id": "6ea39791",
   "metadata": {},
   "source": [
    "## Data Load\n",
    "- dataset: Movielens 1M Dataset\n",
    "\n",
    "columns\n",
    "- UserId: 사용자의 고유번호\n",
    "- ItemId: 아이템(영화)의 고유번호\n",
    "- Rating: 평점\n",
    "- Time: 평점을 준 시간\n",
    "\n",
    "세부사항\n",
    "- UserIDs range between 1 and 6040 \n",
    "- MovieIDs range between 1 and 3952\n",
    "- Ratings are made on a 5-star scale (whole-star ratings only)\n",
    "- Timestamp is represented in seconds since the epoch as returned by time(2)\n",
    "- Each user has at least 20 ratings"
   ]
  },
  {
   "cell_type": "code",
   "execution_count": 3,
   "id": "72ff9673",
   "metadata": {},
   "outputs": [
    {
     "data": {
      "text/html": [
       "<div>\n",
       "<style scoped>\n",
       "    .dataframe tbody tr th:only-of-type {\n",
       "        vertical-align: middle;\n",
       "    }\n",
       "\n",
       "    .dataframe tbody tr th {\n",
       "        vertical-align: top;\n",
       "    }\n",
       "\n",
       "    .dataframe thead th {\n",
       "        text-align: right;\n",
       "    }\n",
       "</style>\n",
       "<table border=\"1\" class=\"dataframe\">\n",
       "  <thead>\n",
       "    <tr style=\"text-align: right;\">\n",
       "      <th></th>\n",
       "      <th>UserId</th>\n",
       "      <th>ItemId</th>\n",
       "      <th>Rating</th>\n",
       "      <th>Time</th>\n",
       "    </tr>\n",
       "  </thead>\n",
       "  <tbody>\n",
       "    <tr>\n",
       "      <th>31</th>\n",
       "      <td>1</td>\n",
       "      <td>3186</td>\n",
       "      <td>4</td>\n",
       "      <td>978300019</td>\n",
       "    </tr>\n",
       "    <tr>\n",
       "      <th>22</th>\n",
       "      <td>1</td>\n",
       "      <td>1270</td>\n",
       "      <td>5</td>\n",
       "      <td>978300055</td>\n",
       "    </tr>\n",
       "    <tr>\n",
       "      <th>27</th>\n",
       "      <td>1</td>\n",
       "      <td>1721</td>\n",
       "      <td>4</td>\n",
       "      <td>978300055</td>\n",
       "    </tr>\n",
       "    <tr>\n",
       "      <th>37</th>\n",
       "      <td>1</td>\n",
       "      <td>1022</td>\n",
       "      <td>5</td>\n",
       "      <td>978300055</td>\n",
       "    </tr>\n",
       "    <tr>\n",
       "      <th>24</th>\n",
       "      <td>1</td>\n",
       "      <td>2340</td>\n",
       "      <td>3</td>\n",
       "      <td>978300103</td>\n",
       "    </tr>\n",
       "    <tr>\n",
       "      <th>...</th>\n",
       "      <td>...</td>\n",
       "      <td>...</td>\n",
       "      <td>...</td>\n",
       "      <td>...</td>\n",
       "    </tr>\n",
       "    <tr>\n",
       "      <th>1000019</th>\n",
       "      <td>6040</td>\n",
       "      <td>2917</td>\n",
       "      <td>4</td>\n",
       "      <td>997454429</td>\n",
       "    </tr>\n",
       "    <tr>\n",
       "      <th>999988</th>\n",
       "      <td>6040</td>\n",
       "      <td>1921</td>\n",
       "      <td>4</td>\n",
       "      <td>997454464</td>\n",
       "    </tr>\n",
       "    <tr>\n",
       "      <th>1000172</th>\n",
       "      <td>6040</td>\n",
       "      <td>1784</td>\n",
       "      <td>3</td>\n",
       "      <td>997454464</td>\n",
       "    </tr>\n",
       "    <tr>\n",
       "      <th>1000167</th>\n",
       "      <td>6040</td>\n",
       "      <td>161</td>\n",
       "      <td>3</td>\n",
       "      <td>997454486</td>\n",
       "    </tr>\n",
       "    <tr>\n",
       "      <th>1000042</th>\n",
       "      <td>6040</td>\n",
       "      <td>1221</td>\n",
       "      <td>4</td>\n",
       "      <td>998315055</td>\n",
       "    </tr>\n",
       "  </tbody>\n",
       "</table>\n",
       "<p>1000209 rows × 4 columns</p>\n",
       "</div>"
      ],
      "text/plain": [
       "         UserId  ItemId  Rating       Time\n",
       "31            1    3186       4  978300019\n",
       "22            1    1270       5  978300055\n",
       "27            1    1721       4  978300055\n",
       "37            1    1022       5  978300055\n",
       "24            1    2340       3  978300103\n",
       "...         ...     ...     ...        ...\n",
       "1000019    6040    2917       4  997454429\n",
       "999988     6040    1921       4  997454464\n",
       "1000172    6040    1784       3  997454464\n",
       "1000167    6040     161       3  997454486\n",
       "1000042    6040    1221       4  998315055\n",
       "\n",
       "[1000209 rows x 4 columns]"
      ]
     },
     "execution_count": 3,
     "metadata": {},
     "output_type": "execute_result"
    }
   ],
   "source": [
    "data_path = Path(os.getenv('HOME')+'/aiffel/yoochoose/data/') \n",
    "train_path = data_path / 'ratings.dat'\n",
    "\n",
    "def load_data(data_path, nrows=None):\n",
    "    data = pd.read_csv(data_path, sep='::', header=None, usecols=[0, 1, 2, 3], dtype={0: np.int32, 1: np.int32, 2: np.int32}, nrows=nrows)\n",
    "    data.columns = ['UserId', 'ItemId', 'Rating', 'Time']\n",
    "    return data\n",
    "\n",
    "data = load_data(train_path, None)\n",
    "data.sort_values(['UserId', 'Time'], inplace=True)  # data를 id와 시간 순서로 정렬해줍니다.\n",
    "data"
   ]
  },
  {
   "cell_type": "code",
   "execution_count": 4,
   "id": "5881e239",
   "metadata": {},
   "outputs": [
    {
     "data": {
      "text/plain": [
       "(6040, 3706)"
      ]
     },
     "execution_count": 4,
     "metadata": {},
     "output_type": "execute_result"
    }
   ],
   "source": [
    "data['UserId'].nunique(), data['ItemId'].nunique()"
   ]
  },
  {
   "cell_type": "markdown",
   "id": "72d64eed",
   "metadata": {},
   "source": [
    "## Data 분석\n",
    "- User 1명을 1개의 session으로 취급"
   ]
  },
  {
   "cell_type": "markdown",
   "id": "5669ac86",
   "metadata": {},
   "source": [
    "### Session length"
   ]
  },
  {
   "cell_type": "markdown",
   "id": "322837c3",
   "metadata": {},
   "source": [
    "__유저한명당 영화평가 개수__"
   ]
  },
  {
   "cell_type": "code",
   "execution_count": 5,
   "id": "2230d018",
   "metadata": {},
   "outputs": [
    {
     "data": {
      "text/plain": [
       "UserId\n",
       "1        53\n",
       "2       129\n",
       "3        51\n",
       "4        21\n",
       "5       198\n",
       "       ... \n",
       "6036    888\n",
       "6037    202\n",
       "6038     20\n",
       "6039    123\n",
       "6040    341\n",
       "Length: 6040, dtype: int64"
      ]
     },
     "execution_count": 5,
     "metadata": {},
     "output_type": "execute_result"
    }
   ],
   "source": [
    "session_length = data.groupby('UserId').size()\n",
    "session_length"
   ]
  },
  {
   "cell_type": "markdown",
   "id": "290212da",
   "metadata": {},
   "source": [
    "__max, min__"
   ]
  },
  {
   "cell_type": "code",
   "execution_count": 6,
   "id": "2e24f553",
   "metadata": {},
   "outputs": [
    {
     "data": {
      "text/plain": [
       "(20, 2314)"
      ]
     },
     "execution_count": 6,
     "metadata": {},
     "output_type": "execute_result"
    }
   ],
   "source": [
    "session_length.min(), session_length.max()"
   ]
  },
  {
   "cell_type": "markdown",
   "id": "a4c56632",
   "metadata": {},
   "source": [
    "__99.9% session_length__"
   ]
  },
  {
   "cell_type": "code",
   "execution_count": 7,
   "id": "d08b37d0",
   "metadata": {},
   "outputs": [
    {
     "data": {
      "text/plain": [
       "1343.181000000005"
      ]
     },
     "execution_count": 7,
     "metadata": {},
     "output_type": "execute_result"
    }
   ],
   "source": [
    "session_length.quantile(0.999)"
   ]
  },
  {
   "cell_type": "markdown",
   "id": "1a336cf8",
   "metadata": {},
   "source": [
    "__시각화__\n",
    "- session_length 기준 하위 99.9%까지의 분포 누적합"
   ]
  },
  {
   "cell_type": "code",
   "execution_count": 8,
   "id": "7dddc5a1",
   "metadata": {},
   "outputs": [
    {
     "data": {
      "text/plain": [
       "20      0.014238\n",
       "21      0.029305\n",
       "22      0.042053\n",
       "23      0.055464\n",
       "24      0.068874\n",
       "          ...   \n",
       "1271    0.998179\n",
       "1277    0.998344\n",
       "1286    0.998510\n",
       "1302    0.998675\n",
       "1323    0.998841\n",
       "Length: 736, dtype: float64"
      ]
     },
     "execution_count": 8,
     "metadata": {},
     "output_type": "execute_result"
    }
   ],
   "source": [
    "length_count = session_length.groupby(session_length).size()\n",
    "length_percent_cumsum = length_count.cumsum() / length_count.sum()\n",
    "length_percent_cumsum_999 = length_percent_cumsum[length_percent_cumsum < 0.999]\n",
    "\n",
    "length_percent_cumsum_999"
   ]
  },
  {
   "cell_type": "code",
   "execution_count": 9,
   "id": "77a66dc8",
   "metadata": {
    "scrolled": false
   },
   "outputs": [
    {
     "data": {
      "image/png": "[encoded data removed]",
      "text/plain": [
       "<Figure size 864x720 with 1 Axes>"
      ]
     },
     "metadata": {
      "needs_background": "light"
     },
     "output_type": "display_data"
    }
   ],
   "source": [
    "import matplotlib.pyplot as plt\n",
    "\n",
    "plt.figure(figsize=(12, 10))\n",
    "plt.bar(x=length_percent_cumsum_999.index,\n",
    "        height=length_percent_cumsum_999, color='red')\n",
    "plt.xticks(length_percent_cumsum_999.index)\n",
    "plt.yticks(np.arange(0, 1.01, 0.05))\n",
    "plt.title('Cumsum Percentage Until 0.999', size=20)\n",
    "plt.show()"
   ]
  },
  {
   "cell_type": "markdown",
   "id": "d691185f",
   "metadata": {},
   "source": [
    "### Session Time"
   ]
  },
  {
   "cell_type": "markdown",
   "id": "b55f9dab",
   "metadata": {},
   "source": [
    "__데이터의 시간 관련 정보 확인__\n",
    "- 추천 시스템을 구축할 때에는 최근 소비 트렌드를 학습하는것이 중요"
   ]
  },
  {
   "cell_type": "code",
   "execution_count": 10,
   "id": "d24689b5",
   "metadata": {},
   "outputs": [
    {
     "name": "stdout",
     "output_type": "stream",
     "text": [
      "956703932\n",
      "1046454590\n"
     ]
    }
   ],
   "source": [
    "oldest, latest = data['Time'].min(), data['Time'].max()\n",
    "print(oldest) \n",
    "print(latest)"
   ]
  },
  {
   "cell_type": "code",
   "execution_count": 11,
   "id": "afed2d66",
   "metadata": {},
   "outputs": [
    {
     "data": {
      "text/plain": [
       "numpy.int64"
      ]
     },
     "execution_count": 11,
     "metadata": {},
     "output_type": "execute_result"
    }
   ],
   "source": [
    "type(oldest)"
   ]
  },
  {
   "cell_type": "code",
   "execution_count": 12,
   "id": "4b095184",
   "metadata": {},
   "outputs": [
    {
     "data": {
      "text/html": [
       "<div>\n",
       "<style scoped>\n",
       "    .dataframe tbody tr th:only-of-type {\n",
       "        vertical-align: middle;\n",
       "    }\n",
       "\n",
       "    .dataframe tbody tr th {\n",
       "        vertical-align: top;\n",
       "    }\n",
       "\n",
       "    .dataframe thead th {\n",
       "        text-align: right;\n",
       "    }\n",
       "</style>\n",
       "<table border=\"1\" class=\"dataframe\">\n",
       "  <thead>\n",
       "    <tr style=\"text-align: right;\">\n",
       "      <th></th>\n",
       "      <th>UserId</th>\n",
       "      <th>ItemId</th>\n",
       "      <th>Rating</th>\n",
       "      <th>Time</th>\n",
       "    </tr>\n",
       "  </thead>\n",
       "  <tbody>\n",
       "    <tr>\n",
       "      <th>5200</th>\n",
       "      <td>36</td>\n",
       "      <td>2269</td>\n",
       "      <td>5</td>\n",
       "      <td>1040544350</td>\n",
       "    </tr>\n",
       "    <tr>\n",
       "      <th>5256</th>\n",
       "      <td>36</td>\n",
       "      <td>1701</td>\n",
       "      <td>4</td>\n",
       "      <td>1040544350</td>\n",
       "    </tr>\n",
       "    <tr>\n",
       "      <th>5184</th>\n",
       "      <td>36</td>\n",
       "      <td>2694</td>\n",
       "      <td>3</td>\n",
       "      <td>1040544494</td>\n",
       "    </tr>\n",
       "    <tr>\n",
       "      <th>5364</th>\n",
       "      <td>36</td>\n",
       "      <td>3786</td>\n",
       "      <td>4</td>\n",
       "      <td>1040544521</td>\n",
       "    </tr>\n",
       "    <tr>\n",
       "      <th>5262</th>\n",
       "      <td>36</td>\n",
       "      <td>2369</td>\n",
       "      <td>4</td>\n",
       "      <td>1040544564</td>\n",
       "    </tr>\n",
       "    <tr>\n",
       "      <th>...</th>\n",
       "      <td>...</td>\n",
       "      <td>...</td>\n",
       "      <td>...</td>\n",
       "      <td>...</td>\n",
       "    </tr>\n",
       "    <tr>\n",
       "      <th>984731</th>\n",
       "      <td>5950</td>\n",
       "      <td>3948</td>\n",
       "      <td>4</td>\n",
       "      <td>1046369637</td>\n",
       "    </tr>\n",
       "    <tr>\n",
       "      <th>984682</th>\n",
       "      <td>5950</td>\n",
       "      <td>3578</td>\n",
       "      <td>4</td>\n",
       "      <td>1046369670</td>\n",
       "    </tr>\n",
       "    <tr>\n",
       "      <th>984475</th>\n",
       "      <td>5950</td>\n",
       "      <td>3793</td>\n",
       "      <td>3</td>\n",
       "      <td>1046369710</td>\n",
       "    </tr>\n",
       "    <tr>\n",
       "      <th>984660</th>\n",
       "      <td>5950</td>\n",
       "      <td>3555</td>\n",
       "      <td>2</td>\n",
       "      <td>1046369737</td>\n",
       "    </tr>\n",
       "    <tr>\n",
       "      <th>984733</th>\n",
       "      <td>5950</td>\n",
       "      <td>1262</td>\n",
       "      <td>4</td>\n",
       "      <td>1046369858</td>\n",
       "    </tr>\n",
       "  </tbody>\n",
       "</table>\n",
       "<p>4616 rows × 4 columns</p>\n",
       "</div>"
      ],
      "text/plain": [
       "        UserId  ItemId  Rating        Time\n",
       "5200        36    2269       5  1040544350\n",
       "5256        36    1701       4  1040544350\n",
       "5184        36    2694       3  1040544494\n",
       "5364        36    3786       4  1040544521\n",
       "5262        36    2369       4  1040544564\n",
       "...        ...     ...     ...         ...\n",
       "984731    5950    3948       4  1046369637\n",
       "984682    5950    3578       4  1046369670\n",
       "984475    5950    3793       3  1046369710\n",
       "984660    5950    3555       2  1046369737\n",
       "984733    5950    1262       4  1046369858\n",
       "\n",
       "[4616 rows x 4 columns]"
      ]
     },
     "execution_count": 12,
     "metadata": {},
     "output_type": "execute_result"
    }
   ],
   "source": [
    "month_ago = latest - 86400*90    # 최종 날짜로부터 30일 이전 날짜를 구한다.  \n",
    "data = data[data['Time'] > month_ago]   # 방금 구한 날짜 이후의 데이터만 모은다. \n",
    "data"
   ]
  },
  {
   "cell_type": "code",
   "execution_count": 13,
   "id": "31327c25",
   "metadata": {},
   "outputs": [
    {
     "data": {
      "text/plain": [
       "(233, 1825)"
      ]
     },
     "execution_count": 13,
     "metadata": {},
     "output_type": "execute_result"
    }
   ],
   "source": [
    "data['UserId'].nunique(), data['ItemId'].nunique()"
   ]
  },
  {
   "cell_type": "markdown",
   "id": "9a18d970",
   "metadata": {},
   "source": [
    "### Data Cleaning\n",
    "- 비정상적으로 많이 평가된 아이템뿐만아니라 너무 적게 평가된 아이템도 전처리를 해줘야한다."
   ]
  },
  {
   "cell_type": "markdown",
   "id": "b879a1eb",
   "metadata": {},
   "source": [
    "__영화별 평가개수 확인__ "
   ]
  },
  {
   "cell_type": "code",
   "execution_count": 14,
   "id": "711fef25",
   "metadata": {},
   "outputs": [
    {
     "data": {
      "text/plain": [
       "ItemId\n",
       "1        5\n",
       "2        3\n",
       "3        4\n",
       "5        2\n",
       "6        5\n",
       "        ..\n",
       "3948    16\n",
       "3949    10\n",
       "3950     2\n",
       "3951     1\n",
       "3952     6\n",
       "Length: 1825, dtype: int64"
      ]
     },
     "execution_count": 14,
     "metadata": {},
     "output_type": "execute_result"
    }
   ],
   "source": [
    "item_popular = data.groupby('ItemId').size()\n",
    "item_popular"
   ]
  },
  {
   "cell_type": "code",
   "execution_count": 15,
   "id": "1fb3f7bb",
   "metadata": {},
   "outputs": [
    {
     "data": {
      "text/plain": [
       "(1, 16, 2.5293150684931507)"
      ]
     },
     "execution_count": 15,
     "metadata": {},
     "output_type": "execute_result"
    }
   ],
   "source": [
    "min(item_popular), max(item_popular), np.mean(item_popular)"
   ]
  },
  {
   "cell_type": "code",
   "execution_count": 16,
   "id": "effff49b",
   "metadata": {},
   "outputs": [
    {
     "data": {
      "text/plain": [
       "15.176000000000158"
      ]
     },
     "execution_count": 16,
     "metadata": {},
     "output_type": "execute_result"
    }
   ],
   "source": [
    "item_popular.quantile(0.999)"
   ]
  },
  {
   "cell_type": "markdown",
   "id": "8c491986",
   "metadata": {},
   "source": [
    "__전처리__\n",
    "- 19개이하의 평가항목 제외 (사실상 데이터 셋에 존재하지않음)\n",
    "- 200개이하의 평가가 없는 항목제외"
   ]
  },
  {
   "cell_type": "code",
   "execution_count": 17,
   "id": "d8dbe3af",
   "metadata": {},
   "outputs": [],
   "source": [
    "def cleanse_recursive(data: pd.DataFrame, shortest, least_rank) -> pd.DataFrame:\n",
    "    while True:\n",
    "        before_len = len(data)\n",
    "        data = cleanse_short_session(data, shortest)\n",
    "        data = cleanse_unpopular_item(data, least_rank)\n",
    "        after_len = len(data)\n",
    "        if before_len == after_len:\n",
    "            break\n",
    "    return data\n",
    "\n",
    "\n",
    "def cleanse_short_session(data: pd.DataFrame, shortest):\n",
    "    session_len = data.groupby('UserId').size()\n",
    "    session_use = session_len[session_len >= shortest].index\n",
    "    data = data[data['UserId'].isin(session_use)]\n",
    "    return data\n",
    "\n",
    "\n",
    "def cleanse_unpopular_item(data: pd.DataFrame, least_rank):\n",
    "    item_popular = data.groupby('ItemId').size()\n",
    "    item_use = item_popular[item_popular >= least_rank].index\n",
    "    data = data[data['ItemId'].isin(item_use)]\n",
    "    return data"
   ]
  },
  {
   "cell_type": "code",
   "execution_count": 18,
   "id": "95bdf481",
   "metadata": {},
   "outputs": [
    {
     "data": {
      "text/html": [
       "<div>\n",
       "<style scoped>\n",
       "    .dataframe tbody tr th:only-of-type {\n",
       "        vertical-align: middle;\n",
       "    }\n",
       "\n",
       "    .dataframe tbody tr th {\n",
       "        vertical-align: top;\n",
       "    }\n",
       "\n",
       "    .dataframe thead th {\n",
       "        text-align: right;\n",
       "    }\n",
       "</style>\n",
       "<table border=\"1\" class=\"dataframe\">\n",
       "  <thead>\n",
       "    <tr style=\"text-align: right;\">\n",
       "      <th></th>\n",
       "      <th>UserId</th>\n",
       "      <th>ItemId</th>\n",
       "      <th>Rating</th>\n",
       "      <th>Time</th>\n",
       "    </tr>\n",
       "  </thead>\n",
       "  <tbody>\n",
       "    <tr>\n",
       "      <th>8704</th>\n",
       "      <td>59</td>\n",
       "      <td>2997</td>\n",
       "      <td>4</td>\n",
       "      <td>1041962568</td>\n",
       "    </tr>\n",
       "    <tr>\n",
       "      <th>8781</th>\n",
       "      <td>59</td>\n",
       "      <td>2369</td>\n",
       "      <td>4</td>\n",
       "      <td>1041962664</td>\n",
       "    </tr>\n",
       "    <tr>\n",
       "      <th>8797</th>\n",
       "      <td>59</td>\n",
       "      <td>3408</td>\n",
       "      <td>4</td>\n",
       "      <td>1041962692</td>\n",
       "    </tr>\n",
       "    <tr>\n",
       "      <th>8808</th>\n",
       "      <td>59</td>\n",
       "      <td>2712</td>\n",
       "      <td>3</td>\n",
       "      <td>1041962692</td>\n",
       "    </tr>\n",
       "    <tr>\n",
       "      <th>8809</th>\n",
       "      <td>59</td>\n",
       "      <td>2716</td>\n",
       "      <td>3</td>\n",
       "      <td>1041962731</td>\n",
       "    </tr>\n",
       "    <tr>\n",
       "      <th>...</th>\n",
       "      <td>...</td>\n",
       "      <td>...</td>\n",
       "      <td>...</td>\n",
       "      <td>...</td>\n",
       "    </tr>\n",
       "    <tr>\n",
       "      <th>984731</th>\n",
       "      <td>5950</td>\n",
       "      <td>3948</td>\n",
       "      <td>4</td>\n",
       "      <td>1046369637</td>\n",
       "    </tr>\n",
       "    <tr>\n",
       "      <th>984682</th>\n",
       "      <td>5950</td>\n",
       "      <td>3578</td>\n",
       "      <td>4</td>\n",
       "      <td>1046369670</td>\n",
       "    </tr>\n",
       "    <tr>\n",
       "      <th>984475</th>\n",
       "      <td>5950</td>\n",
       "      <td>3793</td>\n",
       "      <td>3</td>\n",
       "      <td>1046369710</td>\n",
       "    </tr>\n",
       "    <tr>\n",
       "      <th>984660</th>\n",
       "      <td>5950</td>\n",
       "      <td>3555</td>\n",
       "      <td>2</td>\n",
       "      <td>1046369737</td>\n",
       "    </tr>\n",
       "    <tr>\n",
       "      <th>984733</th>\n",
       "      <td>5950</td>\n",
       "      <td>1262</td>\n",
       "      <td>4</td>\n",
       "      <td>1046369858</td>\n",
       "    </tr>\n",
       "  </tbody>\n",
       "</table>\n",
       "<p>2550 rows × 4 columns</p>\n",
       "</div>"
      ],
      "text/plain": [
       "        UserId  ItemId  Rating        Time\n",
       "8704        59    2997       4  1041962568\n",
       "8781        59    2369       4  1041962664\n",
       "8797        59    3408       4  1041962692\n",
       "8808        59    2712       3  1041962692\n",
       "8809        59    2716       3  1041962731\n",
       "...        ...     ...     ...         ...\n",
       "984731    5950    3948       4  1046369637\n",
       "984682    5950    3578       4  1046369670\n",
       "984475    5950    3793       3  1046369710\n",
       "984660    5950    3555       2  1046369737\n",
       "984733    5950    1262       4  1046369858\n",
       "\n",
       "[2550 rows x 4 columns]"
      ]
     },
     "execution_count": 18,
     "metadata": {},
     "output_type": "execute_result"
    }
   ],
   "source": [
    "data = cleanse_recursive(data, shortest=19, least_rank=2)\n",
    "data"
   ]
  },
  {
   "cell_type": "code",
   "execution_count": 19,
   "id": "cdfa9be1",
   "metadata": {},
   "outputs": [
    {
     "data": {
      "text/plain": [
       "(44, 800)"
      ]
     },
     "execution_count": 19,
     "metadata": {},
     "output_type": "execute_result"
    }
   ],
   "source": [
    "data['UserId'].nunique(), data['ItemId'].nunique()"
   ]
  },
  {
   "cell_type": "markdown",
   "id": "84b95880",
   "metadata": {},
   "source": [
    "# Step 2. 미니 배치 구성"
   ]
  },
  {
   "cell_type": "markdown",
   "id": "1c8f2dd5",
   "metadata": {},
   "source": [
    "## Train / Valid / Test"
   ]
  },
  {
   "cell_type": "code",
   "execution_count": 20,
   "id": "39002da1",
   "metadata": {},
   "outputs": [
    {
     "name": "stdout",
     "output_type": "stream",
     "text": [
      "2002-12-01 04:17:00 2003-02-28 17:49:50\n"
     ]
    }
   ],
   "source": [
    "first_time = dt.datetime.utcfromtimestamp(data[\"Time\"].min()).strftime('%Y-%m-%d %H:%M:%S')\n",
    "last_time = dt.datetime.utcfromtimestamp(data[\"Time\"].max()).strftime('%Y-%m-%d %H:%M:%S')\n",
    "print(first_time, last_time)"
   ]
  },
  {
   "cell_type": "code",
   "execution_count": 21,
   "id": "485bec49",
   "metadata": {},
   "outputs": [],
   "source": [
    "def split_by_date(data: pd.DataFrame, n_days: int):\n",
    "    final_time = data['Time'].max()\n",
    "    session_last_time = data.groupby('UserId')['Time'].max()\n",
    "    session_in_train = session_last_time[session_last_time < final_time - 86400*n_days].index\n",
    "    session_in_test = session_last_time[session_last_time >= final_time - 86400*n_days].index\n",
    "\n",
    "    before_date = data[data['UserId'].isin(session_in_train)]\n",
    "    after_date = data[data['UserId'].isin(session_in_test)]\n",
    "    after_date = after_date[after_date['ItemId'].isin(before_date['ItemId'])]\n",
    "    return before_date, after_date"
   ]
  },
  {
   "cell_type": "code",
   "execution_count": 22,
   "id": "972f5a88",
   "metadata": {},
   "outputs": [],
   "source": [
    "tr, test = split_by_date(data, n_days=1)\n",
    "tr, val = split_by_date(tr, n_days=1)"
   ]
  },
  {
   "cell_type": "code",
   "execution_count": 23,
   "id": "1978464b",
   "metadata": {},
   "outputs": [],
   "source": [
    "# data에 대한 정보를 살펴봅니다.\n",
    "def stats_info(data: pd.DataFrame, status: str):\n",
    "    first_time = dt.datetime.utcfromtimestamp(data[\"Time\"].min()).strftime('%Y-%m-%d %H:%M:%S')\n",
    "    last_time = dt.datetime.utcfromtimestamp(data[\"Time\"].max()).strftime('%Y-%m-%d %H:%M:%S')\n",
    "    print(f'* {status} Set Stats Info\\n'\n",
    "          f'\\t Events: {len(data)}\\n'\n",
    "          f'\\t Sessions: {data[\"UserId\"].nunique()}\\n'\n",
    "          f'\\t Items: {data[\"ItemId\"].nunique()}\\n'\n",
    "          f'\\t First Time : {first_time}\\n'\n",
    "          f'\\t Last Time : {last_time}\\n')"
   ]
  },
  {
   "cell_type": "code",
   "execution_count": 24,
   "id": "d660319c",
   "metadata": {},
   "outputs": [
    {
     "name": "stdout",
     "output_type": "stream",
     "text": [
      "* train Set Stats Info\n",
      "\t Events: 2260\n",
      "\t Sessions: 39\n",
      "\t Items: 798\n",
      "\t First Time : 2002-12-01 04:17:00\n",
      "\t Last Time : 2003-02-25 19:06:16\n",
      "\n",
      "* valid Set Stats Info\n",
      "\t Events: 149\n",
      "\t Sessions: 3\n",
      "\t Items: 143\n",
      "\t First Time : 2002-12-02 18:59:09\n",
      "\t Last Time : 2003-02-27 13:14:38\n",
      "\n",
      "* test Set Stats Info\n",
      "\t Events: 138\n",
      "\t Sessions: 2\n",
      "\t Items: 138\n",
      "\t First Time : 2003-01-09 21:11:55\n",
      "\t Last Time : 2003-02-28 17:49:50\n",
      "\n"
     ]
    }
   ],
   "source": [
    "stats_info(tr, 'train')\n",
    "stats_info(val, 'valid')\n",
    "stats_info(test, 'test')"
   ]
  },
  {
   "cell_type": "markdown",
   "id": "4b5d9495",
   "metadata": {},
   "source": [
    "__인덱싱__"
   ]
  },
  {
   "cell_type": "code",
   "execution_count": 25,
   "id": "b05090ab",
   "metadata": {},
   "outputs": [],
   "source": [
    "# train set에 없는 아이템이 val, test기간에 생길 수 있으므로 train data를 기준으로 인덱싱합니다.\n",
    "id2idx = {item_id : index for index, item_id in enumerate(tr['ItemId'].unique())}\n",
    "\n",
    "def indexing(df, id2idx):\n",
    "    df['item_idx'] = df['ItemId'].map(lambda x: id2idx.get(x, -1))  # id2idx에 없는 아이템은 모르는 값(-1) 처리 해줍니다.\n",
    "    return df\n",
    "\n",
    "tr = indexing(tr, id2idx)\n",
    "val = indexing(val, id2idx)\n",
    "test = indexing(test, id2idx)"
   ]
  },
  {
   "cell_type": "markdown",
   "id": "ca885ce2",
   "metadata": {},
   "source": [
    "__데이터 저장__"
   ]
  },
  {
   "cell_type": "code",
   "execution_count": 26,
   "id": "3d4152c5",
   "metadata": {},
   "outputs": [],
   "source": [
    "save_path = data_path / 'processed'\n",
    "save_path.mkdir(parents=True, exist_ok=True)\n",
    "\n",
    "tr.to_pickle(save_path / 'train.pkl')\n",
    "val.to_pickle(save_path / 'valid.pkl')\n",
    "test.to_pickle(save_path / 'test.pkl')"
   ]
  },
  {
   "cell_type": "markdown",
   "id": "030be208",
   "metadata": {},
   "source": [
    "## Data Pipeline"
   ]
  },
  {
   "cell_type": "markdown",
   "id": "5345e133",
   "metadata": {},
   "source": [
    "### SessionDataset"
   ]
  },
  {
   "cell_type": "code",
   "execution_count": 27,
   "id": "39e20062",
   "metadata": {},
   "outputs": [],
   "source": [
    "class SessionDataset:\n",
    "    \"\"\"Credit to yhs-968/pyGRU4REC.\"\"\"\n",
    "\n",
    "    def __init__(self, data):\n",
    "        self.df = data\n",
    "        self.click_offsets = self.get_click_offsets()\n",
    "        self.session_idx = np.arange(self.df['UserId'].nunique())  # indexing to SessionId\n",
    "\n",
    "    def get_click_offsets(self):\n",
    "        \"\"\"\n",
    "        Return the indexes of the first click of each session IDs,\n",
    "        \"\"\"\n",
    "        offsets = np.zeros(self.df['UserId'].nunique() + 1, dtype=np.int32)\n",
    "        offsets[1:] = self.df.groupby('UserId').size().cumsum()\n",
    "        return offsets"
   ]
  },
  {
   "cell_type": "markdown",
   "id": "cd7bd762",
   "metadata": {},
   "source": [
    "__train에 적용__"
   ]
  },
  {
   "cell_type": "code",
   "execution_count": 28,
   "id": "ca1b3c28",
   "metadata": {},
   "outputs": [
    {
     "data": {
      "text/html": [
       "<div>\n",
       "<style scoped>\n",
       "    .dataframe tbody tr th:only-of-type {\n",
       "        vertical-align: middle;\n",
       "    }\n",
       "\n",
       "    .dataframe tbody tr th {\n",
       "        vertical-align: top;\n",
       "    }\n",
       "\n",
       "    .dataframe thead th {\n",
       "        text-align: right;\n",
       "    }\n",
       "</style>\n",
       "<table border=\"1\" class=\"dataframe\">\n",
       "  <thead>\n",
       "    <tr style=\"text-align: right;\">\n",
       "      <th></th>\n",
       "      <th>UserId</th>\n",
       "      <th>ItemId</th>\n",
       "      <th>Rating</th>\n",
       "      <th>Time</th>\n",
       "      <th>item_idx</th>\n",
       "    </tr>\n",
       "  </thead>\n",
       "  <tbody>\n",
       "    <tr>\n",
       "      <th>8704</th>\n",
       "      <td>59</td>\n",
       "      <td>2997</td>\n",
       "      <td>4</td>\n",
       "      <td>1041962568</td>\n",
       "      <td>0</td>\n",
       "    </tr>\n",
       "    <tr>\n",
       "      <th>8781</th>\n",
       "      <td>59</td>\n",
       "      <td>2369</td>\n",
       "      <td>4</td>\n",
       "      <td>1041962664</td>\n",
       "      <td>1</td>\n",
       "    </tr>\n",
       "    <tr>\n",
       "      <th>8797</th>\n",
       "      <td>59</td>\n",
       "      <td>3408</td>\n",
       "      <td>4</td>\n",
       "      <td>1041962692</td>\n",
       "      <td>2</td>\n",
       "    </tr>\n",
       "    <tr>\n",
       "      <th>8808</th>\n",
       "      <td>59</td>\n",
       "      <td>2712</td>\n",
       "      <td>3</td>\n",
       "      <td>1041962692</td>\n",
       "      <td>3</td>\n",
       "    </tr>\n",
       "    <tr>\n",
       "      <th>8809</th>\n",
       "      <td>59</td>\n",
       "      <td>2716</td>\n",
       "      <td>3</td>\n",
       "      <td>1041962731</td>\n",
       "      <td>4</td>\n",
       "    </tr>\n",
       "    <tr>\n",
       "      <th>8834</th>\n",
       "      <td>59</td>\n",
       "      <td>2686</td>\n",
       "      <td>4</td>\n",
       "      <td>1041962808</td>\n",
       "      <td>5</td>\n",
       "    </tr>\n",
       "    <tr>\n",
       "      <th>8798</th>\n",
       "      <td>59</td>\n",
       "      <td>2396</td>\n",
       "      <td>4</td>\n",
       "      <td>1041962835</td>\n",
       "      <td>6</td>\n",
       "    </tr>\n",
       "    <tr>\n",
       "      <th>8839</th>\n",
       "      <td>59</td>\n",
       "      <td>2762</td>\n",
       "      <td>3</td>\n",
       "      <td>1041962835</td>\n",
       "      <td>7</td>\n",
       "    </tr>\n",
       "    <tr>\n",
       "      <th>8769</th>\n",
       "      <td>59</td>\n",
       "      <td>3157</td>\n",
       "      <td>3</td>\n",
       "      <td>1041962858</td>\n",
       "      <td>8</td>\n",
       "    </tr>\n",
       "    <tr>\n",
       "      <th>8720</th>\n",
       "      <td>59</td>\n",
       "      <td>2070</td>\n",
       "      <td>4</td>\n",
       "      <td>1041962876</td>\n",
       "      <td>9</td>\n",
       "    </tr>\n",
       "  </tbody>\n",
       "</table>\n",
       "</div>"
      ],
      "text/plain": [
       "      UserId  ItemId  Rating        Time  item_idx\n",
       "8704      59    2997       4  1041962568         0\n",
       "8781      59    2369       4  1041962664         1\n",
       "8797      59    3408       4  1041962692         2\n",
       "8808      59    2712       3  1041962692         3\n",
       "8809      59    2716       3  1041962731         4\n",
       "8834      59    2686       4  1041962808         5\n",
       "8798      59    2396       4  1041962835         6\n",
       "8839      59    2762       3  1041962835         7\n",
       "8769      59    3157       3  1041962858         8\n",
       "8720      59    2070       4  1041962876         9"
      ]
     },
     "execution_count": 28,
     "metadata": {},
     "output_type": "execute_result"
    }
   ],
   "source": [
    "tr_dataset = SessionDataset(tr)\n",
    "tr_dataset.df.head(10)"
   ]
  },
  {
   "cell_type": "code",
   "execution_count": 29,
   "id": "f999771e",
   "metadata": {},
   "outputs": [
    {
     "data": {
      "text/plain": [
       "array([   0,   83,  163,  209,  232,  324,  351,  538,  603,  646,  675,\n",
       "        706,  725,  747,  787,  832,  871,  926,  955,  977, 1000, 1028,\n",
       "       1160, 1192, 1335, 1355, 1376, 1496, 1518, 1573, 1594, 1826, 1873,\n",
       "       1903, 1933, 1953, 1983, 2025, 2070, 2260], dtype=int32)"
      ]
     },
     "execution_count": 29,
     "metadata": {},
     "output_type": "execute_result"
    }
   ],
   "source": [
    "tr_dataset.click_offsets"
   ]
  },
  {
   "cell_type": "code",
   "execution_count": 30,
   "id": "23430575",
   "metadata": {},
   "outputs": [
    {
     "data": {
      "text/plain": [
       "array([ 0,  1,  2,  3,  4,  5,  6,  7,  8,  9, 10, 11, 12, 13, 14, 15, 16,\n",
       "       17, 18, 19, 20, 21, 22, 23, 24, 25, 26, 27, 28, 29, 30, 31, 32, 33,\n",
       "       34, 35, 36, 37, 38])"
      ]
     },
     "execution_count": 30,
     "metadata": {},
     "output_type": "execute_result"
    }
   ],
   "source": [
    "tr_dataset.session_idx"
   ]
  },
  {
   "cell_type": "markdown",
   "id": "9f398e8e",
   "metadata": {},
   "source": [
    "### SessionDataLoader"
   ]
  },
  {
   "cell_type": "code",
   "execution_count": 31,
   "id": "4595527d",
   "metadata": {},
   "outputs": [],
   "source": [
    "class SessionDataLoader:\n",
    "    \"\"\"Credit to yhs-968/pyGRU4REC.\"\"\"\n",
    "\n",
    "    def __init__(self, dataset: SessionDataset, batch_size=50):\n",
    "        self.dataset = dataset\n",
    "        self.batch_size = batch_size\n",
    "\n",
    "    def __iter__(self):\n",
    "        \"\"\" Returns the iterator for producing session-parallel training mini-batches.\n",
    "        Yields:\n",
    "            input (B,):  Item indices that will be encoded as one-hot vectors later.\n",
    "            target (B,): a Variable that stores the target item indices\n",
    "            masks: Numpy array indicating the positions of the sessions to be terminated\n",
    "        \"\"\"\n",
    "\n",
    "        start, end, mask, last_session, finished = self.initialize()  # initialize 메소드에서 확인해주세요.\n",
    "        \"\"\"\n",
    "        start : Index Where Session Start\n",
    "        end : Index Where Session End\n",
    "        mask : indicator for the sessions to be terminated\n",
    "        \"\"\"\n",
    "\n",
    "        while not finished:\n",
    "            min_len = (end - start).min() - 1  # Shortest Length Among Sessions\n",
    "            for i in range(min_len):\n",
    "                # Build inputs & targets\n",
    "                inp = self.dataset.df['item_idx'].values[start + i]\n",
    "                target = self.dataset.df['item_idx'].values[start + i + 1]\n",
    "                yield inp, target, mask\n",
    "\n",
    "            start, end, mask, last_session, finished = self.update_status(start, end, min_len, last_session, finished)\n",
    "\n",
    "    def initialize(self):\n",
    "        first_iters = np.arange(self.batch_size)    # 첫 배치에 사용할 세션 Index를 가져옵니다.\n",
    "        last_session = self.batch_size - 1    # 마지막으로 다루고 있는 세션 Index를 저장해둡니다.\n",
    "        start = self.dataset.click_offsets[self.dataset.session_idx[first_iters]]       # data 상에서 session이 시작된 위치를 가져옵니다.\n",
    "        end = self.dataset.click_offsets[self.dataset.session_idx[first_iters] + 1]  # session이 끝난 위치 바로 다음 위치를 가져옵니다.\n",
    "        mask = np.array([])   # session의 모든 아이템을 다 돌은 경우 mask에 추가해줄 것입니다.\n",
    "        finished = False         # data를 전부 돌았는지 기록하기 위한 변수입니다.\n",
    "        return start, end, mask, last_session, finished\n",
    "\n",
    "    def update_status(self, start: np.ndarray, end: np.ndarray, min_len: int, last_session: int, finished: bool):  \n",
    "        # 다음 배치 데이터를 생성하기 위해 상태를 update합니다.\n",
    "        \n",
    "        start += min_len   # __iter__에서 min_len 만큼 for문을 돌았으므로 start를 min_len 만큼 더해줍니다.\n",
    "        mask = np.arange(self.batch_size)[(end - start) == 1]  \n",
    "        # end는 다음 세션이 시작되는 위치인데 start와 한 칸 차이난다는 것은 session이 끝났다는 뜻입니다. mask에 기록해줍니다.\n",
    "\n",
    "        for i, idx in enumerate(mask, start=1):  # mask에 추가된 세션 개수만큼 새로운 세션을 돌것입니다.\n",
    "            new_session = last_session + i  \n",
    "            if new_session > self.dataset.session_idx[-1]:  # 만약 새로운 세션이 마지막 세션 index보다 크다면 모든 학습데이터를 돈 것입니다.\n",
    "                finished = True\n",
    "                break\n",
    "            # update the next starting/ending point\n",
    "            start[idx] = self.dataset.click_offsets[self.dataset.session_idx[new_session]]     # 종료된 세션 대신 새로운 세션의 시작점을 기록합니다.\n",
    "            end[idx] = self.dataset.click_offsets[self.dataset.session_idx[new_session] + 1]\n",
    "\n",
    "        last_session += len(mask)  # 마지막 세션의 위치를 기록해둡니다.\n",
    "        return start, end, mask, last_session, finished"
   ]
  },
  {
   "cell_type": "code",
   "execution_count": 32,
   "id": "8ac51d6c",
   "metadata": {},
   "outputs": [
    {
     "data": {
      "text/html": [
       "<div>\n",
       "<style scoped>\n",
       "    .dataframe tbody tr th:only-of-type {\n",
       "        vertical-align: middle;\n",
       "    }\n",
       "\n",
       "    .dataframe tbody tr th {\n",
       "        vertical-align: top;\n",
       "    }\n",
       "\n",
       "    .dataframe thead th {\n",
       "        text-align: right;\n",
       "    }\n",
       "</style>\n",
       "<table border=\"1\" class=\"dataframe\">\n",
       "  <thead>\n",
       "    <tr style=\"text-align: right;\">\n",
       "      <th></th>\n",
       "      <th>UserId</th>\n",
       "      <th>ItemId</th>\n",
       "      <th>Rating</th>\n",
       "      <th>Time</th>\n",
       "      <th>item_idx</th>\n",
       "    </tr>\n",
       "  </thead>\n",
       "  <tbody>\n",
       "    <tr>\n",
       "      <th>8704</th>\n",
       "      <td>59</td>\n",
       "      <td>2997</td>\n",
       "      <td>4</td>\n",
       "      <td>1041962568</td>\n",
       "      <td>0</td>\n",
       "    </tr>\n",
       "    <tr>\n",
       "      <th>8781</th>\n",
       "      <td>59</td>\n",
       "      <td>2369</td>\n",
       "      <td>4</td>\n",
       "      <td>1041962664</td>\n",
       "      <td>1</td>\n",
       "    </tr>\n",
       "    <tr>\n",
       "      <th>8797</th>\n",
       "      <td>59</td>\n",
       "      <td>3408</td>\n",
       "      <td>4</td>\n",
       "      <td>1041962692</td>\n",
       "      <td>2</td>\n",
       "    </tr>\n",
       "    <tr>\n",
       "      <th>8808</th>\n",
       "      <td>59</td>\n",
       "      <td>2712</td>\n",
       "      <td>3</td>\n",
       "      <td>1041962692</td>\n",
       "      <td>3</td>\n",
       "    </tr>\n",
       "    <tr>\n",
       "      <th>8809</th>\n",
       "      <td>59</td>\n",
       "      <td>2716</td>\n",
       "      <td>3</td>\n",
       "      <td>1041962731</td>\n",
       "      <td>4</td>\n",
       "    </tr>\n",
       "    <tr>\n",
       "      <th>8834</th>\n",
       "      <td>59</td>\n",
       "      <td>2686</td>\n",
       "      <td>4</td>\n",
       "      <td>1041962808</td>\n",
       "      <td>5</td>\n",
       "    </tr>\n",
       "    <tr>\n",
       "      <th>8798</th>\n",
       "      <td>59</td>\n",
       "      <td>2396</td>\n",
       "      <td>4</td>\n",
       "      <td>1041962835</td>\n",
       "      <td>6</td>\n",
       "    </tr>\n",
       "    <tr>\n",
       "      <th>8839</th>\n",
       "      <td>59</td>\n",
       "      <td>2762</td>\n",
       "      <td>3</td>\n",
       "      <td>1041962835</td>\n",
       "      <td>7</td>\n",
       "    </tr>\n",
       "    <tr>\n",
       "      <th>8769</th>\n",
       "      <td>59</td>\n",
       "      <td>3157</td>\n",
       "      <td>3</td>\n",
       "      <td>1041962858</td>\n",
       "      <td>8</td>\n",
       "    </tr>\n",
       "    <tr>\n",
       "      <th>8720</th>\n",
       "      <td>59</td>\n",
       "      <td>2070</td>\n",
       "      <td>4</td>\n",
       "      <td>1041962876</td>\n",
       "      <td>9</td>\n",
       "    </tr>\n",
       "    <tr>\n",
       "      <th>8906</th>\n",
       "      <td>59</td>\n",
       "      <td>1172</td>\n",
       "      <td>4</td>\n",
       "      <td>1041962943</td>\n",
       "      <td>10</td>\n",
       "    </tr>\n",
       "    <tr>\n",
       "      <th>8760</th>\n",
       "      <td>59</td>\n",
       "      <td>930</td>\n",
       "      <td>4</td>\n",
       "      <td>1041962965</td>\n",
       "      <td>11</td>\n",
       "    </tr>\n",
       "    <tr>\n",
       "      <th>8708</th>\n",
       "      <td>59</td>\n",
       "      <td>2067</td>\n",
       "      <td>4</td>\n",
       "      <td>1041962991</td>\n",
       "      <td>12</td>\n",
       "    </tr>\n",
       "    <tr>\n",
       "      <th>8741</th>\n",
       "      <td>59</td>\n",
       "      <td>1296</td>\n",
       "      <td>3</td>\n",
       "      <td>1041963037</td>\n",
       "      <td>13</td>\n",
       "    </tr>\n",
       "    <tr>\n",
       "      <th>8829</th>\n",
       "      <td>59</td>\n",
       "      <td>17</td>\n",
       "      <td>4</td>\n",
       "      <td>1041963037</td>\n",
       "      <td>14</td>\n",
       "    </tr>\n",
       "  </tbody>\n",
       "</table>\n",
       "</div>"
      ],
      "text/plain": [
       "      UserId  ItemId  Rating        Time  item_idx\n",
       "8704      59    2997       4  1041962568         0\n",
       "8781      59    2369       4  1041962664         1\n",
       "8797      59    3408       4  1041962692         2\n",
       "8808      59    2712       3  1041962692         3\n",
       "8809      59    2716       3  1041962731         4\n",
       "8834      59    2686       4  1041962808         5\n",
       "8798      59    2396       4  1041962835         6\n",
       "8839      59    2762       3  1041962835         7\n",
       "8769      59    3157       3  1041962858         8\n",
       "8720      59    2070       4  1041962876         9\n",
       "8906      59    1172       4  1041962943        10\n",
       "8760      59     930       4  1041962965        11\n",
       "8708      59    2067       4  1041962991        12\n",
       "8741      59    1296       3  1041963037        13\n",
       "8829      59      17       4  1041963037        14"
      ]
     },
     "execution_count": 32,
     "metadata": {},
     "output_type": "execute_result"
    }
   ],
   "source": [
    "tr_data_loader = SessionDataLoader(tr_dataset, batch_size=4)\n",
    "tr_dataset.df.head(15)"
   ]
  },
  {
   "cell_type": "code",
   "execution_count": 33,
   "id": "bb373046",
   "metadata": {},
   "outputs": [],
   "source": [
    "iter_ex = iter(tr_data_loader)"
   ]
  },
  {
   "cell_type": "code",
   "execution_count": 34,
   "id": "fa4c2570",
   "metadata": {},
   "outputs": [
    {
     "name": "stdout",
     "output_type": "stream",
     "text": [
      "Model Input Item Idx are : [  0  83 112 175]\n",
      "Label Item Idx are :       [  1  84 141 176]\n",
      "Previous Masked Input Idx are []\n"
     ]
    }
   ],
   "source": [
    "inputs, labels, mask =  next(iter_ex)\n",
    "print(f'Model Input Item Idx are : {inputs}')\n",
    "print(f'Label Item Idx are : {\"\":5} {labels}')\n",
    "print(f'Previous Masked Input Idx are {mask}')"
   ]
  },
  {
   "cell_type": "markdown",
   "id": "20028ae4",
   "metadata": {},
   "source": [
    "# Step 3. 모델 구성"
   ]
  },
  {
   "cell_type": "markdown",
   "id": "2540927b",
   "metadata": {},
   "source": [
    "## Evaluation Metric\n",
    "- Session-Based Recommendation Task에서는 모델이 k개의 아이템을 제시했을 때, 유저가 클릭/구매한 n개의 아이템이 많아야 좋다.\n",
    "- 따라서 recall의 개념을 확장한 recall@k, precision의 개념을 확장한 Mean Average Precision@k를 사용한다.\n",
    "- 추천 시스템에서는 몇 번째로 맞추느냐도 중요하다. 따라서 순서의 민감한 지표인 MRR, NDCG같은 지표도 사용한다."
   ]
  },
  {
   "cell_type": "markdown",
   "id": "280aa763",
   "metadata": {},
   "source": [
    "__MRR, recall@k 사용__"
   ]
  },
  {
   "cell_type": "code",
   "execution_count": 35,
   "id": "9276ae18",
   "metadata": {},
   "outputs": [],
   "source": [
    "def mrr_k(pred, truth: int, k: int):\n",
    "    indexing = np.where(pred[:k] == truth)[0]\n",
    "    if len(indexing) > 0:\n",
    "        return 1 / (indexing[0] + 1)\n",
    "    else:\n",
    "        return 0\n",
    "\n",
    "\n",
    "def recall_k(pred, truth: int, k: int) -> int:\n",
    "    answer = truth in pred[:k]\n",
    "    return int(answer)"
   ]
  },
  {
   "cell_type": "markdown",
   "id": "839d7d1d",
   "metadata": {},
   "source": [
    "## Model Architecture"
   ]
  },
  {
   "cell_type": "code",
   "execution_count": 36,
   "id": "4881085d",
   "metadata": {},
   "outputs": [],
   "source": [
    "import numpy as np\n",
    "import tensorflow as tf\n",
    "from tensorflow.keras.layers import Input, Dense, Dropout, GRU\n",
    "from tensorflow.keras.losses import categorical_crossentropy\n",
    "from tensorflow.keras.models import Model\n",
    "from tensorflow.keras.optimizers import Adam\n",
    "from tensorflow.keras.utils import to_categorical\n",
    "from tqdm import tqdm"
   ]
  },
  {
   "cell_type": "code",
   "execution_count": 37,
   "id": "24350ff9",
   "metadata": {},
   "outputs": [],
   "source": [
    "def create_model(args):\n",
    "    inputs = Input(batch_shape=(args.batch_size, 1, args.num_items))\n",
    "    gru, _ = GRU(args.hsz, stateful=True, return_state=True, name='GRU')(inputs)\n",
    "    dropout = Dropout(args.drop_rate)(gru)\n",
    "    predictions = Dense(args.num_items, activation='softmax')(dropout)\n",
    "    model = Model(inputs=inputs, outputs=[predictions])\n",
    "    model.compile(loss=categorical_crossentropy, optimizer=Adam(args.lr), metrics=['accuracy'])\n",
    "    model.summary()\n",
    "    return model"
   ]
  },
  {
   "cell_type": "markdown",
   "id": "25d16124",
   "metadata": {},
   "source": [
    "__hyper-parameter class화__"
   ]
  },
  {
   "cell_type": "code",
   "execution_count": 62,
   "id": "31d054ae",
   "metadata": {},
   "outputs": [],
   "source": [
    "class Args:\n",
    "    def __init__(self, tr, val, test, batch_size, hsz, drop_rate, lr, epochs, k):\n",
    "        self.tr = tr\n",
    "        self.val = val\n",
    "        self.test = test\n",
    "        self.num_items = tr['ItemId'].nunique()\n",
    "        self.num_sessions = tr['UserId'].nunique()\n",
    "        self.batch_size = batch_size\n",
    "        self.hsz = hsz\n",
    "        self.drop_rate = drop_rate\n",
    "        self.lr = lr\n",
    "        self.epochs = epochs\n",
    "        self.k = k\n",
    "\n",
    "args = Args(tr, val, test, batch_size=2, hsz=50, drop_rate=0.1, lr=0.0001, epochs=10, k=20)"
   ]
  },
  {
   "cell_type": "code",
   "execution_count": 63,
   "id": "f6edfbd2",
   "metadata": {},
   "outputs": [
    {
     "name": "stdout",
     "output_type": "stream",
     "text": [
      "Model: \"model_5\"\n",
      "_________________________________________________________________\n",
      "Layer (type)                 Output Shape              Param #   \n",
      "=================================================================\n",
      "input_6 (InputLayer)         [(2, 1, 798)]             0         \n",
      "_________________________________________________________________\n",
      "GRU (GRU)                    [(2, 50), (2, 50)]        127500    \n",
      "_________________________________________________________________\n",
      "dropout_5 (Dropout)          (2, 50)                   0         \n",
      "_________________________________________________________________\n",
      "dense_5 (Dense)              (2, 798)                  40698     \n",
      "=================================================================\n",
      "Total params: 168,198\n",
      "Trainable params: 168,198\n",
      "Non-trainable params: 0\n",
      "_________________________________________________________________\n"
     ]
    }
   ],
   "source": [
    "model = create_model(args)"
   ]
  },
  {
   "cell_type": "markdown",
   "id": "5d3e916f",
   "metadata": {},
   "source": [
    "# Step 4. 모델 학습"
   ]
  },
  {
   "cell_type": "code",
   "execution_count": 64,
   "id": "0e2ecbba",
   "metadata": {},
   "outputs": [],
   "source": [
    "# train 셋으로 학습하면서 valid 셋으로 검증합니다.\n",
    "def train_model(model, args):\n",
    "    train_dataset = SessionDataset(args.tr)\n",
    "    train_loader = SessionDataLoader(train_dataset, batch_size=args.batch_size)\n",
    "\n",
    "    for epoch in range(1, args.epochs + 1):\n",
    "        total_step = len(args.tr) - args.tr['UserId'].nunique()\n",
    "        tr_loader = tqdm(train_loader, total=total_step // args.batch_size, desc='Train', mininterval=1)\n",
    "        for feat, target, mask in tr_loader:\n",
    "            reset_hidden_states(model, mask)  # 종료된 session은 hidden_state를 초기화합니다. 아래 메서드에서 확인해주세요.\n",
    "\n",
    "            input_ohe = to_categorical(feat, num_classes=args.num_items)\n",
    "            input_ohe = np.expand_dims(input_ohe, axis=1)\n",
    "            target_ohe = to_categorical(target, num_classes=args.num_items)\n",
    "\n",
    "            result = model.train_on_batch(input_ohe, target_ohe)\n",
    "            tr_loader.set_postfix(train_loss=result[0], accuracy = result[1])\n",
    "\n",
    "        val_recall, val_mrr = get_metrics(args.val, model, args, args.k)  # valid set에 대해 검증합니다.\n",
    "\n",
    "        print(f\"\\t - Recall@{args.k} epoch {epoch}: {val_recall:3f}\")\n",
    "        print(f\"\\t - MRR@{args.k}    epoch {epoch}: {val_mrr:3f}\\n\")\n",
    "\n",
    "\n",
    "def reset_hidden_states(model, mask):\n",
    "    gru_layer = model.get_layer(name='GRU')  # model에서 gru layer를 가져옵니다.\n",
    "    hidden_states = gru_layer.states[0].numpy()  # gru_layer의 parameter를 가져옵니다.\n",
    "    for elt in mask:  # mask된 인덱스 즉, 종료된 세션의 인덱스를 돌면서\n",
    "        hidden_states[elt, :] = 0  # parameter를 초기화 합니다.\n",
    "    gru_layer.reset_states(states=hidden_states)\n",
    "\n",
    "\n",
    "def get_metrics(data, model, args, k: int):  # valid셋과 test셋을 평가하는 코드입니다. \n",
    "                                             # train과 거의 같지만 mrr, recall을 구하는 라인이 있습니다.\n",
    "    dataset = SessionDataset(data)\n",
    "    loader = SessionDataLoader(dataset, batch_size=args.batch_size)\n",
    "    recall_list, mrr_list = [], []\n",
    "\n",
    "    total_step = len(data) - data['UserId'].nunique()\n",
    "    for inputs, label, mask in tqdm(loader, total=total_step // args.batch_size, desc='Evaluation', mininterval=1):\n",
    "        reset_hidden_states(model, mask)\n",
    "        input_ohe = to_categorical(inputs, num_classes=args.num_items)\n",
    "        input_ohe = np.expand_dims(input_ohe, axis=1)\n",
    "\n",
    "        pred = model.predict(input_ohe, batch_size=args.batch_size)\n",
    "        pred_arg = tf.argsort(pred, direction='DESCENDING')  # softmax 값이 큰 순서대로 sorting 합니다.\n",
    "\n",
    "        length = len(inputs)\n",
    "        recall_list.extend([recall_k(pred_arg[i], label[i], k) for i in range(length)])\n",
    "        mrr_list.extend([mrr_k(pred_arg[i], label[i], k) for i in range(length)])\n",
    "\n",
    "    recall, mrr = np.mean(recall_list), np.mean(mrr_list)\n",
    "    return recall, mrr"
   ]
  },
  {
   "cell_type": "code",
   "execution_count": 65,
   "id": "f5e0e47c",
   "metadata": {
    "scrolled": false
   },
   "outputs": [
    {
     "name": "stderr",
     "output_type": "stream",
     "text": [
      "Train:  92%|█████████▏| 1021/1110 [00:09<00:00, 106.31it/s, accuracy=0, train_loss=6.71] \n",
      "Evaluation:  64%|██████▍   | 47/73 [00:02<00:01, 21.46it/s]\n"
     ]
    },
    {
     "name": "stdout",
     "output_type": "stream",
     "text": [
      "\t - Recall@20 epoch 1: 0.000000\n",
      "\t - MRR@20    epoch 1: 0.000000\n",
      "\n"
     ]
    },
    {
     "name": "stderr",
     "output_type": "stream",
     "text": [
      "Train:  92%|█████████▏| 1021/1110 [00:08<00:00, 120.74it/s, accuracy=0, train_loss=6.7]  \n",
      "Evaluation:  64%|██████▍   | 47/73 [00:01<00:01, 24.87it/s]\n"
     ]
    },
    {
     "name": "stdout",
     "output_type": "stream",
     "text": [
      "\t - Recall@20 epoch 2: 0.021277\n",
      "\t - MRR@20    epoch 2: 0.001624\n",
      "\n"
     ]
    },
    {
     "name": "stderr",
     "output_type": "stream",
     "text": [
      "Train:  92%|█████████▏| 1021/1110 [00:08<00:00, 121.28it/s, accuracy=0, train_loss=6.69] \n",
      "Evaluation:  64%|██████▍   | 47/73 [00:01<00:01, 25.50it/s]\n"
     ]
    },
    {
     "name": "stdout",
     "output_type": "stream",
     "text": [
      "\t - Recall@20 epoch 3: 0.031915\n",
      "\t - MRR@20    epoch 3: 0.003196\n",
      "\n"
     ]
    },
    {
     "name": "stderr",
     "output_type": "stream",
     "text": [
      "Train:  92%|█████████▏| 1021/1110 [00:08<00:00, 121.15it/s, accuracy=0, train_loss=6.68] \n",
      "Evaluation:  64%|██████▍   | 47/73 [00:01<00:01, 25.50it/s]\n"
     ]
    },
    {
     "name": "stdout",
     "output_type": "stream",
     "text": [
      "\t - Recall@20 epoch 4: 0.042553\n",
      "\t - MRR@20    epoch 4: 0.004285\n",
      "\n"
     ]
    },
    {
     "name": "stderr",
     "output_type": "stream",
     "text": [
      "Train:  92%|█████████▏| 1021/1110 [00:08<00:00, 121.01it/s, accuracy=0, train_loss=6.61] \n",
      "Evaluation:  64%|██████▍   | 47/73 [00:01<00:01, 25.08it/s]\n"
     ]
    },
    {
     "name": "stdout",
     "output_type": "stream",
     "text": [
      "\t - Recall@20 epoch 5: 0.031915\n",
      "\t - MRR@20    epoch 5: 0.004433\n",
      "\n"
     ]
    },
    {
     "name": "stderr",
     "output_type": "stream",
     "text": [
      "Train:  92%|█████████▏| 1021/1110 [00:08<00:00, 121.70it/s, accuracy=0, train_loss=6.66] \n",
      "Evaluation:  64%|██████▍   | 47/73 [00:01<00:01, 25.13it/s]\n"
     ]
    },
    {
     "name": "stdout",
     "output_type": "stream",
     "text": [
      "\t - Recall@20 epoch 6: 0.031915\n",
      "\t - MRR@20    epoch 6: 0.004069\n",
      "\n"
     ]
    },
    {
     "name": "stderr",
     "output_type": "stream",
     "text": [
      "Train:  92%|█████████▏| 1021/1110 [00:08<00:00, 120.91it/s, accuracy=0, train_loss=6.64] \n",
      "Evaluation:  64%|██████▍   | 47/73 [00:02<00:01, 22.74it/s]\n"
     ]
    },
    {
     "name": "stdout",
     "output_type": "stream",
     "text": [
      "\t - Recall@20 epoch 7: 0.031915\n",
      "\t - MRR@20    epoch 7: 0.004143\n",
      "\n"
     ]
    },
    {
     "name": "stderr",
     "output_type": "stream",
     "text": [
      "Train:  92%|█████████▏| 1021/1110 [00:08<00:00, 121.08it/s, accuracy=0, train_loss=6.59] \n",
      "Evaluation:  64%|██████▍   | 47/73 [00:01<00:00, 26.12it/s]\n"
     ]
    },
    {
     "name": "stdout",
     "output_type": "stream",
     "text": [
      "\t - Recall@20 epoch 8: 0.031915\n",
      "\t - MRR@20    epoch 8: 0.004159\n",
      "\n"
     ]
    },
    {
     "name": "stderr",
     "output_type": "stream",
     "text": [
      "Train:  92%|█████████▏| 1021/1110 [00:08<00:00, 122.06it/s, accuracy=0, train_loss=6.56] \n",
      "Evaluation:  64%|██████▍   | 47/73 [00:01<00:00, 26.22it/s]\n"
     ]
    },
    {
     "name": "stdout",
     "output_type": "stream",
     "text": [
      "\t - Recall@20 epoch 9: 0.031915\n",
      "\t - MRR@20    epoch 9: 0.003817\n",
      "\n"
     ]
    },
    {
     "name": "stderr",
     "output_type": "stream",
     "text": [
      "Train:  92%|█████████▏| 1021/1110 [00:08<00:00, 121.72it/s, accuracy=0, train_loss=6.6]  \n",
      "Evaluation:  64%|██████▍   | 47/73 [00:01<00:00, 26.23it/s]"
     ]
    },
    {
     "name": "stdout",
     "output_type": "stream",
     "text": [
      "\t - Recall@20 epoch 10: 0.031915\n",
      "\t - MRR@20    epoch 10: 0.004610\n",
      "\n"
     ]
    },
    {
     "name": "stderr",
     "output_type": "stream",
     "text": [
      "\n"
     ]
    }
   ],
   "source": [
    "# 학습 시간이 다소 오래 소요됩니다. 아래 주석을 풀지 마세요.\n",
    "train_model(model, args)"
   ]
  },
  {
   "cell_type": "markdown",
   "id": "dea8d764",
   "metadata": {},
   "source": [
    "# Step 5. 모델 검증"
   ]
  },
  {
   "cell_type": "code",
   "execution_count": 66,
   "id": "5874f850",
   "metadata": {
    "scrolled": false
   },
   "outputs": [
    {
     "name": "stderr",
     "output_type": "stream",
     "text": [
      "Evaluation:  46%|████▌     | 31/68 [00:01<00:01, 26.20it/s]"
     ]
    },
    {
     "name": "stdout",
     "output_type": "stream",
     "text": [
      "\t - Recall@20: 0.032258\n",
      "\t - MRR@20: 0.006336\n",
      "\n"
     ]
    },
    {
     "name": "stderr",
     "output_type": "stream",
     "text": [
      "\n"
     ]
    }
   ],
   "source": [
    "def test_model(model, args, test):\n",
    "    test_recall, test_mrr = get_metrics(test, model, args, 20)\n",
    "    print(f\"\\t - Recall@{args.k}: {test_recall:3f}\")\n",
    "    print(f\"\\t - MRR@{args.k}: {test_mrr:3f}\\n\")\n",
    "\n",
    "test_model(model, args, test)"
   ]
  },
  {
   "cell_type": "markdown",
   "id": "b1403330",
   "metadata": {},
   "source": [
    "___\n",
    "# 프로젝트 정리 \n"
   ]
  },
  {
   "cell_type": "markdown",
   "id": "4c0d84e3",
   "metadata": {},
   "source": [
    "- 결론적으로 안정적인 결과를 얻지 못하였고 아직도 이번 노드에 대해 정확히 이해하지 못하였습니다."
   ]
  }
 ],
 "metadata": {
  "kernelspec": {
   "display_name": "Python 3 (ipykernel)",
   "language": "python",
   "name": "python3"
  },
  "language_info": {
   "codemirror_mode": {
    "name": "ipython",
    "version": 3
   },
   "file_extension": ".py",
   "mimetype": "text/x-python",
   "name": "python",
   "nbconvert_exporter": "python",
   "pygments_lexer": "ipython3",
   "version": "3.9.7"
  }
 },
 "nbformat": 4,
 "nbformat_minor": 5
}
