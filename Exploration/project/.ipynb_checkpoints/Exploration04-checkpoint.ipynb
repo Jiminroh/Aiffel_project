{
 "cells": [
  {
   "cell_type": "markdown",
   "id": "90b9874a",
   "metadata": {},
   "source": [
    "# Exploration 4 멋진 작사가 만들기 \n",
    "---"
   ]
  },
  {
   "cell_type": "markdown",
   "id": "ef642a8c",
   "metadata": {},
   "source": [
    "## Step 구성\n",
    "1. 데이터 전처리    \n",
    "    1. 데이터 다운로드\n",
    "    2. 데이터 토큰화\n",
    "    3. source와 target분리\n",
    "    4. 배치화 및 dataset으로 변환\n",
    "2. 모델 구현\n",
    "3. 모델 평가\n",
    "---"
   ]
  },
  {
   "cell_type": "markdown",
   "id": "8c14ae2d",
   "metadata": {},
   "source": [
    "## step 0. 모듈 Import"
   ]
  },
  {
   "cell_type": "code",
   "execution_count": 1,
   "id": "7cf5b59f",
   "metadata": {},
   "outputs": [],
   "source": [
    "import os, re \n",
    "import numpy as np\n",
    "import tensorflow as tf\n",
    "import glob"
   ]
  },
  {
   "cell_type": "markdown",
   "id": "d92ba446",
   "metadata": {},
   "source": [
    "## step 1. 데이터 전처리"
   ]
  },
  {
   "cell_type": "markdown",
   "id": "3d95bc31",
   "metadata": {},
   "source": [
    "### 데이터 다운로드"
   ]
  },
  {
   "cell_type": "code",
   "execution_count": 2,
   "id": "f8db1562",
   "metadata": {},
   "outputs": [
    {
     "name": "stdout",
     "output_type": "stream",
     "text": [
      "데이터 크기: 187088\n",
      "Examples:\n",
      " [\"Now I've heard there was a secret chord\", 'That David played, and it pleased the Lord', \"But you don't really care for music, do you?\"]\n"
     ]
    }
   ],
   "source": [
    "txt_file_path = os.getenv('HOME')+'/aiffel/lyricist/data/lyrics/*'\n",
    "\n",
    "txt_list = glob.glob(txt_file_path)\n",
    "\n",
    "raw_corpus = []\n",
    "\n",
    "# 여러개의 txt 파일을 모두 읽어서 raw_corpus 에 담습니다.\n",
    "for txt_file in txt_list:\n",
    "    with open(txt_file, \"r\") as f:\n",
    "        raw = f.read().splitlines()\n",
    "        raw_corpus.extend(raw)\n",
    "\n",
    "print(\"데이터 크기:\", len(raw_corpus)) # 데이터의 크기 확인\n",
    "print(\"Examples:\\n\", raw_corpus[:3]) # 로드한 데이터 샘플 확인"
   ]
  },
  {
   "cell_type": "markdown",
   "id": "09a3a551",
   "metadata": {},
   "source": [
    "### 데이터 토큰화"
   ]
  },
  {
   "cell_type": "code",
   "execution_count": 3,
   "id": "84b1398f",
   "metadata": {},
   "outputs": [
    {
     "name": "stdout",
     "output_type": "stream",
     "text": [
      "156013\n"
     ]
    }
   ],
   "source": [
    "def preprocess_sentence(sentence):\n",
    "    sentence = sentence.lower().strip() # 1\n",
    "    sentence = re.sub(r\"([?.!,¿])\", r\" \\1 \", sentence) # 2\n",
    "    sentence = re.sub(r'[\" \"]+', \" \", sentence) # 3\n",
    "    sentence = re.sub(r\"[^a-zA-Z?.!,¿]+\", \" \", sentence) # 4\n",
    "    sentence = sentence.strip() # 5\n",
    "    sentence = '<start> ' + sentence + ' <end>' # 6\n",
    "\n",
    "    return sentence\n",
    "\n",
    "corpus = []\n",
    "\n",
    "for sentence in raw_corpus:\n",
    "    # 우리가 원하지 않는 문장은 건너뜁니다\n",
    "    if len(sentence) == 0: continue\n",
    "    if sentence[-1] == \":\": continue\n",
    "    \n",
    "    # 정제를 하고 담아주세요\n",
    "    preprocessed_sentence = preprocess_sentence(sentence)\n",
    "    # token의 개수가 15개를 넘어가면 pass, 아니면 corpus에 저장\n",
    "    if len(preprocessed_sentence.split(\" \")) > 15:\n",
    "        pass\n",
    "    else:\n",
    "        corpus.append(preprocessed_sentence)\n",
    "corpus[:10]\n",
    "print(len(corpus))"
   ]
  },
  {
   "cell_type": "markdown",
   "id": "d83b5828",
   "metadata": {},
   "source": [
    "### tf.keras.preprocessing.text.Tokenizer패키지로 정제된 데이터 토큰화"
   ]
  },
  {
   "cell_type": "code",
   "execution_count": 4,
   "id": "f479f603",
   "metadata": {},
   "outputs": [
    {
     "name": "stdout",
     "output_type": "stream",
     "text": [
      "[[   2   50    4 ...    0    0    0]\n",
      " [   2   15 2967 ...    0    0    0]\n",
      " [   2   33    7 ...   46    3    0]\n",
      " ...\n",
      " [   2    4  118 ...    0    0    0]\n",
      " [   2  258  194 ...   12    3    0]\n",
      " [   2    7   34 ...    0    0    0]] <keras_preprocessing.text.Tokenizer object at 0x7f9ce459f340>\n"
     ]
    }
   ],
   "source": [
    "def tokenize(corpus):\n",
    "    tokenizer = tf.keras.preprocessing.text.Tokenizer(\n",
    "        num_words=12000, # 단어장의 크기를 12000으로 지정\n",
    "        filters=' ', # 앞에서 이미 정제를 했으므로 pass\n",
    "        oov_token=\"<unk>\"\n",
    "    )\n",
    "    # tokenizer 단어장 저장\n",
    "    tokenizer.fit_on_texts(corpus)\n",
    "    # tensor 추출\n",
    "    tensor = tokenizer.texts_to_sequences(corpus)   \n",
    "    # tensor padding 정제\n",
    "    tensor = tf.keras.preprocessing.sequence.pad_sequences(tensor, padding='post')  \n",
    "    \n",
    "    print(tensor,tokenizer)\n",
    "    return tensor, tokenizer\n",
    "\n",
    "tensor, tokenizer = tokenize(corpus)\n"
   ]
  },
  {
   "cell_type": "code",
   "execution_count": 11,
   "id": "0a87530f",
   "metadata": {},
   "outputs": [
    {
     "name": "stdout",
     "output_type": "stream",
     "text": [
      "[[   2   50    4   95  303   62   53    9  946 6263    3    0    0    0\n",
      "     0]\n",
      " [   2   15 2967  871    5    8   11 5739    6  374    3    0    0    0\n",
      "     0]\n",
      " [   2   33    7   40   16  164  288   28  333    5   48    7   46    3\n",
      "     0]]\n"
     ]
    }
   ],
   "source": [
    "# tensor확인\n",
    "print(tensor[:3, :16])"
   ]
  },
  {
   "cell_type": "code",
   "execution_count": 6,
   "id": "ee28436e",
   "metadata": {},
   "outputs": [
    {
     "name": "stdout",
     "output_type": "stream",
     "text": [
      "1 : <unk>\n",
      "2 : <start>\n",
      "3 : <end>\n",
      "4 : i\n",
      "5 : ,\n",
      "6 : the\n",
      "7 : you\n",
      "8 : and\n",
      "9 : a\n",
      "10 : to\n"
     ]
    }
   ],
   "source": [
    "# tokenizer에 구축된 단어 사전 확인\n",
    "for idx in tokenizer.index_word:\n",
    "    print(idx, \":\", tokenizer.index_word[idx])\n",
    "\n",
    "    if idx >= 10: break"
   ]
  },
  {
   "cell_type": "markdown",
   "id": "c7e936b7",
   "metadata": {},
   "source": [
    "### source와 target분리"
   ]
  },
  {
   "cell_type": "code",
   "execution_count": 7,
   "id": "4d369bb9",
   "metadata": {},
   "outputs": [],
   "source": [
    "from sklearn.model_selection import train_test_split\n",
    "\n",
    "enc_train, enc_val, dec_train, dec_val = train_test_split(tensor[:, :-1], tensor[:,1:], test_size=0.2, random_state=7)"
   ]
  },
  {
   "cell_type": "code",
   "execution_count": 8,
   "id": "46c462b3",
   "metadata": {},
   "outputs": [
    {
     "name": "stdout",
     "output_type": "stream",
     "text": [
      "Source Train: (124810, 14)\n",
      "Target Train: (124810, 14)\n"
     ]
    }
   ],
   "source": [
    "print(\"Source Train:\", enc_train.shape)\n",
    "print(\"Target Train:\", dec_train.shape)"
   ]
  },
  {
   "cell_type": "markdown",
   "id": "1f5c594d",
   "metadata": {},
   "source": [
    "### 배치화 및 dataset으로 변환"
   ]
  },
  {
   "cell_type": "code",
   "execution_count": 14,
   "id": "933d5015",
   "metadata": {},
   "outputs": [
    {
     "data": {
      "text/plain": [
       "<BatchDataset shapes: ((256, 14), (256, 14)), types: (tf.int32, tf.int32)>"
      ]
     },
     "execution_count": 14,
     "metadata": {},
     "output_type": "execute_result"
    }
   ],
   "source": [
    "BUFFER_SIZE = len(enc_train)\n",
    "BATCH_SIZE = 256\n",
    "steps_per_epoch = len(enc_train) // BATCH_SIZE\n",
    "\n",
    "VOCAB_SIZE = tokenizer.num_words + 1   \n",
    "\n",
    "dataset = tf.data.Dataset.from_tensor_slices((enc_train, dec_train))\n",
    "dataset = dataset.shuffle(BUFFER_SIZE)\n",
    "dataset = dataset.batch(BATCH_SIZE, drop_remainder=True)\n",
    "dataset"
   ]
  },
  {
   "cell_type": "markdown",
   "id": "f8348b7f",
   "metadata": {},
   "source": [
    " ## step 2. 모델 구현"
   ]
  },
  {
   "cell_type": "code",
   "execution_count": 15,
   "id": "59de0155",
   "metadata": {},
   "outputs": [],
   "source": [
    "class TextGenerator(tf.keras.Model):\n",
    "    def __init__(self, vocab_size, embedding_size, hidden_size):\n",
    "        super().__init__()\n",
    "        \n",
    "        self.embedding = tf.keras.layers.Embedding(vocab_size, embedding_size)\n",
    "        self.rnn_1 = tf.keras.layers.LSTM(hidden_size, return_sequences=True)\n",
    "        self.rnn_2 = tf.keras.layers.LSTM(hidden_size, return_sequences=True)\n",
    "        self.linear = tf.keras.layers.Dense(vocab_size)\n",
    "        \n",
    "    def call(self, x):\n",
    "        out = self.embedding(x)\n",
    "        out = self.rnn_1(out)\n",
    "        out = self.rnn_2(out)\n",
    "        out = self.linear(out)\n",
    "        \n",
    "        return out\n",
    "    \n",
    "embedding_size = 256\n",
    "hidden_size = 1024\n",
    "model = TextGenerator(tokenizer.num_words + 1, embedding_size , hidden_size)"
   ]
  },
  {
   "cell_type": "code",
   "execution_count": 18,
   "id": "eff7251d",
   "metadata": {},
   "outputs": [
    {
     "name": "stdout",
     "output_type": "stream",
     "text": [
      "Epoch 1/10\n",
      "487/487 [==============================] - 78s 156ms/step - loss: 3.2174\n",
      "Epoch 2/10\n",
      "487/487 [==============================] - 84s 172ms/step - loss: 2.8022\n",
      "Epoch 3/10\n",
      "487/487 [==============================] - 84s 172ms/step - loss: 2.5472\n",
      "Epoch 4/10\n",
      "487/487 [==============================] - 84s 173ms/step - loss: 2.3349\n",
      "Epoch 5/10\n",
      "487/487 [==============================] - 85s 173ms/step - loss: 2.1485\n",
      "Epoch 6/10\n",
      "487/487 [==============================] - 85s 174ms/step - loss: 1.9847\n",
      "Epoch 7/10\n",
      "487/487 [==============================] - 85s 174ms/step - loss: 1.8380\n",
      "Epoch 8/10\n",
      "487/487 [==============================] - 85s 174ms/step - loss: 1.7055\n",
      "Epoch 9/10\n",
      "487/487 [==============================] - 85s 174ms/step - loss: 1.5848\n",
      "Epoch 10/10\n",
      "487/487 [==============================] - 85s 174ms/step - loss: 1.4751\n"
     ]
    },
    {
     "data": {
      "text/plain": [
       "<keras.callbacks.History at 0x7f9bd85bbd30>"
      ]
     },
     "execution_count": 18,
     "metadata": {},
     "output_type": "execute_result"
    }
   ],
   "source": [
    "optimizer = tf.keras.optimizers.Adam()\n",
    "loss = tf.keras.losses.SparseCategoricalCrossentropy(\n",
    "    from_logits=True, reduction='none')\n",
    "\n",
    "model.compile(loss=loss, optimizer=optimizer)\n",
    "model.fit(dataset, epochs=10)"
   ]
  },
  {
   "cell_type": "markdown",
   "id": "5a5216d4",
   "metadata": {},
   "source": [
    "## step 3. 모델 평가"
   ]
  },
  {
   "cell_type": "code",
   "execution_count": 19,
   "id": "d24c57eb",
   "metadata": {},
   "outputs": [],
   "source": [
    "def generate_text(model, tokenizer, init_sentence=\"<start>\", max_len=20):\n",
    "    # 테스트를 위해서 입력받은 init_sentence도 텐서로 변환합니다\n",
    "    test_input = tokenizer.texts_to_sequences([init_sentence])\n",
    "    test_tensor = tf.convert_to_tensor(test_input, dtype=tf.int64)\n",
    "    end_token = tokenizer.word_index[\"<end>\"]\n",
    "\n",
    "    # 단어 하나씩 예측해 문장을 만듭니다\n",
    "    #    1. 입력받은 문장의 텐서를 입력합니다\n",
    "    #    2. 예측된 값 중 가장 높은 확률인 word index를 뽑아냅니다\n",
    "    #    3. 2에서 예측된 word index를 문장 뒤에 붙입니다\n",
    "    #    4. 모델이 <end>를 예측했거나, max_len에 도달했다면 문장 생성을 마칩니다\n",
    "    while True:\n",
    "        # 1\n",
    "        predict = model(test_tensor) \n",
    "        # 2\n",
    "        predict_word = tf.argmax(tf.nn.softmax(predict, axis=-1), axis=-1)[:, -1] \n",
    "        # 3 \n",
    "        test_tensor = tf.concat([test_tensor, tf.expand_dims(predict_word, axis=0)], axis=-1)\n",
    "        # 4\n",
    "        if predict_word.numpy()[0] == end_token: break\n",
    "        if test_tensor.shape[1] >= max_len: break\n",
    "\n",
    "    generated = \"\"\n",
    "    # tokenizer를 이용해 word index를 단어로 하나씩 변환합니다 \n",
    "    for word_index in test_tensor[0].numpy():\n",
    "        generated += tokenizer.index_word[word_index] + \" \"\n",
    "\n",
    "    return generated"
   ]
  },
  {
   "cell_type": "code",
   "execution_count": 20,
   "id": "7bdeb206",
   "metadata": {
    "scrolled": true
   },
   "outputs": [
    {
     "data": {
      "text/plain": [
       "'<start> he s a highway chile <end> '"
      ]
     },
     "execution_count": 20,
     "metadata": {},
     "output_type": "execute_result"
    }
   ],
   "source": [
    "generate_text(model, tokenizer, init_sentence=\"<start> he\")"
   ]
  },
  {
   "cell_type": "markdown",
   "id": "4026146f",
   "metadata": {},
   "source": [
    "# 프로젝트 정리\n",
    "---\n",
    "## 최종 결과 \n",
    "### 최종 결과로는 Epoch 10/10 487/487 [==============================] - 85s 174ms/step - loss: 1.4751이라는 값을 얻었고 예상 기준치인 2.2를 압도하는 결과이다.\n",
    "---\n",
    "## 느낀점 \n",
    "### 이번 프로젝트는 자연어 처리에 관한 것인데 그 동안 CNN, MLP등 인런 딥러닝 신경망만 구현해 보아서 낯설고 힘들었지만 처음으로 하는 것이기 때문에 신기하고 재미있었다.\n",
    "---\n",
    "## 어려웠던 점\n",
    "### 토큰은 source와 target으로 나누는 과정이 조금 복잡했다. 이 과정에서 잘 나눴다고 생각했는데 정답으로 제시한 데이터의 크기와 달라서 좀 생각을 많이하였다."
   ]
  }
 ],
 "metadata": {
  "kernelspec": {
   "display_name": "Python 3 (ipykernel)",
   "language": "python",
   "name": "python3"
  },
  "language_info": {
   "codemirror_mode": {
    "name": "ipython",
    "version": 3
   },
   "file_extension": ".py",
   "mimetype": "text/x-python",
   "name": "python",
   "nbconvert_exporter": "python",
   "pygments_lexer": "ipython3",
   "version": "3.8.12"
  }
 },
 "nbformat": 4,
 "nbformat_minor": 5
}
