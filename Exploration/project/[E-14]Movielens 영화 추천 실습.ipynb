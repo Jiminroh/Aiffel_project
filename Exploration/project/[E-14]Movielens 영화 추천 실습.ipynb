{
 "cells": [
  {
   "cell_type": "markdown",
   "id": "cc7348e2",
   "metadata": {},
   "source": [
    "# Exploration 14\n",
    "## 프로젝트 - Movielens 영화 추천 실습\n",
    "___"
   ]
  },
  {
   "cell_type": "markdown",
   "id": "f2ff61d6",
   "metadata": {},
   "source": [
    "## 목차\n",
    "- Step 1. 데이터 준비와 전처리\n",
    "- Step 2. 분석해 보기\n",
    "- Step 3. 내가 선호하는 영화를 5가지 골라서 ratings에 추가하기\n",
    "- Step 4. CSR matrix를 직접 만들어 보기\n",
    "- Step 5. als_model = AlternatingLeastSquares 모델을 직접 구성하여 훈련시켜 보기\n",
    "- Step 6. 내가 선호하는 5가지 영화 중 하나와 그 외의 영화 하나를 골라 훈련된 모델이 에측한 나의 선호도 파악\n",
    "- Step 7. 내가 좋아하는 영화와 비슷한 영화를 추천 받아보기\n",
    "- Step 8. 내가 가장 좋아할 만한 영화들을 추천 받아보기\n",
    "___"
   ]
  },
  {
   "cell_type": "markdown",
   "id": "56fed753",
   "metadata": {},
   "source": [
    "# Step 1. 데이터 준비와 전처리\n",
    "사용할 데이터 \n",
    "- 추천 시스템의 MNIST라고 부를만한 Movielens데이터 \n",
    "\n",
    "조건 \n",
    "- 별점 데이터는 대표적인 explicit 데이터이다. 하지만 implicit 데이터로 간주하고 테스트\n",
    "- 별점을 시청횟수로 해석해서 생각\n",
    "- 또한 유저가 3점 미만으로 준 데이터는 선호하지 않는다고 가정하고 제외"
   ]
  },
  {
   "cell_type": "code",
   "execution_count": 1,
   "id": "c1c57307",
   "metadata": {},
   "outputs": [
    {
     "data": {
      "text/html": [
       "<div>\n",
       "<style scoped>\n",
       "    .dataframe tbody tr th:only-of-type {\n",
       "        vertical-align: middle;\n",
       "    }\n",
       "\n",
       "    .dataframe tbody tr th {\n",
       "        vertical-align: top;\n",
       "    }\n",
       "\n",
       "    .dataframe thead th {\n",
       "        text-align: right;\n",
       "    }\n",
       "</style>\n",
       "<table border=\"1\" class=\"dataframe\">\n",
       "  <thead>\n",
       "    <tr style=\"text-align: right;\">\n",
       "      <th></th>\n",
       "      <th>user_id</th>\n",
       "      <th>movie_id</th>\n",
       "      <th>ratings</th>\n",
       "      <th>timestamp</th>\n",
       "    </tr>\n",
       "  </thead>\n",
       "  <tbody>\n",
       "    <tr>\n",
       "      <th>0</th>\n",
       "      <td>1</td>\n",
       "      <td>1193</td>\n",
       "      <td>5</td>\n",
       "      <td>978300760</td>\n",
       "    </tr>\n",
       "    <tr>\n",
       "      <th>1</th>\n",
       "      <td>1</td>\n",
       "      <td>661</td>\n",
       "      <td>3</td>\n",
       "      <td>978302109</td>\n",
       "    </tr>\n",
       "    <tr>\n",
       "      <th>2</th>\n",
       "      <td>1</td>\n",
       "      <td>914</td>\n",
       "      <td>3</td>\n",
       "      <td>978301968</td>\n",
       "    </tr>\n",
       "    <tr>\n",
       "      <th>3</th>\n",
       "      <td>1</td>\n",
       "      <td>3408</td>\n",
       "      <td>4</td>\n",
       "      <td>978300275</td>\n",
       "    </tr>\n",
       "    <tr>\n",
       "      <th>4</th>\n",
       "      <td>1</td>\n",
       "      <td>2355</td>\n",
       "      <td>5</td>\n",
       "      <td>978824291</td>\n",
       "    </tr>\n",
       "  </tbody>\n",
       "</table>\n",
       "</div>"
      ],
      "text/plain": [
       "   user_id  movie_id  ratings  timestamp\n",
       "0        1      1193        5  978300760\n",
       "1        1       661        3  978302109\n",
       "2        1       914        3  978301968\n",
       "3        1      3408        4  978300275\n",
       "4        1      2355        5  978824291"
      ]
     },
     "execution_count": 1,
     "metadata": {},
     "output_type": "execute_result"
    }
   ],
   "source": [
    "import pandas as pd\n",
    "import os\n",
    "\n",
    "rating_file_path=os.getenv('HOME') + '/aiffel/recommendata_iu/data/ml-1m/ratings.dat'\n",
    "ratings_cols = ['user_id', 'movie_id', 'ratings', 'timestamp']\n",
    "ratings = pd.read_csv(rating_file_path, sep='::', names=ratings_cols, engine='python', encoding = \"ISO-8859-1\")\n",
    "orginal_data_size = len(ratings)\n",
    "ratings.head()"
   ]
  },
  {
   "cell_type": "code",
   "execution_count": 2,
   "id": "9407a5b8",
   "metadata": {},
   "outputs": [
    {
     "name": "stdout",
     "output_type": "stream",
     "text": [
      "orginal_data_size: 1000209, filtered_data_size: 836478\n",
      "Ratio of Remaining Data is 83.63%\n"
     ]
    }
   ],
   "source": [
    "# 3점 이상만 남깁니다.\n",
    "ratings = ratings[ratings['ratings']>=3]\n",
    "filtered_data_size = len(ratings)\n",
    "\n",
    "print(f'orginal_data_size: {orginal_data_size}, filtered_data_size: {filtered_data_size}')\n",
    "print(f'Ratio of Remaining Data is {filtered_data_size / orginal_data_size:.2%}')"
   ]
  },
  {
   "cell_type": "code",
   "execution_count": 3,
   "id": "3f604d5a",
   "metadata": {},
   "outputs": [],
   "source": [
    "# ratings 컬럼의 이름을 counts로 바꿉니다.\n",
    "ratings.rename(columns={'ratings':'counts'}, inplace=True)"
   ]
  },
  {
   "cell_type": "code",
   "execution_count": 4,
   "id": "69dad607",
   "metadata": {
    "scrolled": true
   },
   "outputs": [
    {
     "data": {
      "text/plain": [
       "0          5\n",
       "1          3\n",
       "2          3\n",
       "3          4\n",
       "4          5\n",
       "          ..\n",
       "1000203    3\n",
       "1000205    5\n",
       "1000206    5\n",
       "1000207    4\n",
       "1000208    4\n",
       "Name: counts, Length: 836478, dtype: int64"
      ]
     },
     "execution_count": 4,
     "metadata": {},
     "output_type": "execute_result"
    }
   ],
   "source": [
    "ratings['counts']"
   ]
  },
  {
   "cell_type": "code",
   "execution_count": 5,
   "id": "b4ad147b",
   "metadata": {},
   "outputs": [
    {
     "data": {
      "text/html": [
       "<div>\n",
       "<style scoped>\n",
       "    .dataframe tbody tr th:only-of-type {\n",
       "        vertical-align: middle;\n",
       "    }\n",
       "\n",
       "    .dataframe tbody tr th {\n",
       "        vertical-align: top;\n",
       "    }\n",
       "\n",
       "    .dataframe thead th {\n",
       "        text-align: right;\n",
       "    }\n",
       "</style>\n",
       "<table border=\"1\" class=\"dataframe\">\n",
       "  <thead>\n",
       "    <tr style=\"text-align: right;\">\n",
       "      <th></th>\n",
       "      <th>user_id</th>\n",
       "      <th>movie_id</th>\n",
       "      <th>counts</th>\n",
       "      <th>timestamp</th>\n",
       "    </tr>\n",
       "  </thead>\n",
       "  <tbody>\n",
       "    <tr>\n",
       "      <th>0</th>\n",
       "      <td>1</td>\n",
       "      <td>1193</td>\n",
       "      <td>5</td>\n",
       "      <td>978300760</td>\n",
       "    </tr>\n",
       "    <tr>\n",
       "      <th>1</th>\n",
       "      <td>1</td>\n",
       "      <td>661</td>\n",
       "      <td>3</td>\n",
       "      <td>978302109</td>\n",
       "    </tr>\n",
       "    <tr>\n",
       "      <th>2</th>\n",
       "      <td>1</td>\n",
       "      <td>914</td>\n",
       "      <td>3</td>\n",
       "      <td>978301968</td>\n",
       "    </tr>\n",
       "    <tr>\n",
       "      <th>3</th>\n",
       "      <td>1</td>\n",
       "      <td>3408</td>\n",
       "      <td>4</td>\n",
       "      <td>978300275</td>\n",
       "    </tr>\n",
       "    <tr>\n",
       "      <th>4</th>\n",
       "      <td>1</td>\n",
       "      <td>2355</td>\n",
       "      <td>5</td>\n",
       "      <td>978824291</td>\n",
       "    </tr>\n",
       "  </tbody>\n",
       "</table>\n",
       "</div>"
      ],
      "text/plain": [
       "   user_id  movie_id  counts  timestamp\n",
       "0        1      1193       5  978300760\n",
       "1        1       661       3  978302109\n",
       "2        1       914       3  978301968\n",
       "3        1      3408       4  978300275\n",
       "4        1      2355       5  978824291"
      ]
     },
     "execution_count": 5,
     "metadata": {},
     "output_type": "execute_result"
    }
   ],
   "source": [
    "ratings.head()"
   ]
  },
  {
   "cell_type": "markdown",
   "id": "723a615c",
   "metadata": {},
   "source": [
    "### movie_id를 movie_name으로 바꾸기"
   ]
  },
  {
   "cell_type": "code",
   "execution_count": 6,
   "id": "4428a651",
   "metadata": {},
   "outputs": [
    {
     "data": {
      "text/html": [
       "<div>\n",
       "<style scoped>\n",
       "    .dataframe tbody tr th:only-of-type {\n",
       "        vertical-align: middle;\n",
       "    }\n",
       "\n",
       "    .dataframe tbody tr th {\n",
       "        vertical-align: top;\n",
       "    }\n",
       "\n",
       "    .dataframe thead th {\n",
       "        text-align: right;\n",
       "    }\n",
       "</style>\n",
       "<table border=\"1\" class=\"dataframe\">\n",
       "  <thead>\n",
       "    <tr style=\"text-align: right;\">\n",
       "      <th></th>\n",
       "      <th>movie_id</th>\n",
       "      <th>title</th>\n",
       "      <th>genre</th>\n",
       "    </tr>\n",
       "  </thead>\n",
       "  <tbody>\n",
       "    <tr>\n",
       "      <th>0</th>\n",
       "      <td>1</td>\n",
       "      <td>Toy Story (1995)</td>\n",
       "      <td>Animation|Children's|Comedy</td>\n",
       "    </tr>\n",
       "    <tr>\n",
       "      <th>1</th>\n",
       "      <td>2</td>\n",
       "      <td>Jumanji (1995)</td>\n",
       "      <td>Adventure|Children's|Fantasy</td>\n",
       "    </tr>\n",
       "    <tr>\n",
       "      <th>2</th>\n",
       "      <td>3</td>\n",
       "      <td>Grumpier Old Men (1995)</td>\n",
       "      <td>Comedy|Romance</td>\n",
       "    </tr>\n",
       "    <tr>\n",
       "      <th>3</th>\n",
       "      <td>4</td>\n",
       "      <td>Waiting to Exhale (1995)</td>\n",
       "      <td>Comedy|Drama</td>\n",
       "    </tr>\n",
       "    <tr>\n",
       "      <th>4</th>\n",
       "      <td>5</td>\n",
       "      <td>Father of the Bride Part II (1995)</td>\n",
       "      <td>Comedy</td>\n",
       "    </tr>\n",
       "  </tbody>\n",
       "</table>\n",
       "</div>"
      ],
      "text/plain": [
       "   movie_id                               title                         genre\n",
       "0         1                    Toy Story (1995)   Animation|Children's|Comedy\n",
       "1         2                      Jumanji (1995)  Adventure|Children's|Fantasy\n",
       "2         3             Grumpier Old Men (1995)                Comedy|Romance\n",
       "3         4            Waiting to Exhale (1995)                  Comedy|Drama\n",
       "4         5  Father of the Bride Part II (1995)                        Comedy"
      ]
     },
     "execution_count": 6,
     "metadata": {},
     "output_type": "execute_result"
    }
   ],
   "source": [
    "# 영화 제목을 보기 위해 메타 데이터를 읽어옵니다.\n",
    "movie_file_path=os.getenv('HOME') + '/aiffel/recommendata_iu/data/ml-1m/movies.dat'\n",
    "cols = ['movie_id', 'title', 'genre'] \n",
    "movies = pd.read_csv(movie_file_path, sep='::', names=cols, engine='python', encoding='ISO-8859-1')\n",
    "movies.head()"
   ]
  },
  {
   "cell_type": "code",
   "execution_count": 7,
   "id": "433941d0",
   "metadata": {
    "scrolled": true
   },
   "outputs": [
    {
     "data": {
      "text/html": [
       "<div>\n",
       "<style scoped>\n",
       "    .dataframe tbody tr th:only-of-type {\n",
       "        vertical-align: middle;\n",
       "    }\n",
       "\n",
       "    .dataframe tbody tr th {\n",
       "        vertical-align: top;\n",
       "    }\n",
       "\n",
       "    .dataframe thead th {\n",
       "        text-align: right;\n",
       "    }\n",
       "</style>\n",
       "<table border=\"1\" class=\"dataframe\">\n",
       "  <thead>\n",
       "    <tr style=\"text-align: right;\">\n",
       "      <th></th>\n",
       "      <th>user_id</th>\n",
       "      <th>movie_id</th>\n",
       "      <th>counts</th>\n",
       "      <th>timestamp</th>\n",
       "      <th>title</th>\n",
       "      <th>genre</th>\n",
       "    </tr>\n",
       "  </thead>\n",
       "  <tbody>\n",
       "    <tr>\n",
       "      <th>0</th>\n",
       "      <td>1</td>\n",
       "      <td>1193</td>\n",
       "      <td>5</td>\n",
       "      <td>978300760</td>\n",
       "      <td>One Flew Over the Cuckoo's Nest (1975)</td>\n",
       "      <td>Drama</td>\n",
       "    </tr>\n",
       "    <tr>\n",
       "      <th>1</th>\n",
       "      <td>1</td>\n",
       "      <td>661</td>\n",
       "      <td>3</td>\n",
       "      <td>978302109</td>\n",
       "      <td>James and the Giant Peach (1996)</td>\n",
       "      <td>Animation|Children's|Musical</td>\n",
       "    </tr>\n",
       "    <tr>\n",
       "      <th>2</th>\n",
       "      <td>1</td>\n",
       "      <td>914</td>\n",
       "      <td>3</td>\n",
       "      <td>978301968</td>\n",
       "      <td>My Fair Lady (1964)</td>\n",
       "      <td>Musical|Romance</td>\n",
       "    </tr>\n",
       "    <tr>\n",
       "      <th>3</th>\n",
       "      <td>1</td>\n",
       "      <td>3408</td>\n",
       "      <td>4</td>\n",
       "      <td>978300275</td>\n",
       "      <td>Erin Brockovich (2000)</td>\n",
       "      <td>Drama</td>\n",
       "    </tr>\n",
       "    <tr>\n",
       "      <th>4</th>\n",
       "      <td>1</td>\n",
       "      <td>2355</td>\n",
       "      <td>5</td>\n",
       "      <td>978824291</td>\n",
       "      <td>Bug's Life, A (1998)</td>\n",
       "      <td>Animation|Children's|Comedy</td>\n",
       "    </tr>\n",
       "  </tbody>\n",
       "</table>\n",
       "</div>"
      ],
      "text/plain": [
       "   user_id  movie_id  counts  timestamp  \\\n",
       "0        1      1193       5  978300760   \n",
       "1        1       661       3  978302109   \n",
       "2        1       914       3  978301968   \n",
       "3        1      3408       4  978300275   \n",
       "4        1      2355       5  978824291   \n",
       "\n",
       "                                    title                         genre  \n",
       "0  One Flew Over the Cuckoo's Nest (1975)                         Drama  \n",
       "1        James and the Giant Peach (1996)  Animation|Children's|Musical  \n",
       "2                     My Fair Lady (1964)               Musical|Romance  \n",
       "3                  Erin Brockovich (2000)                         Drama  \n",
       "4                    Bug's Life, A (1998)   Animation|Children's|Comedy  "
      ]
     },
     "execution_count": 7,
     "metadata": {},
     "output_type": "execute_result"
    }
   ],
   "source": [
    "data = pd.merge(ratings,movies, how='left', on=['movie_id'])\n",
    "data.head(5)"
   ]
  },
  {
   "cell_type": "markdown",
   "id": "0563ad4f",
   "metadata": {},
   "source": [
    "# Step 2. 분석해 보기\n",
    "- data에 있는 유니크한 영화 개수\n",
    "- data에 있는 유니크한 사용자 수\n",
    "- 가장 인기 있는 영화 30개(인기순)"
   ]
  },
  {
   "cell_type": "markdown",
   "id": "97c5f50e",
   "metadata": {},
   "source": [
    "### data에 있는 유니크한 영화 개수"
   ]
  },
  {
   "cell_type": "code",
   "execution_count": 8,
   "id": "a6490b15",
   "metadata": {},
   "outputs": [
    {
     "data": {
      "text/plain": [
       "3628"
      ]
     },
     "execution_count": 8,
     "metadata": {},
     "output_type": "execute_result"
    }
   ],
   "source": [
    "data['movie_id'].nunique()"
   ]
  },
  {
   "cell_type": "markdown",
   "id": "04112504",
   "metadata": {},
   "source": [
    "### data에 있는 유니크한 사용자 수"
   ]
  },
  {
   "cell_type": "code",
   "execution_count": 9,
   "id": "5ce445bd",
   "metadata": {},
   "outputs": [
    {
     "data": {
      "text/plain": [
       "6039"
      ]
     },
     "execution_count": 9,
     "metadata": {},
     "output_type": "execute_result"
    }
   ],
   "source": [
    "data['user_id'].nunique()"
   ]
  },
  {
   "cell_type": "markdown",
   "id": "42a79e50",
   "metadata": {},
   "source": [
    "### 가장 인기 있는 영화 30개(인기순)"
   ]
  },
  {
   "cell_type": "code",
   "execution_count": 10,
   "id": "7767ef34",
   "metadata": {
    "scrolled": false
   },
   "outputs": [
    {
     "data": {
      "text/plain": [
       "title\n",
       "American Beauty (1999)                                   3211\n",
       "Star Wars: Episode IV - A New Hope (1977)                2910\n",
       "Star Wars: Episode V - The Empire Strikes Back (1980)    2885\n",
       "Star Wars: Episode VI - Return of the Jedi (1983)        2716\n",
       "Saving Private Ryan (1998)                               2561\n",
       "Terminator 2: Judgment Day (1991)                        2509\n",
       "Silence of the Lambs, The (1991)                         2498\n",
       "Raiders of the Lost Ark (1981)                           2473\n",
       "Back to the Future (1985)                                2460\n",
       "Matrix, The (1999)                                       2434\n",
       "Jurassic Park (1993)                                     2413\n",
       "Sixth Sense, The (1999)                                  2385\n",
       "Fargo (1996)                                             2371\n",
       "Braveheart (1995)                                        2314\n",
       "Men in Black (1997)                                      2297\n",
       "Schindler's List (1993)                                  2257\n",
       "Princess Bride, The (1987)                               2252\n",
       "Shakespeare in Love (1998)                               2213\n",
       "L.A. Confidential (1997)                                 2210\n",
       "Shawshank Redemption, The (1994)                         2194\n",
       "Godfather, The (1972)                                    2167\n",
       "Groundhog Day (1993)                                     2121\n",
       "E.T. the Extra-Terrestrial (1982)                        2102\n",
       "Being John Malkovich (1999)                              2066\n",
       "Ghostbusters (1984)                                      2051\n",
       "Pulp Fiction (1994)                                      2030\n",
       "Forrest Gump (1994)                                      2022\n",
       "Terminator, The (1984)                                   2019\n",
       "Toy Story (1995)                                         2000\n",
       "Fugitive, The (1993)                                     1941\n",
       "Name: user_id, dtype: int64"
      ]
     },
     "execution_count": 10,
     "metadata": {},
     "output_type": "execute_result"
    }
   ],
   "source": [
    "movie_cnt = data.groupby('title')['user_id'].count()\n",
    "movie_cnt.sort_values(ascending=False).head(30)"
   ]
  },
  {
   "cell_type": "markdown",
   "id": "c038c2b9",
   "metadata": {},
   "source": [
    "# Step 3. 내가 선호하는 영화를 5가지 골라서 ratings에 추가하기"
   ]
  },
  {
   "cell_type": "markdown",
   "id": "72cd7c32",
   "metadata": {},
   "source": [
    "### 좋아하는 영화 검색하기"
   ]
  },
  {
   "cell_type": "markdown",
   "id": "a6d18413",
   "metadata": {},
   "source": [
    "검색의 효율성을 위해 'title'을 소문자로 바꾸기"
   ]
  },
  {
   "cell_type": "code",
   "execution_count": 11,
   "id": "b4c63f55",
   "metadata": {},
   "outputs": [
    {
     "data": {
      "text/html": [
       "<div>\n",
       "<style scoped>\n",
       "    .dataframe tbody tr th:only-of-type {\n",
       "        vertical-align: middle;\n",
       "    }\n",
       "\n",
       "    .dataframe tbody tr th {\n",
       "        vertical-align: top;\n",
       "    }\n",
       "\n",
       "    .dataframe thead th {\n",
       "        text-align: right;\n",
       "    }\n",
       "</style>\n",
       "<table border=\"1\" class=\"dataframe\">\n",
       "  <thead>\n",
       "    <tr style=\"text-align: right;\">\n",
       "      <th></th>\n",
       "      <th>user_id</th>\n",
       "      <th>movie_id</th>\n",
       "      <th>counts</th>\n",
       "      <th>timestamp</th>\n",
       "      <th>title</th>\n",
       "      <th>genre</th>\n",
       "    </tr>\n",
       "  </thead>\n",
       "  <tbody>\n",
       "    <tr>\n",
       "      <th>0</th>\n",
       "      <td>1</td>\n",
       "      <td>1193</td>\n",
       "      <td>5</td>\n",
       "      <td>978300760</td>\n",
       "      <td>one flew over the cuckoo's nest (1975)</td>\n",
       "      <td>Drama</td>\n",
       "    </tr>\n",
       "    <tr>\n",
       "      <th>1</th>\n",
       "      <td>1</td>\n",
       "      <td>661</td>\n",
       "      <td>3</td>\n",
       "      <td>978302109</td>\n",
       "      <td>james and the giant peach (1996)</td>\n",
       "      <td>Animation|Children's|Musical</td>\n",
       "    </tr>\n",
       "    <tr>\n",
       "      <th>2</th>\n",
       "      <td>1</td>\n",
       "      <td>914</td>\n",
       "      <td>3</td>\n",
       "      <td>978301968</td>\n",
       "      <td>my fair lady (1964)</td>\n",
       "      <td>Musical|Romance</td>\n",
       "    </tr>\n",
       "    <tr>\n",
       "      <th>3</th>\n",
       "      <td>1</td>\n",
       "      <td>3408</td>\n",
       "      <td>4</td>\n",
       "      <td>978300275</td>\n",
       "      <td>erin brockovich (2000)</td>\n",
       "      <td>Drama</td>\n",
       "    </tr>\n",
       "    <tr>\n",
       "      <th>4</th>\n",
       "      <td>1</td>\n",
       "      <td>2355</td>\n",
       "      <td>5</td>\n",
       "      <td>978824291</td>\n",
       "      <td>bug's life, a (1998)</td>\n",
       "      <td>Animation|Children's|Comedy</td>\n",
       "    </tr>\n",
       "    <tr>\n",
       "      <th>5</th>\n",
       "      <td>1</td>\n",
       "      <td>1197</td>\n",
       "      <td>3</td>\n",
       "      <td>978302268</td>\n",
       "      <td>princess bride, the (1987)</td>\n",
       "      <td>Action|Adventure|Comedy|Romance</td>\n",
       "    </tr>\n",
       "    <tr>\n",
       "      <th>6</th>\n",
       "      <td>1</td>\n",
       "      <td>1287</td>\n",
       "      <td>5</td>\n",
       "      <td>978302039</td>\n",
       "      <td>ben-hur (1959)</td>\n",
       "      <td>Action|Adventure|Drama</td>\n",
       "    </tr>\n",
       "    <tr>\n",
       "      <th>7</th>\n",
       "      <td>1</td>\n",
       "      <td>2804</td>\n",
       "      <td>5</td>\n",
       "      <td>978300719</td>\n",
       "      <td>christmas story, a (1983)</td>\n",
       "      <td>Comedy|Drama</td>\n",
       "    </tr>\n",
       "    <tr>\n",
       "      <th>8</th>\n",
       "      <td>1</td>\n",
       "      <td>594</td>\n",
       "      <td>4</td>\n",
       "      <td>978302268</td>\n",
       "      <td>snow white and the seven dwarfs (1937)</td>\n",
       "      <td>Animation|Children's|Musical</td>\n",
       "    </tr>\n",
       "    <tr>\n",
       "      <th>9</th>\n",
       "      <td>1</td>\n",
       "      <td>919</td>\n",
       "      <td>4</td>\n",
       "      <td>978301368</td>\n",
       "      <td>wizard of oz, the (1939)</td>\n",
       "      <td>Adventure|Children's|Drama|Musical</td>\n",
       "    </tr>\n",
       "  </tbody>\n",
       "</table>\n",
       "</div>"
      ],
      "text/plain": [
       "   user_id  movie_id  counts  timestamp  \\\n",
       "0        1      1193       5  978300760   \n",
       "1        1       661       3  978302109   \n",
       "2        1       914       3  978301968   \n",
       "3        1      3408       4  978300275   \n",
       "4        1      2355       5  978824291   \n",
       "5        1      1197       3  978302268   \n",
       "6        1      1287       5  978302039   \n",
       "7        1      2804       5  978300719   \n",
       "8        1       594       4  978302268   \n",
       "9        1       919       4  978301368   \n",
       "\n",
       "                                    title                               genre  \n",
       "0  one flew over the cuckoo's nest (1975)                               Drama  \n",
       "1        james and the giant peach (1996)        Animation|Children's|Musical  \n",
       "2                     my fair lady (1964)                     Musical|Romance  \n",
       "3                  erin brockovich (2000)                               Drama  \n",
       "4                    bug's life, a (1998)         Animation|Children's|Comedy  \n",
       "5              princess bride, the (1987)     Action|Adventure|Comedy|Romance  \n",
       "6                          ben-hur (1959)              Action|Adventure|Drama  \n",
       "7               christmas story, a (1983)                        Comedy|Drama  \n",
       "8  snow white and the seven dwarfs (1937)        Animation|Children's|Musical  \n",
       "9                wizard of oz, the (1939)  Adventure|Children's|Drama|Musical  "
      ]
     },
     "execution_count": 11,
     "metadata": {},
     "output_type": "execute_result"
    }
   ],
   "source": [
    "data['title'] = data['title'].str.lower()\n",
    "data.head(10)"
   ]
  },
  {
   "cell_type": "markdown",
   "id": "850e53ab",
   "metadata": {},
   "source": [
    "검색하기\n",
    "- American Beatuty\n",
    "- Matrix\n",
    "- Sixth Sense\n",
    "- Men in Black\n",
    "- Toy Story"
   ]
  },
  {
   "cell_type": "code",
   "execution_count": 12,
   "id": "3dee80f8",
   "metadata": {
    "scrolled": false
   },
   "outputs": [
    {
     "data": {
      "text/plain": [
       "array([2858])"
      ]
     },
     "execution_count": 12,
     "metadata": {},
     "output_type": "execute_result"
    }
   ],
   "source": [
    "# American Beatuty\n",
    "data[data['title'].str.contains('american beauty')]['movie_id'].unique()"
   ]
  },
  {
   "cell_type": "code",
   "execution_count": 13,
   "id": "cf2140a4",
   "metadata": {},
   "outputs": [
    {
     "data": {
      "text/plain": [
       "array([2571])"
      ]
     },
     "execution_count": 13,
     "metadata": {},
     "output_type": "execute_result"
    }
   ],
   "source": [
    "# Matrix\n",
    "data[data['title'].str.contains('matrix')]['movie_id'].unique()"
   ]
  },
  {
   "cell_type": "code",
   "execution_count": 14,
   "id": "7925774e",
   "metadata": {},
   "outputs": [
    {
     "data": {
      "text/plain": [
       "array([2762])"
      ]
     },
     "execution_count": 14,
     "metadata": {},
     "output_type": "execute_result"
    }
   ],
   "source": [
    "# Sixth Sense\n",
    "data[data['title'].str.contains('sixth sense')]['movie_id'].unique()"
   ]
  },
  {
   "cell_type": "code",
   "execution_count": 15,
   "id": "fc0c83df",
   "metadata": {},
   "outputs": [
    {
     "data": {
      "text/plain": [
       "array([1580])"
      ]
     },
     "execution_count": 15,
     "metadata": {},
     "output_type": "execute_result"
    }
   ],
   "source": [
    "# Men in Black\n",
    "data[data['title'].str.contains('men in black')]['movie_id'].unique()"
   ]
  },
  {
   "cell_type": "code",
   "execution_count": 16,
   "id": "e7c0e869",
   "metadata": {},
   "outputs": [
    {
     "data": {
      "text/plain": [
       "array([   1, 3114])"
      ]
     },
     "execution_count": 16,
     "metadata": {},
     "output_type": "execute_result"
    }
   ],
   "source": [
    "# Toy Story\n",
    "data[data['title'].str.contains('toy story')]['movie_id'].unique()"
   ]
  },
  {
   "cell_type": "markdown",
   "id": "c655ff7b",
   "metadata": {},
   "source": [
    "### 항목의 추가하기"
   ]
  },
  {
   "cell_type": "markdown",
   "id": "2188684b",
   "metadata": {},
   "source": [
    "data에서 필요한 컬럼만 추출하기 ('user_id', 'title', 'count')"
   ]
  },
  {
   "cell_type": "code",
   "execution_count": 17,
   "id": "7372a144",
   "metadata": {},
   "outputs": [],
   "source": [
    "df_all = data.copy()"
   ]
  },
  {
   "cell_type": "code",
   "execution_count": 18,
   "id": "7cda186a",
   "metadata": {},
   "outputs": [
    {
     "data": {
      "text/html": [
       "<div>\n",
       "<style scoped>\n",
       "    .dataframe tbody tr th:only-of-type {\n",
       "        vertical-align: middle;\n",
       "    }\n",
       "\n",
       "    .dataframe tbody tr th {\n",
       "        vertical-align: top;\n",
       "    }\n",
       "\n",
       "    .dataframe thead th {\n",
       "        text-align: right;\n",
       "    }\n",
       "</style>\n",
       "<table border=\"1\" class=\"dataframe\">\n",
       "  <thead>\n",
       "    <tr style=\"text-align: right;\">\n",
       "      <th></th>\n",
       "      <th>user_id</th>\n",
       "      <th>title</th>\n",
       "      <th>counts</th>\n",
       "    </tr>\n",
       "  </thead>\n",
       "  <tbody>\n",
       "    <tr>\n",
       "      <th>0</th>\n",
       "      <td>1</td>\n",
       "      <td>one flew over the cuckoo's nest (1975)</td>\n",
       "      <td>5</td>\n",
       "    </tr>\n",
       "    <tr>\n",
       "      <th>1</th>\n",
       "      <td>1</td>\n",
       "      <td>james and the giant peach (1996)</td>\n",
       "      <td>3</td>\n",
       "    </tr>\n",
       "    <tr>\n",
       "      <th>2</th>\n",
       "      <td>1</td>\n",
       "      <td>my fair lady (1964)</td>\n",
       "      <td>3</td>\n",
       "    </tr>\n",
       "    <tr>\n",
       "      <th>3</th>\n",
       "      <td>1</td>\n",
       "      <td>erin brockovich (2000)</td>\n",
       "      <td>4</td>\n",
       "    </tr>\n",
       "    <tr>\n",
       "      <th>4</th>\n",
       "      <td>1</td>\n",
       "      <td>bug's life, a (1998)</td>\n",
       "      <td>5</td>\n",
       "    </tr>\n",
       "  </tbody>\n",
       "</table>\n",
       "</div>"
      ],
      "text/plain": [
       "   user_id                                   title  counts\n",
       "0        1  one flew over the cuckoo's nest (1975)       5\n",
       "1        1        james and the giant peach (1996)       3\n",
       "2        1                     my fair lady (1964)       3\n",
       "3        1                  erin brockovich (2000)       4\n",
       "4        1                    bug's life, a (1998)       5"
      ]
     },
     "execution_count": 18,
     "metadata": {},
     "output_type": "execute_result"
    }
   ],
   "source": [
    "df = df_all[['user_id','title', 'counts']]\n",
    "df.head()"
   ]
  },
  {
   "cell_type": "markdown",
   "id": "4ef6960b",
   "metadata": {},
   "source": [
    "좋아하는 리스트를 만든후 추가하기"
   ]
  },
  {
   "cell_type": "code",
   "execution_count": 19,
   "id": "764aad27",
   "metadata": {},
   "outputs": [
    {
     "data": {
      "text/html": [
       "<div>\n",
       "<style scoped>\n",
       "    .dataframe tbody tr th:only-of-type {\n",
       "        vertical-align: middle;\n",
       "    }\n",
       "\n",
       "    .dataframe tbody tr th {\n",
       "        vertical-align: top;\n",
       "    }\n",
       "\n",
       "    .dataframe thead th {\n",
       "        text-align: right;\n",
       "    }\n",
       "</style>\n",
       "<table border=\"1\" class=\"dataframe\">\n",
       "  <thead>\n",
       "    <tr style=\"text-align: right;\">\n",
       "      <th></th>\n",
       "      <th>user_id</th>\n",
       "      <th>title</th>\n",
       "      <th>counts</th>\n",
       "    </tr>\n",
       "  </thead>\n",
       "  <tbody>\n",
       "    <tr>\n",
       "      <th>836473</th>\n",
       "      <td>6040</td>\n",
       "      <td>platoon (1986)</td>\n",
       "      <td>3</td>\n",
       "    </tr>\n",
       "    <tr>\n",
       "      <th>836474</th>\n",
       "      <td>6040</td>\n",
       "      <td>crying game, the (1992)</td>\n",
       "      <td>5</td>\n",
       "    </tr>\n",
       "    <tr>\n",
       "      <th>836475</th>\n",
       "      <td>6040</td>\n",
       "      <td>welcome to the dollhouse (1995)</td>\n",
       "      <td>5</td>\n",
       "    </tr>\n",
       "    <tr>\n",
       "      <th>836476</th>\n",
       "      <td>6040</td>\n",
       "      <td>sophie's choice (1982)</td>\n",
       "      <td>4</td>\n",
       "    </tr>\n",
       "    <tr>\n",
       "      <th>836477</th>\n",
       "      <td>6040</td>\n",
       "      <td>e.t. the extra-terrestrial (1982)</td>\n",
       "      <td>4</td>\n",
       "    </tr>\n",
       "    <tr>\n",
       "      <th>0</th>\n",
       "      <td>jimin</td>\n",
       "      <td>american beauty (1999)</td>\n",
       "      <td>3</td>\n",
       "    </tr>\n",
       "    <tr>\n",
       "      <th>1</th>\n",
       "      <td>jimin</td>\n",
       "      <td>matrix, the (1999)</td>\n",
       "      <td>3</td>\n",
       "    </tr>\n",
       "    <tr>\n",
       "      <th>2</th>\n",
       "      <td>jimin</td>\n",
       "      <td>sixth sense, the (1999)</td>\n",
       "      <td>3</td>\n",
       "    </tr>\n",
       "    <tr>\n",
       "      <th>3</th>\n",
       "      <td>jimin</td>\n",
       "      <td>men in black (1997)</td>\n",
       "      <td>3</td>\n",
       "    </tr>\n",
       "    <tr>\n",
       "      <th>4</th>\n",
       "      <td>jimin</td>\n",
       "      <td>toy story (1995)</td>\n",
       "      <td>3</td>\n",
       "    </tr>\n",
       "  </tbody>\n",
       "</table>\n",
       "</div>"
      ],
      "text/plain": [
       "       user_id                              title  counts\n",
       "836473    6040                     platoon (1986)       3\n",
       "836474    6040            crying game, the (1992)       5\n",
       "836475    6040    welcome to the dollhouse (1995)       5\n",
       "836476    6040             sophie's choice (1982)       4\n",
       "836477    6040  e.t. the extra-terrestrial (1982)       4\n",
       "0        jimin             american beauty (1999)       3\n",
       "1        jimin                 matrix, the (1999)       3\n",
       "2        jimin            sixth sense, the (1999)       3\n",
       "3        jimin                men in black (1997)       3\n",
       "4        jimin                   toy story (1995)       3"
      ]
     },
     "execution_count": 19,
     "metadata": {},
     "output_type": "execute_result"
    }
   ],
   "source": [
    "my_favorite = ['american beauty (1999)',\n",
    "               'matrix, the (1999)',\n",
    "               'sixth sense, the (1999)',\n",
    "               'men in black (1997)',\n",
    "               'toy story (1995)']\n",
    "\n",
    "# 'jimin'이라는 user_id가 위의 영화를 3회씩 봤다고 가정\n",
    "my_playlist = pd.DataFrame({'user_id': ['jimin']*5, 'title': my_favorite, 'counts':[3]*5})\n",
    "\n",
    "if not df.isin({'user_id':['jimin']})['user_id'].any():  \n",
    "    df = df.append(my_playlist)                           \n",
    "\n",
    "df.tail(10)       "
   ]
  },
  {
   "cell_type": "markdown",
   "id": "f1aa6ff3",
   "metadata": {},
   "source": [
    "# Step 4. CSR matrix를 직접 만들어 보기"
   ]
  },
  {
   "cell_type": "markdown",
   "id": "7d208334",
   "metadata": {},
   "source": [
    "### indexing 작업"
   ]
  },
  {
   "cell_type": "code",
   "execution_count": 20,
   "id": "85b118ef",
   "metadata": {},
   "outputs": [
    {
     "name": "stdout",
     "output_type": "stream",
     "text": [
      "6039\n"
     ]
    }
   ],
   "source": [
    "# 고유한 유저, 타이틀를 찾아내는 코드\n",
    "user_unique = df['user_id'].unique()\n",
    "title_unique = df['title'].unique()\n",
    "\n",
    "# 유저,타이틀 indexing 하는 코드 \n",
    "user_to_idx = {v:k for k,v in enumerate(user_unique)}\n",
    "title_to_idx = {v:k for k,v in enumerate(title_unique)}\n",
    "\n",
    "# 인덱싱이 잘 되었는지 확인\n",
    "print(user_to_idx['jimin'])    "
   ]
  },
  {
   "cell_type": "code",
   "execution_count": 21,
   "id": "20367cb2",
   "metadata": {
    "scrolled": false
   },
   "outputs": [
    {
     "name": "stdout",
     "output_type": "stream",
     "text": [
      "user_id column indexing OK!!\n",
      "title column indexing OK!!\n"
     ]
    },
    {
     "data": {
      "text/html": [
       "<div>\n",
       "<style scoped>\n",
       "    .dataframe tbody tr th:only-of-type {\n",
       "        vertical-align: middle;\n",
       "    }\n",
       "\n",
       "    .dataframe tbody tr th {\n",
       "        vertical-align: top;\n",
       "    }\n",
       "\n",
       "    .dataframe thead th {\n",
       "        text-align: right;\n",
       "    }\n",
       "</style>\n",
       "<table border=\"1\" class=\"dataframe\">\n",
       "  <thead>\n",
       "    <tr style=\"text-align: right;\">\n",
       "      <th></th>\n",
       "      <th>user_id</th>\n",
       "      <th>title</th>\n",
       "      <th>counts</th>\n",
       "    </tr>\n",
       "  </thead>\n",
       "  <tbody>\n",
       "    <tr>\n",
       "      <th>0</th>\n",
       "      <td>0</td>\n",
       "      <td>0</td>\n",
       "      <td>5</td>\n",
       "    </tr>\n",
       "    <tr>\n",
       "      <th>1</th>\n",
       "      <td>0</td>\n",
       "      <td>1</td>\n",
       "      <td>3</td>\n",
       "    </tr>\n",
       "    <tr>\n",
       "      <th>2</th>\n",
       "      <td>0</td>\n",
       "      <td>2</td>\n",
       "      <td>3</td>\n",
       "    </tr>\n",
       "    <tr>\n",
       "      <th>3</th>\n",
       "      <td>0</td>\n",
       "      <td>3</td>\n",
       "      <td>4</td>\n",
       "    </tr>\n",
       "    <tr>\n",
       "      <th>4</th>\n",
       "      <td>0</td>\n",
       "      <td>4</td>\n",
       "      <td>5</td>\n",
       "    </tr>\n",
       "    <tr>\n",
       "      <th>...</th>\n",
       "      <td>...</td>\n",
       "      <td>...</td>\n",
       "      <td>...</td>\n",
       "    </tr>\n",
       "    <tr>\n",
       "      <th>0</th>\n",
       "      <td>6039</td>\n",
       "      <td>99</td>\n",
       "      <td>3</td>\n",
       "    </tr>\n",
       "    <tr>\n",
       "      <th>1</th>\n",
       "      <td>6039</td>\n",
       "      <td>124</td>\n",
       "      <td>3</td>\n",
       "    </tr>\n",
       "    <tr>\n",
       "      <th>2</th>\n",
       "      <td>6039</td>\n",
       "      <td>38</td>\n",
       "      <td>3</td>\n",
       "    </tr>\n",
       "    <tr>\n",
       "      <th>3</th>\n",
       "      <td>6039</td>\n",
       "      <td>175</td>\n",
       "      <td>3</td>\n",
       "    </tr>\n",
       "    <tr>\n",
       "      <th>4</th>\n",
       "      <td>6039</td>\n",
       "      <td>40</td>\n",
       "      <td>3</td>\n",
       "    </tr>\n",
       "  </tbody>\n",
       "</table>\n",
       "<p>836483 rows × 3 columns</p>\n",
       "</div>"
      ],
      "text/plain": [
       "    user_id  title  counts\n",
       "0         0      0       5\n",
       "1         0      1       3\n",
       "2         0      2       3\n",
       "3         0      3       4\n",
       "4         0      4       5\n",
       "..      ...    ...     ...\n",
       "0      6039     99       3\n",
       "1      6039    124       3\n",
       "2      6039     38       3\n",
       "3      6039    175       3\n",
       "4      6039     40       3\n",
       "\n",
       "[836483 rows x 3 columns]"
      ]
     },
     "execution_count": 21,
     "metadata": {},
     "output_type": "execute_result"
    }
   ],
   "source": [
    "# indexing을 통해 데이터 컬럼 내 값을 바꾸는 코드\n",
    "\n",
    "# user_to_idx.get을 통해 user_id 컬럼의 모든 값을 인덱싱한 Series를 구해 봅시다. \n",
    "# 혹시 정상적으로 인덱싱되지 않은 row가 있다면 인덱스가 NaN이 될 테니 dropna()로 제거합니다. \n",
    "temp_user_data = df['user_id'].map(user_to_idx.get).dropna()\n",
    "if len(temp_user_data) == len(df):   # 모든 row가 정상적으로 인덱싱되었다면\n",
    "    print('user_id column indexing OK!!')\n",
    "    df['user_id'] = temp_user_data   # data['user_id']을 인덱싱된 Series로 교체해 줍니다. \n",
    "else:\n",
    "    print('user_id column indexing Fail!!')\n",
    "    \n",
    "# temp_title_data을 통해 title 컬럼도 동일한 방식으로 인덱싱해 줍니다. \n",
    "temp_title_data = df['title'].map(title_to_idx.get).dropna()\n",
    "if len(temp_title_data) == len(df):\n",
    "    print('title column indexing OK!!')\n",
    "    df['title'] = temp_title_data\n",
    "else:\n",
    "    print('title column indexing Fail!!')\n",
    "\n",
    "\n",
    "df"
   ]
  },
  {
   "cell_type": "markdown",
   "id": "55d6e5fa",
   "metadata": {},
   "source": [
    "### CSR matrix만들기"
   ]
  },
  {
   "cell_type": "code",
   "execution_count": 22,
   "id": "4e7241cf",
   "metadata": {
    "scrolled": true
   },
   "outputs": [
    {
     "data": {
      "text/plain": [
       "<6040x3628 sparse matrix of type '<class 'numpy.int64'>'\n",
       "\twith 836483 stored elements in Compressed Sparse Row format>"
      ]
     },
     "execution_count": 22,
     "metadata": {},
     "output_type": "execute_result"
    }
   ],
   "source": [
    "from scipy.sparse import csr_matrix\n",
    "\n",
    "num_user = df['user_id'].nunique()\n",
    "num_movie = df['title'].nunique()\n",
    "\n",
    "csr_data = csr_matrix((df.counts, (df.user_id, df.title)), shape= (num_user, num_movie))\n",
    "csr_data"
   ]
  },
  {
   "cell_type": "code",
   "execution_count": 23,
   "id": "702fd532",
   "metadata": {
    "scrolled": true
   },
   "outputs": [
    {
     "name": "stdout",
     "output_type": "stream",
     "text": [
      "6040 3628\n"
     ]
    }
   ],
   "source": [
    "print(num_user, num_movie)"
   ]
  },
  {
   "cell_type": "markdown",
   "id": "6f745b41",
   "metadata": {},
   "source": [
    "# Step 5. als_model = AlternatingLeastSquares 모델을 직접 구성하여 훈련시켜 보기\n",
    "implicit패키지 사용하기\n",
    "\n",
    "- implicit 패키지: 암묵적(implicit) dataset을 사용하는 다양한 모델을 굉장히 빠르게 학습할 수 있는 패키지\n",
    "- als (AlternatingLeastSquares): MF에서 쪼개진 두 Feature Matrix를 한꺼번에 훈련하는 것은 잘 수렴하지 않기 때문에, 한쪽을 고정시키고 다른 쪽을 학습하는 방식을 번갈아 수행하는 방식"
   ]
  },
  {
   "cell_type": "code",
   "execution_count": 24,
   "id": "5223e4cd",
   "metadata": {},
   "outputs": [],
   "source": [
    "from implicit.als import AlternatingLeastSquares\n",
    "import os\n",
    "import numpy as np\n",
    "\n",
    "# implicit 라이브러리에서 권장하고 있는 부분입니다. 학습 내용과는 무관\n",
    "os.environ['OPENBLAS_NUM_THREADS']='1'\n",
    "os.environ['KMP_DUPLICATE_LIB_OK']='True'\n",
    "os.environ['MKL_NUM_THREADS']='1'"
   ]
  },
  {
   "cell_type": "markdown",
   "id": "f88615d4",
   "metadata": {},
   "source": [
    "### 모델 선언\n",
    "AlternatingLeastSquares클래스의 __init__파라미터\n",
    "\n",
    "- factors : 유저와 아이템의 벡터를 몇 차원으로 할 것인지\n",
    "- regularization : 과적합을 방지하기 위해 정규화 값을 얼마나 사용할 것인지\n",
    "- use_gpu : GPU를 사용할 것인지\n",
    "- iterations : epochs와 같은 의미, 데이터를 몇 번 반복해서 학습할 것인지"
   ]
  },
  {
   "cell_type": "code",
   "execution_count": 25,
   "id": "9706c952",
   "metadata": {},
   "outputs": [],
   "source": [
    "# Implicit AlternatingLeastSquares 모델의 선언\n",
    "als_model = AlternatingLeastSquares(factors=100,\n",
    "                                    regularization=0.01,\n",
    "                                    use_gpu=False,\n",
    "                                    iterations=15,\n",
    "                                    dtype=np.float32)"
   ]
  },
  {
   "cell_type": "code",
   "execution_count": 26,
   "id": "87104aa6",
   "metadata": {
    "scrolled": true
   },
   "outputs": [
    {
     "data": {
      "text/plain": [
       "<3628x6040 sparse matrix of type '<class 'numpy.int64'>'\n",
       "\twith 836483 stored elements in Compressed Sparse Column format>"
      ]
     },
     "execution_count": 26,
     "metadata": {},
     "output_type": "execute_result"
    }
   ],
   "source": [
    "# als 모델은 input으로 (item X user 꼴의 matrix를 받기 때문에 Transpose해줍니다.)\n",
    "csr_data_transpose = csr_data.T\n",
    "csr_data_transpose"
   ]
  },
  {
   "cell_type": "markdown",
   "id": "e4ba0c0b",
   "metadata": {},
   "source": [
    "### 모델 훈련"
   ]
  },
  {
   "cell_type": "code",
   "execution_count": 27,
   "id": "47adc6ea",
   "metadata": {
    "scrolled": true
   },
   "outputs": [
    {
     "data": {
      "application/vnd.jupyter.widget-view+json": {
       "model_id": "a92fc3cce68546498ebf16b01428d6a1",
       "version_major": 2,
       "version_minor": 0
      },
      "text/plain": [
       "  0%|          | 0/15 [00:00<?, ?it/s]"
      ]
     },
     "metadata": {},
     "output_type": "display_data"
    }
   ],
   "source": [
    "# 모델 훈련\n",
    "als_model.fit(csr_data_transpose)"
   ]
  },
  {
   "cell_type": "markdown",
   "id": "5c657442",
   "metadata": {},
   "source": [
    "# Step 6. 내가 선호하는 5가지 영화 중 하나와 그 외의 영화 하나를 골라 훈련된 모델이 예측한 나의 선호도 파악"
   ]
  },
  {
   "cell_type": "markdown",
   "id": "8bd8f8f8",
   "metadata": {},
   "source": [
    "### 훈련된 벡터 확인\n",
    "- jimin 벡터와 american beauty의 벡터를 어떻게 만들고 있는지\n",
    "- 두 벡터를 곱하면 어떤 값이 나오는 지"
   ]
  },
  {
   "cell_type": "code",
   "execution_count": 35,
   "id": "bb87d9f6",
   "metadata": {},
   "outputs": [],
   "source": [
    "jimin, american_beauty = user_to_idx['jimin'], title_to_idx['american beauty (1999)']\n",
    "jimin_vector, american_beauty_vector = als_model.user_factors[jimin], als_model.item_factors[american_beauty]"
   ]
  },
  {
   "cell_type": "code",
   "execution_count": 34,
   "id": "11d07794",
   "metadata": {
    "scrolled": false
   },
   "outputs": [
    {
     "data": {
      "text/plain": [
       "array([-0.5620288 , -0.3321715 , -0.470571  , -0.02560466, -0.38638577,\n",
       "        0.10654359,  0.37115192, -0.21817039, -0.07924775, -0.02397361,\n",
       "        0.00441864, -0.28401205, -0.05454424, -0.15182243, -0.09233445,\n",
       "        0.0269881 ,  0.12320386,  0.32366866,  0.42046142, -0.03417464,\n",
       "       -0.43339932,  0.09828121, -0.82396495, -0.50428486, -0.21794137,\n",
       "       -0.7503733 ,  0.32609007,  0.9327339 ,  0.8297641 ,  1.0334305 ,\n",
       "        0.3879757 ,  0.16795668, -0.4043372 , -1.0293367 ,  0.31358778,\n",
       "       -0.349853  ,  0.19248666,  0.55412734,  0.7011725 , -0.06864824,\n",
       "        0.09163382, -0.13739684,  0.25974357, -0.36661413,  0.16540368,\n",
       "        0.02758536, -0.42321998,  0.25340492, -0.16235055, -0.12517361,\n",
       "        0.04395785,  0.08882964,  0.35991657,  0.81146735,  0.02557564,\n",
       "        0.30869868, -0.42161354, -0.4264734 ,  0.26426762,  0.39786386,\n",
       "       -0.32268512, -0.5740247 ,  0.9085503 , -0.20478831,  0.5459317 ,\n",
       "        0.24974965,  0.285974  ,  0.10397724,  0.7040491 ,  0.14543828,\n",
       "        0.3684019 , -0.51480037,  0.14805974, -0.48624808, -0.0377694 ,\n",
       "       -0.43289405, -0.4422429 ,  0.05592788,  0.6238746 ,  0.19764328,\n",
       "       -0.501973  ,  0.46538144, -0.11092559, -0.19956109, -0.49636555,\n",
       "        0.19882946, -0.6050112 ,  0.4087956 ,  0.29265958,  0.13818866,\n",
       "        0.29658827, -0.44894066,  0.35320243, -0.24444376,  0.11180418,\n",
       "        0.08242668, -0.38768166,  0.32980666, -0.12054802, -0.03062964],\n",
       "      dtype=float32)"
      ]
     },
     "execution_count": 34,
     "metadata": {},
     "output_type": "execute_result"
    }
   ],
   "source": [
    "jimin_vector"
   ]
  },
  {
   "cell_type": "code",
   "execution_count": 36,
   "id": "dfb5d237",
   "metadata": {
    "scrolled": false
   },
   "outputs": [
    {
     "data": {
      "text/plain": [
       "array([-0.01870267,  0.0051495 ,  0.00584507, -0.00868476,  0.00607705,\n",
       "        0.00588508, -0.00677337,  0.00917711,  0.02186581, -0.00221474,\n",
       "        0.02736012, -0.03557993,  0.02618803,  0.02275003, -0.02965786,\n",
       "       -0.02244477,  0.00372587,  0.0331361 ,  0.01098518, -0.00340004,\n",
       "       -0.02099659,  0.0310675 , -0.02664924, -0.02845267,  0.01507611,\n",
       "       -0.04298526,  0.02015938,  0.02309335,  0.03147266,  0.01637109,\n",
       "        0.00124916, -0.01320861, -0.05018009, -0.0256887 ,  0.00111552,\n",
       "        0.00213232, -0.01761759,  0.03163189,  0.0385392 ,  0.03004484,\n",
       "       -0.02620233,  0.03137438,  0.01326573, -0.02953386, -0.01842892,\n",
       "       -0.02322426, -0.03560068,  0.01595242, -0.02745167, -0.01790163,\n",
       "        0.00464485,  0.03175325,  0.00378722,  0.00936243, -0.01346144,\n",
       "        0.00807423, -0.00957995,  0.01119101,  0.0302101 ,  0.03445131,\n",
       "       -0.00879731, -0.01747404,  0.05289544, -0.02436372,  0.03046355,\n",
       "        0.03649105, -0.00435538,  0.00726703,  0.01380636, -0.01083832,\n",
       "        0.02642529, -0.0218839 ,  0.04245506,  0.00074373,  0.00749529,\n",
       "       -0.03019063,  0.01640918,  0.00353744,  0.02639782,  0.03381432,\n",
       "        0.00274469,  0.03455761,  0.00994019, -0.0162638 ,  0.00426181,\n",
       "        0.03114162, -0.0053418 ,  0.00958806,  0.00915628, -0.01397063,\n",
       "        0.02113862,  0.01388774,  0.03860141, -0.01830275,  0.01912175,\n",
       "        0.01348458, -0.04639849,  0.05136279,  0.01183958,  0.01158912],\n",
       "      dtype=float32)"
      ]
     },
     "execution_count": 36,
     "metadata": {},
     "output_type": "execute_result"
    }
   ],
   "source": [
    "american_beauty_vector"
   ]
  },
  {
   "cell_type": "code",
   "execution_count": 37,
   "id": "d3026288",
   "metadata": {
    "scrolled": true
   },
   "outputs": [
    {
     "data": {
      "text/plain": [
       "0.5572785"
      ]
     },
     "execution_count": 37,
     "metadata": {},
     "output_type": "execute_result"
    }
   ],
   "source": [
    "# zimin과 black_eyed_peas를 내적하는 코드\n",
    "np.dot(jimin_vector, american_beauty_vector)"
   ]
  },
  {
   "cell_type": "markdown",
   "id": "ff3ff766",
   "metadata": {},
   "source": [
    "### 보지 못한 영화 데이터에 대한 선호도 예측\n",
    "- 터미네이터"
   ]
  },
  {
   "cell_type": "code",
   "execution_count": 39,
   "id": "451de628",
   "metadata": {},
   "outputs": [
    {
     "data": {
      "text/plain": [
       "0.4362444"
      ]
     },
     "execution_count": 39,
     "metadata": {},
     "output_type": "execute_result"
    }
   ],
   "source": [
    "terminator = title_to_idx['terminator 2: judgment day (1991)']\n",
    "terminator_vector = als_model.item_factors[terminator]\n",
    "np.dot(jimin_vector, terminator_vector)"
   ]
  },
  {
   "cell_type": "markdown",
   "id": "80098434",
   "metadata": {},
   "source": [
    "# Step 7. 내가 좋아하는 영화와 비슷한 영화를 추천 받아보기"
   ]
  },
  {
   "cell_type": "markdown",
   "id": "c330915f",
   "metadata": {},
   "source": [
    "### 비슷한 영화 추천 받기\n",
    "- (movie_id, 유사도)"
   ]
  },
  {
   "cell_type": "code",
   "execution_count": 45,
   "id": "ef4b795a",
   "metadata": {},
   "outputs": [],
   "source": [
    "idx_to_title = {v:k for k,v in title_to_idx.items()}"
   ]
  },
  {
   "cell_type": "code",
   "execution_count": 60,
   "id": "dfa7a248",
   "metadata": {},
   "outputs": [],
   "source": [
    "def get_similar_movie(movie_name: str):\n",
    "    movie_id = title_to_idx[movie_name]\n",
    "    similar_movie = als_model.similar_items(movie_id)\n",
    "    similar_movie = [idx_to_title[i[0]] for i in similar_movie]\n",
    "    return similar_movie"
   ]
  },
  {
   "cell_type": "code",
   "execution_count": 61,
   "id": "4d204d6b",
   "metadata": {},
   "outputs": [
    {
     "data": {
      "text/plain": [
       "['ghostbusters (1984)',\n",
       " 'who framed roger rabbit? (1988)',\n",
       " \"ferris bueller's day off (1986)\",\n",
       " 'back to the future (1985)',\n",
       " 'big (1988)',\n",
       " 'beetlejuice (1988)',\n",
       " 'fish called wanda, a (1988)',\n",
       " 'airplane! (1980)',\n",
       " 'bull durham (1988)',\n",
       " 'gremlins (1984)']"
      ]
     },
     "execution_count": 61,
     "metadata": {},
     "output_type": "execute_result"
    }
   ],
   "source": [
    "get_similar_movie('ghostbusters (1984)')"
   ]
  },
  {
   "cell_type": "markdown",
   "id": "7ac7d15a",
   "metadata": {},
   "source": [
    "# Step 8. 내가 가장 좋아할 만한 영화들을 추천 받아보기"
   ]
  },
  {
   "cell_type": "markdown",
   "id": "fead81a6",
   "metadata": {},
   "source": [
    "### user에게 영화 추천하기"
   ]
  },
  {
   "cell_type": "code",
   "execution_count": 48,
   "id": "665fd6c0",
   "metadata": {},
   "outputs": [
    {
     "data": {
      "text/plain": [
       "[(92, 0.43624437),\n",
       " (107, 0.4009194),\n",
       " (170, 0.34761345),\n",
       " (50, 0.3417632),\n",
       " (126, 0.28365567),\n",
       " (60, 0.27696043),\n",
       " (121, 0.26365232),\n",
       " (160, 0.25314593),\n",
       " (141, 0.24972682),\n",
       " (110, 0.23808624),\n",
       " (62, 0.23113385),\n",
       " (670, 0.23030472),\n",
       " (48, 0.22947189),\n",
       " (87, 0.220405),\n",
       " (64, 0.21874705),\n",
       " (271, 0.21615037),\n",
       " (44, 0.20165431),\n",
       " (51, 0.19135347),\n",
       " (22, 0.18774277),\n",
       " (273, 0.1767576)]"
      ]
     },
     "execution_count": 48,
     "metadata": {},
     "output_type": "execute_result"
    }
   ],
   "source": [
    "user = user_to_idx['jimin']\n",
    "# recommend에서는 user*item CSR Matrix를 받습니다.\n",
    "movie_recommended = als_model.recommend(user, csr_data, N=20, filter_already_liked_items=True)\n",
    "movie_recommended"
   ]
  },
  {
   "cell_type": "code",
   "execution_count": 64,
   "id": "047c869a",
   "metadata": {
    "scrolled": true
   },
   "outputs": [
    {
     "data": {
      "text/plain": [
       "['terminator 2: judgment day (1991)',\n",
       " 'jurassic park (1993)',\n",
       " 'being john malkovich (1999)',\n",
       " 'toy story 2 (1999)',\n",
       " 'shakespeare in love (1998)',\n",
       " 'star wars: episode i - the phantom menace (1999)',\n",
       " 'silence of the lambs, the (1991)',\n",
       " 'forrest gump (1994)',\n",
       " 'fugitive, the (1993)',\n",
       " 'groundhog day (1993)',\n",
       " 'total recall (1990)',\n",
       " 'galaxy quest (1999)',\n",
       " 'saving private ryan (1998)',\n",
       " 'braveheart (1995)',\n",
       " 'star wars: episode vi - return of the jedi (1983)',\n",
       " 'election (1999)',\n",
       " 'star wars: episode iv - a new hope (1977)',\n",
       " 'fargo (1996)',\n",
       " 'back to the future (1985)',\n",
       " 'fight club (1999)']"
      ]
     },
     "execution_count": 64,
     "metadata": {},
     "output_type": "execute_result"
    }
   ],
   "source": [
    "recommend_list = [idx_to_title[i[0]] for i in movie_recommended]\n",
    "recommend_list"
   ]
  },
  {
   "cell_type": "markdown",
   "id": "4cffe515",
   "metadata": {},
   "source": [
    "### 기여도 확인하기"
   ]
  },
  {
   "cell_type": "code",
   "execution_count": 72,
   "id": "4279944b",
   "metadata": {},
   "outputs": [],
   "source": [
    "def explain_rec(title):\n",
    "    movie_id = title_to_idx[title]\n",
    "    explain = als_model.explain(user, csr_data, itemid=movie_id)\n",
    "    return [(idx_to_title[i[0]], i[1]) for i in explain[1]]"
   ]
  },
  {
   "cell_type": "code",
   "execution_count": 76,
   "id": "b2d2dd0e",
   "metadata": {
    "scrolled": false
   },
   "outputs": [
    {
     "name": "stdout",
     "output_type": "stream",
     "text": [
      "\n",
      " terminator 2: judgment day (1991)\n",
      "('matrix, the (1999)', 0.19213259809854372)\n",
      "('men in black (1997)', 0.14951537833135078)\n",
      "('sixth sense, the (1999)', 0.040538752872259914)\n",
      "('american beauty (1999)', 0.02677621899128993)\n",
      "('toy story (1995)', 0.020442154399288898)\n",
      "\n",
      " jurassic park (1993)\n",
      "('men in black (1997)', 0.23496304370258073)\n",
      "('matrix, the (1999)', 0.1117330548452071)\n",
      "('american beauty (1999)', 0.04364302646249446)\n",
      "('sixth sense, the (1999)', 0.02835575237588913)\n",
      "('toy story (1995)', -0.02344710226001663)\n",
      "\n",
      " being john malkovich (1999)\n",
      "('american beauty (1999)', 0.2525968691176892)\n",
      "('sixth sense, the (1999)', 0.1150986355779332)\n",
      "('toy story (1995)', 0.029354553379260254)\n",
      "('matrix, the (1999)', -0.013690668480403706)\n",
      "('men in black (1997)', -0.04091648468990499)\n",
      "\n",
      " toy story 2 (1999)\n",
      "('toy story (1995)', 0.31598505987356545)\n",
      "('sixth sense, the (1999)', 0.03179803432847853)\n",
      "('matrix, the (1999)', 0.004988487392346569)\n",
      "('american beauty (1999)', -0.0030006347018830875)\n",
      "('men in black (1997)', -0.016500179391749765)\n",
      "\n",
      " shakespeare in love (1998)\n",
      "('american beauty (1999)', 0.11587419614207417)\n",
      "('toy story (1995)', 0.08262378056236212)\n",
      "('sixth sense, the (1999)', 0.058225720121696356)\n",
      "('men in black (1997)', 0.01309364022783)\n",
      "('matrix, the (1999)', 0.008312437148134783)\n",
      "\n",
      " star wars: episode i - the phantom menace (1999)\n",
      "('men in black (1997)', 0.0863694350442617)\n",
      "('sixth sense, the (1999)', 0.07187639635295837)\n",
      "('american beauty (1999)', 0.054325082234792446)\n",
      "('matrix, the (1999)', 0.047992333492273116)\n",
      "('toy story (1995)', 0.010058830293764063)\n",
      "\n",
      " silence of the lambs, the (1991)\n",
      "('sixth sense, the (1999)', 0.10669022182172422)\n",
      "('american beauty (1999)', 0.09117740880661489)\n",
      "('matrix, the (1999)', 0.0495488904999949)\n",
      "('toy story (1995)', 0.010384927047114122)\n",
      "('men in black (1997)', 0.003648667986781536)\n",
      "\n",
      " forrest gump (1994)\n",
      "('sixth sense, the (1999)', 0.09392588595125842)\n",
      "('toy story (1995)', 0.07079763029253229)\n",
      "('american beauty (1999)', 0.04411449943807155)\n",
      "('men in black (1997)', 0.03050197296021974)\n",
      "('matrix, the (1999)', 0.011841492825634879)\n",
      "\n",
      " fugitive, the (1993)\n",
      "('matrix, the (1999)', 0.12027060333344113)\n",
      "('sixth sense, the (1999)', 0.08033057185864323)\n",
      "('toy story (1995)', 0.05314184695950516)\n",
      "('men in black (1997)', 0.02126876302026652)\n",
      "('american beauty (1999)', -0.028220109838827542)\n",
      "\n",
      " groundhog day (1993)\n",
      "('toy story (1995)', 0.10031337019449307)\n",
      "('sixth sense, the (1999)', 0.04418176417093447)\n",
      "('american beauty (1999)', 0.04256902686713854)\n",
      "('men in black (1997)', 0.025280852866262558)\n",
      "('matrix, the (1999)', 0.022638633855425673)\n",
      "\n",
      " total recall (1990)\n",
      "('men in black (1997)', 0.1325993153035435)\n",
      "('matrix, the (1999)', 0.1274790196642585)\n",
      "('sixth sense, the (1999)', 0.0020213493648066523)\n",
      "('toy story (1995)', -0.008449787550157259)\n",
      "('american beauty (1999)', -0.02577085527725547)\n",
      "\n",
      " galaxy quest (1999)\n",
      "('men in black (1997)', 0.11278885555817039)\n",
      "('sixth sense, the (1999)', 0.07887727621678141)\n",
      "('toy story (1995)', 0.029252944654707208)\n",
      "('american beauty (1999)', 0.00498885135850789)\n",
      "('matrix, the (1999)', 0.0002968721748657576)\n",
      "\n",
      " saving private ryan (1998)\n",
      "('american beauty (1999)', 0.08348425984517037)\n",
      "('matrix, the (1999)', 0.0785514890663386)\n",
      "('toy story (1995)', 0.055586648314871506)\n",
      "('sixth sense, the (1999)', 0.007147871315686532)\n",
      "('men in black (1997)', 0.0014583206830733305)\n",
      "\n",
      " braveheart (1995)\n",
      "('matrix, the (1999)', 0.09204234387327155)\n",
      "('american beauty (1999)', 0.07403646811713704)\n",
      "('men in black (1997)', 0.07012888154074105)\n",
      "('toy story (1995)', 0.02491235988076035)\n",
      "('sixth sense, the (1999)', -0.04512652918720575)\n",
      "\n",
      " star wars: episode vi - return of the jedi (1983)\n",
      "('american beauty (1999)', 0.08625090797033597)\n",
      "('matrix, the (1999)', 0.0607804797569949)\n",
      "('men in black (1997)', 0.04868832655420964)\n",
      "('sixth sense, the (1999)', 0.030114029033833145)\n",
      "('toy story (1995)', -0.012270262932011403)\n",
      "\n",
      " election (1999)\n",
      "('american beauty (1999)', 0.1277190971631868)\n",
      "('toy story (1995)', 0.05845517554379757)\n",
      "('sixth sense, the (1999)', 0.035403606242827776)\n",
      "('matrix, the (1999)', 0.005373019398916031)\n",
      "('men in black (1997)', -0.01602790596708639)\n",
      "\n",
      " star wars: episode iv - a new hope (1977)\n",
      "('matrix, the (1999)', 0.088581650378176)\n",
      "('american beauty (1999)', 0.06822158101070383)\n",
      "('men in black (1997)', 0.02962292414819105)\n",
      "('sixth sense, the (1999)', 0.007843864718372548)\n",
      "('toy story (1995)', 0.0026289644256976396)\n",
      "\n",
      " fargo (1996)\n",
      "('american beauty (1999)', 0.09545481976904664)\n",
      "('sixth sense, the (1999)', 0.06497698615275752)\n",
      "('men in black (1997)', 0.03338237358934342)\n",
      "('matrix, the (1999)', 0.011513405746306502)\n",
      "('toy story (1995)', -0.014509803988776049)\n",
      "\n",
      " back to the future (1985)\n",
      "('american beauty (1999)', 0.051398550253944825)\n",
      "('toy story (1995)', 0.04441228180903416)\n",
      "('sixth sense, the (1999)', 0.042229857932832085)\n",
      "('matrix, the (1999)', 0.03682696905119588)\n",
      "('men in black (1997)', 0.010679306812253908)\n",
      "\n",
      " fight club (1999)\n",
      "('sixth sense, the (1999)', 0.0947579537659761)\n",
      "('american beauty (1999)', 0.056297655833132454)\n",
      "('matrix, the (1999)', 0.027088879666107447)\n",
      "('toy story (1995)', 0.007475073974669927)\n",
      "('men in black (1997)', -0.010518797686963552)\n"
     ]
    }
   ],
   "source": [
    "for title in recommend_list:\n",
    "    print('\\n',title)\n",
    "    list = explain_rec(title)\n",
    "    for li in list:\n",
    "        print(li)"
   ]
  },
  {
   "cell_type": "markdown",
   "id": "9f51f3b1",
   "metadata": {},
   "source": [
    "___\n",
    "# 프로젝트 정리 "
   ]
  },
  {
   "cell_type": "markdown",
   "id": "fb8de4e6",
   "metadata": {},
   "source": [
    "## 회고\n",
    "- 어제 fundamental노드로 추천시스템을 배웠을때 흥미로웠는데 실습적인 부분이 아쉬웠습니다. 근데 오늘 실습을 통해 추천시스템을 더욱 잘 이해한것 같고 재미있었습니다.\n",
    "- 또한 내가 좋아하는 영화를 잘 추천해준것도 신기한데 나의 어떤 부분에서 이것을 추천해줬는지(explain)를 알려주어서 신기했습니다\n",
    "\n",
    "## 결과\n",
    "- 마지막에 추천해준 것들을 분석한 결과 \n",
    "\n",
    "추천영화| american beauty|sixth sense|matrix|toy story|men in black\n",
    "---|---|---|---|---|---|\n",
    "terminator 2: judgment day (1991)|0.02677621899128993|0.040538752872259914|0.19213259809854372|0.020442154399288898|0.14951537833135078\n",
    "jurassic park (1993)|0.04364302646249446|0.02835575237588913|0.1117330548452071|-0.02344710226001663|0.23496304370258073\n",
    " being john malkovich (1999)|0.2525968691176892|0.1150986355779332|-0.013690668480403706|0.029354553379260254|-0.04091648468990499\n",
    "shakespeare in love (1998)|0.11587419614207417|0.058225720121696356|0.008312437148134783|0.08262378056236212|0.01309364022783\n",
    "star wars: episode i - the phantom menace (1999)|0.054325082234792446|0.07187639635295837|0.047992333492273116|0.010058830293764063|0.0863694350442617\n",
    "\n",
    "- 다음과 같이 상위 5개만 추려봤을때 유사도에 측면에서 모델이 잘 동작하는것을 확인 할 수 있었습니다."
   ]
  }
 ],
 "metadata": {
  "kernelspec": {
   "display_name": "Python 3 (ipykernel)",
   "language": "python",
   "name": "python3"
  },
  "language_info": {
   "codemirror_mode": {
    "name": "ipython",
    "version": 3
   },
   "file_extension": ".py",
   "mimetype": "text/x-python",
   "name": "python",
   "nbconvert_exporter": "python",
   "pygments_lexer": "ipython3",
   "version": "3.9.7"
  }
 },
 "nbformat": 4,
 "nbformat_minor": 5
}
